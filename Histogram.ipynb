{
 "cells": [
  {
   "cell_type": "code",
   "execution_count": 1,
   "id": "202b97be",
   "metadata": {
    "pycharm": {
     "name": "#%%\n"
    }
   },
   "outputs": [],
   "source": [
    "import pandas as pd\n",
    "import plotly.express as px \n",
    "import dash\n",
    "from dash import Dash, dcc, html, Input, Output\n",
    "import numpy as np\n",
    "\n",
    "#crear un dataframe con toda la informacion de la encuesta\n",
    "df21 = pd.read_csv ('survey/survey_results_public2021.csv', index_col = [0]) # El indice sera la columna con el ID de la respuesta\n"
   ]
  },
  {
   "cell_type": "code",
   "execution_count": 2,
   "id": "076fb3aa",
   "metadata": {
    "pycharm": {
     "name": "#%%\n"
    }
   },
   "outputs": [],
   "source": [
    "#crear un dataframe con toda la informacion de la encuesta\n",
    "df20 = pd.read_csv ('survey/survey_results_public2020.csv', index_col = [0]) # El indice sera la columna con el ID de la respuesta\n",
    "df20 #mostrar df ()\n",
    "\n",
    "#crear un nuevo df copiando solo la columna Age1stCode\n",
    "df1 = df21[['Age1stCode']]\n",
    "\n",
    "\n",
    "#normalizar todos los datos.\n",
    "df1 = df1[df1['Age1stCode'].notna()] #eliminar los nulos\n",
    "\n",
    "\n",
    "df1.loc[df1[\"Age1stCode\"] == \"Younger than 5 years\", \"Age1stCode\"] = \"04 - 04 years\" #ya hay un 05 anyos en el df. \n",
    "df1.loc[df1[\"Age1stCode\"] == \"Older than 64 years\", \"Age1stCode\"] = \"65 - 65 years\" #ya hay un 05 anyos en el df. \n",
    "df1.loc[df1[\"Age1stCode\"] == \"5 - 10 years\", \"Age1stCode\"] = \"05 - 10 years\"\n",
    "\n",
    "df3 = crime_year = pd.DataFrame(df1['Age1stCode'].value_counts().reset_index().values, columns=[\"RangoEdad\", \"count\"])\n",
    "\n",
    "#primero se seleccionan los digitos del string (la columna del df es string) y el resultado se convierte a entero\n",
    "df3[\"min\"] = df3.RangoEdad.astype(str).str[:2].astype(int) #la edad minima del rango es el primer numero\n",
    "\n",
    "#cambiar el nombre de los nuevos rangos\n",
    "df3.loc[df3[\"RangoEdad\"] == \"04 - 04 years\", \"RangoEdad\"] = \"Younger than 5 years\" #ya hay un 05 anyos en el df. \n",
    "df3.loc[df3[\"RangoEdad\"] == \"65 - 65 years\", \"RangoEdad\"] = \"Older than 64 years\" #ya hay un 05 anyos en el df. \n",
    "\n",
    "df3[\"csv\"]=2020 #anyadir una columna para diferenciar el csv\n",
    "#anyadir una columna para distingir el csv\n",
    "df3[\"csv\"] = 2021\n",
    "\n",
    "#ordenar los datos del df. \n",
    "df3.set_index('min',inplace=True)\n",
    "\n",
    "\n",
    "\n",
    "df2 = df20[['Age1stCode']]\n",
    "\n",
    "#normalizar todos los datos.\n",
    "df2 = df2[df2['Age1stCode'].notna()] #eliminar los nulos\n",
    "\n",
    "df2.loc[df2[\"Age1stCode\"] == \"Younger than 5 years\", \"Age1stCode\"] = \"4\" #ya hay un 05 anyos en el df. \n",
    "df2.loc[df2[\"Age1stCode\"] == \"Older than 85\", \"Age1stCode\"] = \"86\"\n",
    "\n",
    "df2['Age1stCode'] = df2.Age1stCode.astype(int) # toda la columna es enteros\n",
    "\n",
    "\n",
    "#dado que el corte de edad es diferente entre ambos se crean cortes para dividir los datos igual\n",
    "bins = [1, 5, 10, 18, 25, 35, 45, 55, 65, 75, 85, 86]\n",
    "df4 = pd.DataFrame(df2['Age1stCode'].value_counts(bins= bins, sort=False).reset_index().values, columns=[\"Rango\", \"count\"])\n",
    "\n",
    "df4[\"min\"] = df4.Rango.astype(str).str[6:9].astype(str) #la edad minima del rango es el primer numero\n",
    "df4.loc[df4[\"min\"] == \", 5\", \"min\"] = \"5\"  \n",
    "df4.loc[df4[\"min\"] == \"10.\", \"min\"] = \"10\" \n",
    "\n",
    "df4[\"min\"] = df4[\"min\"].astype(int)\n",
    "\n",
    "df4[\"csv\"]=2020 #anyadir una columna para diferenciar el csv\n",
    "\n",
    "df4[\"RangoEdad\"] = [\"Younger than 5 years\", \"05 - 10 years\",\n",
    "                    \"11 - 17 years\",\"18 - 24 years\",\n",
    "                    \"25 - 34 years\", \"35 - 44 years\",\n",
    "                    \"45 - 54 years\",\"55 - 64 years\",\n",
    "                    \"65 - 74 years\",\"75 - 84 years\",\n",
    "                    \"Older than 85 years\"]"
   ]
  },
  {
   "cell_type": "code",
   "execution_count": 3,
   "id": "2bd37f9d",
   "metadata": {},
   "outputs": [],
   "source": [
    "#se hace una copia del df.\n",
    "df= df21.copy()\n",
    "\n",
    "#normalizar todos los datos.\n",
    "df.loc[df[\"MainBranch\"] == \"None of these\", \"MainBranch\"] = \"Other\"\n",
    "\n",
    "#metodo antiguo. Se creaba una nueva columna y se contaban las ocurrencias\n",
    "#df['total']=1\n",
    "#df['Counts'] = df.groupby(['MainBranch'])['total'].transform('count')\n",
    "\n",
    "#nuevo metodo: usando groupby y size. \n",
    "#No tiene sentido tratar con todo el DF si tan solo se quiere tratar con los datos de una unica columna.\n",
    "df= df.groupby(['MainBranch',],as_index=False).size()\n",
    "\n",
    "#el % = valor*100 / total\n",
    "df['porcentaje'] = 100 *df['size']/ df['size'].sum()\n"
   ]
  },
  {
   "cell_type": "code",
   "execution_count": 4,
   "id": "d463b0a5",
   "metadata": {
    "pycharm": {
     "name": "#%%\n"
    }
   },
   "outputs": [],
   "source": [
    "# Initialise the app\n",
    "app = dash.Dash(__name__, assets_folder='assets/') # dash.Dash para que pueda coger el css\n",
    "server = app.server #heroku\n",
    "sidebar = html.Div(\n",
    "    children=[\n",
    "        html.H2('DASH - STACKOVERFLOW'),\n",
    "        html.P('Visualising data with Plotly - Dash.'),\n",
    "        html.P('Pick one year from the dropdown below.'),\n",
    "        html.Div(\n",
    "            className='div-user-controls',\n",
    "            children=[\n",
    "                html.Div(\n",
    "                    className='div-for-dropdown',\n",
    "                    children=[\n",
    "                        dcc.Dropdown(id=\"select_opt\",  options=[ #el usuario va a ver las label.\n",
    "                            {\"label\": \"2021\", \"value\": 2021},\n",
    "                            {\"label\": \"2020\", \"value\": 2020}],\n",
    "                                     multi=False,\n",
    "                                     value=\"2020\"\n",
    "                                     #style={'width': \"50%\"}\n",
    "                                    )\n",
    "                    ],\n",
    "                ),\n",
    "            ]\n",
    "        )\n",
    "    ],\n",
    "    style = {'position': 'fixed','left': '0px','top': '0px','bottom': '0px',\n",
    "                     'width': '329px','height': '100%','background-color': '#edeff2'}\n",
    "\n",
    "        \n",
    ")"
   ]
  },
  {
   "cell_type": "code",
   "execution_count": 5,
   "id": "bd0a5e6a",
   "metadata": {},
   "outputs": [],
   "source": [
    "content = html.Div(\n",
    "    id= \"page-content\",#className='main',\n",
    "    # aqui dentro se pueden meter mas menus para un grafico en particular. IE:\n",
    "    #children=[\n",
    "    #dcc.Dropdown(id=\"select_option\",  options=[ #el usuario va a ver las label.\n",
    "    #                    {\"label\": \"2021\", \"value\": 2021},\n",
    "    #                    {\"label\": \"2020\", \"value\": 2020}],\n",
    "    #                multi=False,\n",
    "    #                value=\"2020\",\n",
    "    #                style={'width': \"40%\"}\n",
    "    #                ),\n",
    "\n",
    "    children=[\n",
    "        html.Div(\n",
    "            className='div-for-text',\n",
    "            children=[\n",
    "                html.H2('Age - histogram'), \n",
    "                html.P('''Different age groups and their recurrence''')\n",
    "            ]\n",
    "        ),\n",
    "        html.Div(\n",
    "            className='div-for-charts',\n",
    "            children = [dcc.Graph(id='primero', figure={}) # graph container\n",
    "                       ]\n",
    "            \n",
    "        ),\n",
    "        html.Div(\n",
    "            className='div-for-text',\n",
    "            children=[\n",
    "                html.H2('Main Branch - Pie chart'), \n",
    "                html.P('''Correlation between with software development and stackoverflow users''')\n",
    "            ]\n",
    "        ),\n",
    "        html.Div(\n",
    "            className='div-for-charts',\n",
    "            children = [dcc.Graph(id='segundo', figure={})]\n",
    "            \n",
    "        ),\n",
    "        html.Div(\n",
    "            className='div-for-text',\n",
    "            children=[\n",
    "                html.H2('Main Branch - Bar char'), \n",
    "                html.P('''A basic Dashboard with Dash and Plotly, showing the adjusted price history of several car companies.''')\n",
    "            ]\n",
    "        ),\n",
    "        html.Div(\n",
    "            className='div-for-charts',\n",
    "            children = [dcc.Graph(id='tercero', figure={})]\n",
    "            \n",
    "        ),\n",
    "        \n",
    "    ],\n",
    "    style= {'height': '100%','padding-left': '329px','background-color': '#edeff2',\n",
    "            'font-family': 'Oswald, sans-serif','color': 'rgba(0, 0, 0, 0.74)',\n",
    "            'font-size': '16px','line-height': '20px'}\n",
    ")       \n",
    "\n",
    "\n",
    "# layout de los dos componentes\n",
    "app.layout = html.Div([sidebar, content])"
   ]
  },
  {
   "cell_type": "code",
   "execution_count": 6,
   "id": "46eac5cf",
   "metadata": {},
   "outputs": [],
   "source": [
    "@app.callback(\n",
    "    Output(component_id='primero', component_property='figure'),\n",
    "    Input(component_id='select_opt', component_property='value'))\n",
    "def update_graph(option_slctd):\n",
    "    #filtered_df = df[df.year == selected_year]\n",
    "    cfg = [(\"x\", \"RangoEdad\"), (\"y\", \"count\")]\n",
    "    \n",
    "    if (option_slctd == 2021): \n",
    "        fig = px.histogram(df3, **{ax: col for ax, col in cfg}, \n",
    "                           category_orders={'RangoEdad':[\"Younger than 5 years\", \n",
    "                            \"05 - 10 years\", \"11 - 17 years\", \"18 - 24 years\", \"25 - 34 years\", \"35 - 44 years\",\n",
    "                            \"45 - 54 years\", \"55 - 64 years\", \"Older than 64 years\"]},\n",
    "                          labels={\"count\":\"# Responses\", \"RangoEdad\":\"Age range\"})            \n",
    "        # 'ggplot2', 'seaborn', 'simple_white', 'plotly',\n",
    "                                  # 'plotly_white', 'plotly_dark', 'presentation',\n",
    "                                  # 'xgridoff', 'ygridoff', 'gridon', 'none')\n",
    "\n",
    "        # category_orders={'year':    \n",
    "                           # force a specific ordering of values per column\n",
    "    # [2013,2012,2011,2010,2009,2008,2007,2006,2005,2004,2003,2002,2001]},)\n",
    "    else: fig = px.histogram(df4, **{ax: col for ax, col in cfg})\n",
    "    fig.update_layout({'plot_bgcolor': 'rgba(0, 0, 0, 0)','paper_bgcolor': 'rgba(0, 0, 0, 0)',}) #fondo transparente\n",
    "    fig.update_layout(xaxis=dict(showgrid=False), yaxis=dict(showgrid=False)) #eliminar grid\n",
    "    \n",
    "    return fig\n",
    "\n",
    "\n",
    "@app.callback( #diagrama de quesito\n",
    "    Output(component_id='segundo', component_property='figure'),\n",
    "    Input(component_id='select_opt', component_property='value'))\n",
    "def update_graph(optionse):\n",
    "    fig=px.pie(data_frame=df, names=df['MainBranch'], values = df['size'],hole=.3,)\n",
    "    fig.update_layout({'plot_bgcolor': 'rgba(0, 0, 0, 0)','paper_bgcolor': 'rgba(0, 0, 0, 0)',})\n",
    "    return fig\n",
    "\n",
    "\n",
    "@app.callback( #diagrama de quesito\n",
    "    Output(component_id='tercero', component_property='figure'),\n",
    "    Input(component_id='select_opt', component_property='value'))\n",
    "def update_graph(optionse):\n",
    "    fig= px.bar(df, x= df['size'], \n",
    "                 y=df['MainBranch'], \n",
    "                 orientation = \"h\", # orientacion \"h\"/\"v\"\n",
    "                 text = df['size'],\n",
    "                labels={\"size\":\"# Responses\", \"MainBranch\":\"Main Branch\"})\n",
    "    fig.update_layout({'plot_bgcolor': 'rgba(0, 0, 0, 0)','paper_bgcolor': 'rgba(0, 0, 0, 0)',})              \n",
    "    fig.update_layout(xaxis=dict(showgrid=False), yaxis=dict(showgrid=False))\n",
    "    return fig\n"
   ]
  },
  {
   "cell_type": "code",
   "execution_count": null,
   "id": "a5a09a2c",
   "metadata": {
    "pycharm": {
     "name": "#%%\n"
    }
   },
   "outputs": [
    {
     "name": "stdout",
     "output_type": "stream",
     "text": [
      "Dash is running on http://127.0.0.1:8050/\n",
      "\n",
      " * Serving Flask app \"__main__\" (lazy loading)\n",
      " * Environment: production\n",
      "\u001b[31m   WARNING: This is a development server. Do not use it in a production deployment.\u001b[0m\n",
      "\u001b[2m   Use a production WSGI server instead.\u001b[0m\n",
      " * Debug mode: on\n"
     ]
    }
   ],
   "source": [
    "# Run the app\n",
    "if __name__ == '__main__':\n",
    "    app.run_server(debug=True, use_reloader=False)"
   ]
  },
  {
   "cell_type": "code",
   "execution_count": null,
   "id": "0c69f796",
   "metadata": {
    "pycharm": {
     "name": "#%%\n"
    }
   },
   "outputs": [],
   "source": []
  },
  {
   "cell_type": "code",
   "execution_count": null,
   "id": "88c4ae18",
   "metadata": {
    "pycharm": {
     "name": "#%%\n"
    }
   },
   "outputs": [],
   "source": []
  }
 ],
 "metadata": {
  "kernelspec": {
   "display_name": "Python 3 (ipykernel)",
   "language": "python",
   "name": "python3"
  },
  "language_info": {
   "codemirror_mode": {
    "name": "ipython",
    "version": 3
   },
   "file_extension": ".py",
   "mimetype": "text/x-python",
   "name": "python",
   "nbconvert_exporter": "python",
   "pygments_lexer": "ipython3",
   "version": "3.9.7"
  }
 },
 "nbformat": 4,
 "nbformat_minor": 5
}

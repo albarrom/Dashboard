{
 "cells": [
  {
   "cell_type": "markdown",
   "id": "521584a5",
   "metadata": {},
   "source": [
    "# Educacion vs TECHx5\n",
    "\n",
    "[sankey (go)](https://plotly.com/python/sankey-diagram/)\n",
    "\n",
    "### grafico No usado en el dashboard final \n",
    "\n",
    "## 1. importar las librerías + csv con los datos de la encuesta. "
   ]
  },
  {
   "cell_type": "code",
   "execution_count": 1,
   "id": "2f791c2a",
   "metadata": {},
   "outputs": [],
   "source": [
    "# importar librerias\n",
    "\n",
    "import pandas as pd\n",
    "import plotly.express as px  \n",
    "import plotly.graph_objects as go\n",
    "\n",
    "import webbrowser\n",
    "from threading import Timer\n",
    "import numpy as np\n",
    "import dash\n",
    "from dash import Dash, dcc, html, Input, Output, State\n",
    "import dash_bootstrap_components as dbc #bootstrap\n",
    "\n",
    "\n",
    "#crear un dataframe con toda la informacion de la encuesta\n",
    "#anyadido: path relativo\n",
    "df21 = pd.read_csv ('../../data/survey_results_public2021.csv', index_col = [0]) # El indice sera la columna con el ID de la respuesta\n",
    "# df21.LearnCode.value_counts() # los valores de cada fila en LearnCode estan separados por ;"
   ]
  },
  {
   "cell_type": "markdown",
   "id": "cbeb6be9",
   "metadata": {},
   "source": [
    "## 2. Preprocesar datos.\n",
    "\n",
    "Tratar las columnas/conjunto de datos para comenzar a crear los gráficos. "
   ]
  },
  {
   "cell_type": "code",
   "execution_count": 2,
   "id": "b0fff3a9",
   "metadata": {},
   "outputs": [],
   "source": [
    "def edTech (df3,col):\n",
    "\n",
    "    # copiamos elementos que no sean NaN\n",
    "    df=df3[['EdLevel', col]].dropna().copy() \n",
    "    \n",
    "    #eliminar info irrelevante\n",
    "    df.drop(df[df.EdLevel == 'Something else'].index, inplace = True) \n",
    "\n",
    "    #explode EdLevel y la columna de eleccion. \n",
    "    #el df resultante contendra los valores unicos en ambas columnas\n",
    "    df2 = (df.explode(df.columns.tolist())\n",
    "      .apply(lambda col: col.str.split(';')) \n",
    "      .explode('EdLevel')\n",
    "      .explode(col))\n",
    "\n",
    "    #anyadir una columna count para saber el numero de col en Edlevel.\n",
    "    df4= (pd.crosstab(df2['EdLevel'], df2[col])\n",
    "       .melt(value_name='count', ignore_index=False)\n",
    "       .reset_index())\n",
    "    \n",
    "    #eliminar parentesis en educacion\n",
    "    df4['EdLevel'] = df4['EdLevel'].str.replace(r\"\\(.*?\\)\", \"\", regex=True) \n",
    "    \n",
    "    # Seleccionar solo un top 5 de tecnologias (lenguajes, bases de datos...)\n",
    "    top=df4[[col,'count']].groupby(col).sum().sort_values(by='count',ascending=False).index[:5]\n",
    "    return df4[df4[col].isin(top.tolist())]\n",
    "\n",
    "def etiquetas (df, col): \n",
    "\n",
    "    edLabels = list(df.EdLevel.unique())\n",
    "    colLabels = list(df[col].unique())\n",
    "\n",
    "    labels = edLabels + colLabels\n",
    "\n",
    "    return labels"
   ]
  },
  {
   "cell_type": "code",
   "execution_count": 3,
   "id": "9087ee9a",
   "metadata": {},
   "outputs": [],
   "source": [
    "#edTech (df21,'DatabaseHaveWorkedWith')"
   ]
  },
  {
   "cell_type": "code",
   "execution_count": null,
   "id": "87ebb16f",
   "metadata": {},
   "outputs": [],
   "source": [
    "\n",
    "    "
   ]
  },
  {
   "cell_type": "markdown",
   "id": "972c8dd3",
   "metadata": {},
   "source": [
    "## 3. Layout + callback"
   ]
  },
  {
   "cell_type": "code",
   "execution_count": 4,
   "id": "bc0ade91",
   "metadata": {},
   "outputs": [],
   "source": [
    "app = dash.Dash(__name__, external_stylesheets=[dbc.themes.BOOTSTRAP],\n",
    "                meta_tags=[{'name': 'viewport', #permite ser responsive en movil\n",
    "                            'content': 'width=device-width, initial-scale=1.0, maximum-scale=1.2, minimum-scale=0.5,'}]\n",
    "                )\n",
    "app.layout = html.Div([\n",
    "    \n",
    "    dbc.Row([\n",
    "            dcc.Dropdown(id=\"select_opt\",  \n",
    "                 options=[ #el usuario va a ver las label.\n",
    "                     {\"label\": \"#\", \"value\": \"numero\"},\n",
    "                     {\"label\": \"%\", \"value\": \"porcentaje\"}],\n",
    "                 multi=False,\n",
    "                 value=\"numero\",\n",
    "                 style={'width': \"40%\"}\n",
    "                 ),\n",
    "\n",
    "    dcc.Graph(id='my_survey', figure={}, style={'height': '80vh'}) # graph container\n",
    "            \n",
    "    ]\n",
    ")\n",
    "])\n",
    "\n",
    "\n",
    "\n",
    "@app.callback(\n",
    "    Output(component_id='my_survey', component_property='figure'),\n",
    "    Input(component_id='select_opt', component_property='value'))\n",
    "    \n",
    "def tab_content(active_tab):\n",
    "    \n",
    "    #df = pd.DataFrame()\n",
    "    nameColumns= ['DatabaseHaveWorkedWith','LanguageHaveWorkedWith', 'PlatformHaveWorkedWith',  \n",
    "                  'WebframeHaveWorkedWith', 'MiscTechHaveWorkedWith', 'ToolsTechHaveWorkedWith', \n",
    "                  'NEWCollabToolsHaveWorkedWith']\n",
    "\n",
    "    name = [\"Databases\", \"Languages\", \"Platforms\", \"Webframes\", \"Miscelaneous Tech\", \"Tools\", \"Collab tools\"]\n",
    "    categoria = \"\"\n",
    "\n",
    "    df = edTech(df21,nameColumns[0])\n",
    "    categoria = name[0]\n",
    "    labels = etiquetas (df, nameColumns[0])\n",
    "    \n",
    "    source=df['EdLevel'].apply(lambda x: labels.index(x)).tolist()\n",
    "    # Destino de los enlaces (índices a la lista de etiquetas)\n",
    "    target=df[nameColumns[0]].apply(lambda x: labels.index(x)).tolist()\n",
    "    \n",
    "    fig = go.Figure(data=[go.Sankey(node = dict(pad = 15, thickness = 20,\n",
    "                                                line = dict(color = \"black\", width = 0.5),\n",
    "                                                label = etiquetas (df, nameColumns[0]),\n",
    "                                               ),\n",
    "                                    link = dict(\n",
    "                                        source = source, \n",
    "                                        target = target,\n",
    "                                        value = df['count'] \n",
    "                                          ))])\n",
    "    fig.update_layout(title_text=\"Edades - Lenguajes\", font_size=12)\n",
    "    return fig"
   ]
  },
  {
   "cell_type": "markdown",
   "id": "8d8d58dd",
   "metadata": {},
   "source": [
    "## 4. run "
   ]
  },
  {
   "cell_type": "code",
   "execution_count": 5,
   "id": "85e4bc8e",
   "metadata": {},
   "outputs": [
    {
     "name": "stdout",
     "output_type": "stream",
     "text": [
      "Dash is running on http://127.0.0.1:8050/\n",
      "\n",
      " * Serving Flask app \"__main__\" (lazy loading)\n",
      " * Environment: production\n",
      "\u001b[31m   WARNING: This is a development server. Do not use it in a production deployment.\u001b[0m\n",
      "\u001b[2m   Use a production WSGI server instead.\u001b[0m\n",
      " * Debug mode: on\n"
     ]
    }
   ],
   "source": [
    "app.run_server(debug=True, use_reloader=False)"
   ]
  }
 ],
 "metadata": {
  "kernelspec": {
   "display_name": "Python 3 (ipykernel)",
   "language": "python",
   "name": "python3"
  },
  "language_info": {
   "codemirror_mode": {
    "name": "ipython",
    "version": 3
   },
   "file_extension": ".py",
   "mimetype": "text/x-python",
   "name": "python",
   "nbconvert_exporter": "python",
   "pygments_lexer": "ipython3",
   "version": "3.9.7"
  }
 },
 "nbformat": 4,
 "nbformat_minor": 5
}

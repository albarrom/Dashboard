{
 "cells": [
  {
   "cell_type": "markdown",
   "id": "a8f102ce",
   "metadata": {},
   "source": [
    "\n",
    "\n",
    "## 1LineOfCode"
   ]
  },
  {
   "cell_type": "code",
   "execution_count": 16,
   "id": "464c5352",
   "metadata": {},
   "outputs": [
    {
     "data": {
      "text/plain": [
       "Employed full-time                                      53584\n",
       "Student, full-time                                      11781\n",
       "Independent contractor, freelancer, or self-employed     8041\n",
       "Not employed, but looking for work                       2961\n",
       "Employed part-time                                       2461\n",
       "Student, part-time                                       2051\n",
       "Not employed, and not looking for work                   1228\n",
       "I prefer not to say                                       890\n",
       "Retired                                                   326\n",
       "Name: Employment, dtype: int64"
      ]
     },
     "execution_count": 16,
     "metadata": {},
     "output_type": "execute_result"
    }
   ],
   "source": [
    "# importar librerias\n",
    "import numpy as np\n",
    "import pandas as pd\n",
    "import plotly.express as px  \n",
    "import plotly.graph_objects as go\n",
    "from plotly.subplots import make_subplots\n",
    "from dash import Dash, dcc, html, Input, Output\n",
    "import us\n",
    "\n",
    "#crear un dataframe con toda la informacion de la encuesta\n",
    "df21 = pd.read_csv('../data/survey_results_public2021.csv', index_col = [0]) # El indice sera la columna con el ID de la respuesta\n",
    "\n",
    "#crear un dataframe con toda la informacion de la encuesta\n",
    "df20 = pd.read_csv ('../data/survey_results_public2020.csv', index_col = [0]) # El indice sera la columna con el ID de la respuesta\n",
    "\n",
    "\n"
   ]
  },
  {
   "cell_type": "code",
   "execution_count": null,
   "id": "057eacd9",
   "metadata": {},
   "outputs": [],
   "source": []
  },
  {
   "cell_type": "code",
   "execution_count": 10,
   "id": "dab5f44a",
   "metadata": {
    "scrolled": false
   },
   "outputs": [],
   "source": [
    "def branchEmploymentEd (df):\n",
    "    \n",
    "    #normalizar todos los datos/eliminar valores que no aportan nada\n",
    "    df.drop(df.index[df['MainBranch'] == \"None of these\"], inplace=True) \n",
    "    df.drop(df.index[df['Employment'] == \"I prefer not to say\"], inplace=True) \n",
    "    df.drop(df.index[df['EdLevel'] == \"Something else\"], inplace=True) \n",
    "\n",
    "    #eliminar los nan\n",
    "    df.dropna(subset = ['EdLevel','MainBranch','Employment'])\n",
    "    \n",
    "    #modificar el df para que sea mejor visualmente:\n",
    "    df['EdLevel'] = df['EdLevel'].str.replace(r\"\\(.*?\\)\", \"\", regex=True) #eliminar parentesis en educacion\n",
    "    \n",
    "\n",
    "    #generar nuevo df agrupado por las 3 columnas procesadas\n",
    "    df= df.groupby(['MainBranch','Employment','EdLevel',],as_index=False).size()\n",
    "    return df"
   ]
  },
  {
   "cell_type": "code",
   "execution_count": 19,
   "id": "db58287b",
   "metadata": {},
   "outputs": [
    {
     "data": {
      "application/vnd.plotly.v1+json": {
       "config": {
        "plotlyServerURL": "https://plot.ly"
       },
       "data": [
        {
         "branchvalues": "total",
         "domain": {
          "x": [
           0,
           1
          ],
          "y": [
           0,
           1
          ]
         },
         "hovertemplate": "labels=%{label}<br>size=%{value}<br>parent=%{parent}<br>id=%{id}<extra></extra>",
         "ids": [
          "I am a developer by profession/Employed full-time/Associate degree (A.A., A.S., etc.)",
          "I am a student who is learning to code/Employed full-time/Associate degree (A.A., A.S., etc.)",
          "I am not primarily a developer, but I write code sometimes as part of my work/Employed full-time/Associate degree (A.A., A.S., etc.)",
          "I code primarily as a hobby/Employed full-time/Associate degree (A.A., A.S., etc.)",
          "I used to be a developer by profession, but no longer am/Employed full-time/Associate degree (A.A., A.S., etc.)",
          "I am a developer by profession/Employed part-time/Associate degree (A.A., A.S., etc.)",
          "I am a student who is learning to code/Employed part-time/Associate degree (A.A., A.S., etc.)",
          "I am not primarily a developer, but I write code sometimes as part of my work/Employed part-time/Associate degree (A.A., A.S., etc.)",
          "I code primarily as a hobby/Employed part-time/Associate degree (A.A., A.S., etc.)",
          "I used to be a developer by profession, but no longer am/Employed part-time/Associate degree (A.A., A.S., etc.)",
          "I am a developer by profession/Independent contractor, freelancer, or self-employed/Associate degree (A.A., A.S., etc.)",
          "I am a student who is learning to code/Independent contractor, freelancer, or self-employed/Associate degree (A.A., A.S., etc.)",
          "I am not primarily a developer, but I write code sometimes as part of my work/Independent contractor, freelancer, or self-employed/Associate degree (A.A., A.S., etc.)",
          "I code primarily as a hobby/Independent contractor, freelancer, or self-employed/Associate degree (A.A., A.S., etc.)",
          "I used to be a developer by profession, but no longer am/Independent contractor, freelancer, or self-employed/Associate degree (A.A., A.S., etc.)",
          "I am a developer by profession/Not employed, and not looking for work/Associate degree (A.A., A.S., etc.)",
          "I am a student who is learning to code/Not employed, and not looking for work/Associate degree (A.A., A.S., etc.)",
          "I am not primarily a developer, but I write code sometimes as part of my work/Not employed, and not looking for work/Associate degree (A.A., A.S., etc.)",
          "I code primarily as a hobby/Not employed, and not looking for work/Associate degree (A.A., A.S., etc.)",
          "I used to be a developer by profession, but no longer am/Not employed, and not looking for work/Associate degree (A.A., A.S., etc.)",
          "I am a developer by profession/Not employed, but looking for work/Associate degree (A.A., A.S., etc.)",
          "I am a student who is learning to code/Not employed, but looking for work/Associate degree (A.A., A.S., etc.)",
          "I am not primarily a developer, but I write code sometimes as part of my work/Not employed, but looking for work/Associate degree (A.A., A.S., etc.)",
          "I code primarily as a hobby/Not employed, but looking for work/Associate degree (A.A., A.S., etc.)",
          "I used to be a developer by profession, but no longer am/Not employed, but looking for work/Associate degree (A.A., A.S., etc.)",
          "I am a developer by profession/Retired/Associate degree (A.A., A.S., etc.)",
          "I am not primarily a developer, but I write code sometimes as part of my work/Retired/Associate degree (A.A., A.S., etc.)",
          "I code primarily as a hobby/Retired/Associate degree (A.A., A.S., etc.)",
          "I used to be a developer by profession, but no longer am/Retired/Associate degree (A.A., A.S., etc.)",
          "I am a developer by profession/Student, full-time/Associate degree (A.A., A.S., etc.)",
          "I am a student who is learning to code/Student, full-time/Associate degree (A.A., A.S., etc.)",
          "I am not primarily a developer, but I write code sometimes as part of my work/Student, full-time/Associate degree (A.A., A.S., etc.)",
          "I code primarily as a hobby/Student, full-time/Associate degree (A.A., A.S., etc.)",
          "I used to be a developer by profession, but no longer am/Student, full-time/Associate degree (A.A., A.S., etc.)",
          "I am a developer by profession/Student, part-time/Associate degree (A.A., A.S., etc.)",
          "I am a student who is learning to code/Student, part-time/Associate degree (A.A., A.S., etc.)",
          "I am not primarily a developer, but I write code sometimes as part of my work/Student, part-time/Associate degree (A.A., A.S., etc.)",
          "I code primarily as a hobby/Student, part-time/Associate degree (A.A., A.S., etc.)",
          "I am a developer by profession/Employed full-time/Bachelor’s degree (B.A., B.S., B.Eng., etc.)",
          "I am a student who is learning to code/Employed full-time/Bachelor’s degree (B.A., B.S., B.Eng., etc.)",
          "I am not primarily a developer, but I write code sometimes as part of my work/Employed full-time/Bachelor’s degree (B.A., B.S., B.Eng., etc.)",
          "I code primarily as a hobby/Employed full-time/Bachelor’s degree (B.A., B.S., B.Eng., etc.)",
          "I used to be a developer by profession, but no longer am/Employed full-time/Bachelor’s degree (B.A., B.S., B.Eng., etc.)",
          "I am a developer by profession/Employed part-time/Bachelor’s degree (B.A., B.S., B.Eng., etc.)",
          "I am a student who is learning to code/Employed part-time/Bachelor’s degree (B.A., B.S., B.Eng., etc.)",
          "I am not primarily a developer, but I write code sometimes as part of my work/Employed part-time/Bachelor’s degree (B.A., B.S., B.Eng., etc.)",
          "I code primarily as a hobby/Employed part-time/Bachelor’s degree (B.A., B.S., B.Eng., etc.)",
          "I used to be a developer by profession, but no longer am/Employed part-time/Bachelor’s degree (B.A., B.S., B.Eng., etc.)",
          "I am a developer by profession/Independent contractor, freelancer, or self-employed/Bachelor’s degree (B.A., B.S., B.Eng., etc.)",
          "I am a student who is learning to code/Independent contractor, freelancer, or self-employed/Bachelor’s degree (B.A., B.S., B.Eng., etc.)",
          "I am not primarily a developer, but I write code sometimes as part of my work/Independent contractor, freelancer, or self-employed/Bachelor’s degree (B.A., B.S., B.Eng., etc.)",
          "I code primarily as a hobby/Independent contractor, freelancer, or self-employed/Bachelor’s degree (B.A., B.S., B.Eng., etc.)",
          "I used to be a developer by profession, but no longer am/Independent contractor, freelancer, or self-employed/Bachelor’s degree (B.A., B.S., B.Eng., etc.)",
          "I am a developer by profession/Not employed, and not looking for work/Bachelor’s degree (B.A., B.S., B.Eng., etc.)",
          "I am a student who is learning to code/Not employed, and not looking for work/Bachelor’s degree (B.A., B.S., B.Eng., etc.)",
          "I am not primarily a developer, but I write code sometimes as part of my work/Not employed, and not looking for work/Bachelor’s degree (B.A., B.S., B.Eng., etc.)",
          "I code primarily as a hobby/Not employed, and not looking for work/Bachelor’s degree (B.A., B.S., B.Eng., etc.)",
          "I used to be a developer by profession, but no longer am/Not employed, and not looking for work/Bachelor’s degree (B.A., B.S., B.Eng., etc.)",
          "I am a developer by profession/Not employed, but looking for work/Bachelor’s degree (B.A., B.S., B.Eng., etc.)",
          "I am a student who is learning to code/Not employed, but looking for work/Bachelor’s degree (B.A., B.S., B.Eng., etc.)",
          "I am not primarily a developer, but I write code sometimes as part of my work/Not employed, but looking for work/Bachelor’s degree (B.A., B.S., B.Eng., etc.)",
          "I code primarily as a hobby/Not employed, but looking for work/Bachelor’s degree (B.A., B.S., B.Eng., etc.)",
          "I used to be a developer by profession, but no longer am/Not employed, but looking for work/Bachelor’s degree (B.A., B.S., B.Eng., etc.)",
          "I am a developer by profession/Retired/Bachelor’s degree (B.A., B.S., B.Eng., etc.)",
          "I am not primarily a developer, but I write code sometimes as part of my work/Retired/Bachelor’s degree (B.A., B.S., B.Eng., etc.)",
          "I code primarily as a hobby/Retired/Bachelor’s degree (B.A., B.S., B.Eng., etc.)",
          "I used to be a developer by profession, but no longer am/Retired/Bachelor’s degree (B.A., B.S., B.Eng., etc.)",
          "I am a developer by profession/Student, full-time/Bachelor’s degree (B.A., B.S., B.Eng., etc.)",
          "I am a student who is learning to code/Student, full-time/Bachelor’s degree (B.A., B.S., B.Eng., etc.)",
          "I am not primarily a developer, but I write code sometimes as part of my work/Student, full-time/Bachelor’s degree (B.A., B.S., B.Eng., etc.)",
          "I code primarily as a hobby/Student, full-time/Bachelor’s degree (B.A., B.S., B.Eng., etc.)",
          "I used to be a developer by profession, but no longer am/Student, full-time/Bachelor’s degree (B.A., B.S., B.Eng., etc.)",
          "I am a developer by profession/Student, part-time/Bachelor’s degree (B.A., B.S., B.Eng., etc.)",
          "I am a student who is learning to code/Student, part-time/Bachelor’s degree (B.A., B.S., B.Eng., etc.)",
          "I am not primarily a developer, but I write code sometimes as part of my work/Student, part-time/Bachelor’s degree (B.A., B.S., B.Eng., etc.)",
          "I code primarily as a hobby/Student, part-time/Bachelor’s degree (B.A., B.S., B.Eng., etc.)",
          "I used to be a developer by profession, but no longer am/Student, part-time/Bachelor’s degree (B.A., B.S., B.Eng., etc.)",
          "I am a developer by profession/Employed full-time/Master’s degree (M.A., M.S., M.Eng., MBA, etc.)",
          "I am a student who is learning to code/Employed full-time/Master’s degree (M.A., M.S., M.Eng., MBA, etc.)",
          "I am not primarily a developer, but I write code sometimes as part of my work/Employed full-time/Master’s degree (M.A., M.S., M.Eng., MBA, etc.)",
          "I code primarily as a hobby/Employed full-time/Master’s degree (M.A., M.S., M.Eng., MBA, etc.)",
          "I used to be a developer by profession, but no longer am/Employed full-time/Master’s degree (M.A., M.S., M.Eng., MBA, etc.)",
          "I am a developer by profession/Employed part-time/Master’s degree (M.A., M.S., M.Eng., MBA, etc.)",
          "I am a student who is learning to code/Employed part-time/Master’s degree (M.A., M.S., M.Eng., MBA, etc.)",
          "I am not primarily a developer, but I write code sometimes as part of my work/Employed part-time/Master’s degree (M.A., M.S., M.Eng., MBA, etc.)",
          "I code primarily as a hobby/Employed part-time/Master’s degree (M.A., M.S., M.Eng., MBA, etc.)",
          "I used to be a developer by profession, but no longer am/Employed part-time/Master’s degree (M.A., M.S., M.Eng., MBA, etc.)",
          "I am a developer by profession/Independent contractor, freelancer, or self-employed/Master’s degree (M.A., M.S., M.Eng., MBA, etc.)",
          "I am a student who is learning to code/Independent contractor, freelancer, or self-employed/Master’s degree (M.A., M.S., M.Eng., MBA, etc.)",
          "I am not primarily a developer, but I write code sometimes as part of my work/Independent contractor, freelancer, or self-employed/Master’s degree (M.A., M.S., M.Eng., MBA, etc.)",
          "I code primarily as a hobby/Independent contractor, freelancer, or self-employed/Master’s degree (M.A., M.S., M.Eng., MBA, etc.)",
          "I used to be a developer by profession, but no longer am/Independent contractor, freelancer, or self-employed/Master’s degree (M.A., M.S., M.Eng., MBA, etc.)",
          "I am a developer by profession/Not employed, and not looking for work/Master’s degree (M.A., M.S., M.Eng., MBA, etc.)",
          "I am a student who is learning to code/Not employed, and not looking for work/Master’s degree (M.A., M.S., M.Eng., MBA, etc.)",
          "I am not primarily a developer, but I write code sometimes as part of my work/Not employed, and not looking for work/Master’s degree (M.A., M.S., M.Eng., MBA, etc.)",
          "I code primarily as a hobby/Not employed, and not looking for work/Master’s degree (M.A., M.S., M.Eng., MBA, etc.)",
          "I used to be a developer by profession, but no longer am/Not employed, and not looking for work/Master’s degree (M.A., M.S., M.Eng., MBA, etc.)",
          "I am a developer by profession/Not employed, but looking for work/Master’s degree (M.A., M.S., M.Eng., MBA, etc.)",
          "I am a student who is learning to code/Not employed, but looking for work/Master’s degree (M.A., M.S., M.Eng., MBA, etc.)",
          "I am not primarily a developer, but I write code sometimes as part of my work/Not employed, but looking for work/Master’s degree (M.A., M.S., M.Eng., MBA, etc.)",
          "I code primarily as a hobby/Not employed, but looking for work/Master’s degree (M.A., M.S., M.Eng., MBA, etc.)",
          "I used to be a developer by profession, but no longer am/Not employed, but looking for work/Master’s degree (M.A., M.S., M.Eng., MBA, etc.)",
          "I am a developer by profession/Retired/Master’s degree (M.A., M.S., M.Eng., MBA, etc.)",
          "I am a student who is learning to code/Retired/Master’s degree (M.A., M.S., M.Eng., MBA, etc.)",
          "I am not primarily a developer, but I write code sometimes as part of my work/Retired/Master’s degree (M.A., M.S., M.Eng., MBA, etc.)",
          "I code primarily as a hobby/Retired/Master’s degree (M.A., M.S., M.Eng., MBA, etc.)",
          "I used to be a developer by profession, but no longer am/Retired/Master’s degree (M.A., M.S., M.Eng., MBA, etc.)",
          "I am a developer by profession/Student, full-time/Master’s degree (M.A., M.S., M.Eng., MBA, etc.)",
          "I am a student who is learning to code/Student, full-time/Master’s degree (M.A., M.S., M.Eng., MBA, etc.)",
          "I am not primarily a developer, but I write code sometimes as part of my work/Student, full-time/Master’s degree (M.A., M.S., M.Eng., MBA, etc.)",
          "I code primarily as a hobby/Student, full-time/Master’s degree (M.A., M.S., M.Eng., MBA, etc.)",
          "I used to be a developer by profession, but no longer am/Student, full-time/Master’s degree (M.A., M.S., M.Eng., MBA, etc.)",
          "I am a developer by profession/Student, part-time/Master’s degree (M.A., M.S., M.Eng., MBA, etc.)",
          "I am a student who is learning to code/Student, part-time/Master’s degree (M.A., M.S., M.Eng., MBA, etc.)",
          "I am not primarily a developer, but I write code sometimes as part of my work/Student, part-time/Master’s degree (M.A., M.S., M.Eng., MBA, etc.)",
          "I code primarily as a hobby/Student, part-time/Master’s degree (M.A., M.S., M.Eng., MBA, etc.)",
          "I used to be a developer by profession, but no longer am/Student, part-time/Master’s degree (M.A., M.S., M.Eng., MBA, etc.)",
          "I am a developer by profession/Employed full-time/Other doctoral degree (Ph.D., Ed.D., etc.)",
          "I am a student who is learning to code/Employed full-time/Other doctoral degree (Ph.D., Ed.D., etc.)",
          "I am not primarily a developer, but I write code sometimes as part of my work/Employed full-time/Other doctoral degree (Ph.D., Ed.D., etc.)",
          "I code primarily as a hobby/Employed full-time/Other doctoral degree (Ph.D., Ed.D., etc.)",
          "I used to be a developer by profession, but no longer am/Employed full-time/Other doctoral degree (Ph.D., Ed.D., etc.)",
          "I am a developer by profession/Employed part-time/Other doctoral degree (Ph.D., Ed.D., etc.)",
          "I am not primarily a developer, but I write code sometimes as part of my work/Employed part-time/Other doctoral degree (Ph.D., Ed.D., etc.)",
          "I code primarily as a hobby/Employed part-time/Other doctoral degree (Ph.D., Ed.D., etc.)",
          "I used to be a developer by profession, but no longer am/Employed part-time/Other doctoral degree (Ph.D., Ed.D., etc.)",
          "I am a developer by profession/Independent contractor, freelancer, or self-employed/Other doctoral degree (Ph.D., Ed.D., etc.)",
          "I am not primarily a developer, but I write code sometimes as part of my work/Independent contractor, freelancer, or self-employed/Other doctoral degree (Ph.D., Ed.D., etc.)",
          "I code primarily as a hobby/Independent contractor, freelancer, or self-employed/Other doctoral degree (Ph.D., Ed.D., etc.)",
          "I used to be a developer by profession, but no longer am/Independent contractor, freelancer, or self-employed/Other doctoral degree (Ph.D., Ed.D., etc.)",
          "I am a developer by profession/Not employed, and not looking for work/Other doctoral degree (Ph.D., Ed.D., etc.)",
          "I am a student who is learning to code/Not employed, and not looking for work/Other doctoral degree (Ph.D., Ed.D., etc.)",
          "I am not primarily a developer, but I write code sometimes as part of my work/Not employed, and not looking for work/Other doctoral degree (Ph.D., Ed.D., etc.)",
          "I code primarily as a hobby/Not employed, and not looking for work/Other doctoral degree (Ph.D., Ed.D., etc.)",
          "I am a developer by profession/Not employed, but looking for work/Other doctoral degree (Ph.D., Ed.D., etc.)",
          "I am a student who is learning to code/Not employed, but looking for work/Other doctoral degree (Ph.D., Ed.D., etc.)",
          "I am not primarily a developer, but I write code sometimes as part of my work/Not employed, but looking for work/Other doctoral degree (Ph.D., Ed.D., etc.)",
          "I code primarily as a hobby/Not employed, but looking for work/Other doctoral degree (Ph.D., Ed.D., etc.)",
          "I used to be a developer by profession, but no longer am/Not employed, but looking for work/Other doctoral degree (Ph.D., Ed.D., etc.)",
          "I am a developer by profession/Retired/Other doctoral degree (Ph.D., Ed.D., etc.)",
          "I am a student who is learning to code/Retired/Other doctoral degree (Ph.D., Ed.D., etc.)",
          "I am not primarily a developer, but I write code sometimes as part of my work/Retired/Other doctoral degree (Ph.D., Ed.D., etc.)",
          "I code primarily as a hobby/Retired/Other doctoral degree (Ph.D., Ed.D., etc.)",
          "I used to be a developer by profession, but no longer am/Retired/Other doctoral degree (Ph.D., Ed.D., etc.)",
          "I am a developer by profession/Student, full-time/Other doctoral degree (Ph.D., Ed.D., etc.)",
          "I am a student who is learning to code/Student, full-time/Other doctoral degree (Ph.D., Ed.D., etc.)",
          "I am not primarily a developer, but I write code sometimes as part of my work/Student, full-time/Other doctoral degree (Ph.D., Ed.D., etc.)",
          "I code primarily as a hobby/Student, full-time/Other doctoral degree (Ph.D., Ed.D., etc.)",
          "I used to be a developer by profession, but no longer am/Student, full-time/Other doctoral degree (Ph.D., Ed.D., etc.)",
          "I am a student who is learning to code/Student, part-time/Other doctoral degree (Ph.D., Ed.D., etc.)",
          "I am not primarily a developer, but I write code sometimes as part of my work/Student, part-time/Other doctoral degree (Ph.D., Ed.D., etc.)",
          "I used to be a developer by profession, but no longer am/Student, part-time/Other doctoral degree (Ph.D., Ed.D., etc.)",
          "I am a developer by profession/Employed full-time/Primary/elementary school",
          "I am a student who is learning to code/Employed full-time/Primary/elementary school",
          "I am not primarily a developer, but I write code sometimes as part of my work/Employed full-time/Primary/elementary school",
          "I code primarily as a hobby/Employed full-time/Primary/elementary school",
          "I used to be a developer by profession, but no longer am/Employed full-time/Primary/elementary school",
          "I am a developer by profession/Employed part-time/Primary/elementary school",
          "I am a student who is learning to code/Employed part-time/Primary/elementary school",
          "I am not primarily a developer, but I write code sometimes as part of my work/Employed part-time/Primary/elementary school",
          "I code primarily as a hobby/Employed part-time/Primary/elementary school",
          "I used to be a developer by profession, but no longer am/Employed part-time/Primary/elementary school",
          "I am a developer by profession/Independent contractor, freelancer, or self-employed/Primary/elementary school",
          "I am a student who is learning to code/Independent contractor, freelancer, or self-employed/Primary/elementary school",
          "I am not primarily a developer, but I write code sometimes as part of my work/Independent contractor, freelancer, or self-employed/Primary/elementary school",
          "I code primarily as a hobby/Independent contractor, freelancer, or self-employed/Primary/elementary school",
          "I used to be a developer by profession, but no longer am/Independent contractor, freelancer, or self-employed/Primary/elementary school",
          "I am a developer by profession/Not employed, and not looking for work/Primary/elementary school",
          "I am a student who is learning to code/Not employed, and not looking for work/Primary/elementary school",
          "I code primarily as a hobby/Not employed, and not looking for work/Primary/elementary school",
          "I am a developer by profession/Not employed, but looking for work/Primary/elementary school",
          "I am a student who is learning to code/Not employed, but looking for work/Primary/elementary school",
          "I am not primarily a developer, but I write code sometimes as part of my work/Not employed, but looking for work/Primary/elementary school",
          "I code primarily as a hobby/Not employed, but looking for work/Primary/elementary school",
          "I used to be a developer by profession, but no longer am/Not employed, but looking for work/Primary/elementary school",
          "I am not primarily a developer, but I write code sometimes as part of my work/Retired/Primary/elementary school",
          "I code primarily as a hobby/Retired/Primary/elementary school",
          "I am a developer by profession/Student, full-time/Primary/elementary school",
          "I am a student who is learning to code/Student, full-time/Primary/elementary school",
          "I am not primarily a developer, but I write code sometimes as part of my work/Student, full-time/Primary/elementary school",
          "I code primarily as a hobby/Student, full-time/Primary/elementary school",
          "I used to be a developer by profession, but no longer am/Student, full-time/Primary/elementary school",
          "I am a developer by profession/Student, part-time/Primary/elementary school",
          "I am a student who is learning to code/Student, part-time/Primary/elementary school",
          "I am not primarily a developer, but I write code sometimes as part of my work/Student, part-time/Primary/elementary school",
          "I code primarily as a hobby/Student, part-time/Primary/elementary school",
          "I used to be a developer by profession, but no longer am/Student, part-time/Primary/elementary school",
          "I am a developer by profession/Employed full-time/Professional degree (JD, MD, etc.)",
          "I am a student who is learning to code/Employed full-time/Professional degree (JD, MD, etc.)",
          "I am not primarily a developer, but I write code sometimes as part of my work/Employed full-time/Professional degree (JD, MD, etc.)",
          "I code primarily as a hobby/Employed full-time/Professional degree (JD, MD, etc.)",
          "I used to be a developer by profession, but no longer am/Employed full-time/Professional degree (JD, MD, etc.)",
          "I am a developer by profession/Employed part-time/Professional degree (JD, MD, etc.)",
          "I am a student who is learning to code/Employed part-time/Professional degree (JD, MD, etc.)",
          "I am not primarily a developer, but I write code sometimes as part of my work/Employed part-time/Professional degree (JD, MD, etc.)",
          "I code primarily as a hobby/Employed part-time/Professional degree (JD, MD, etc.)",
          "I am a developer by profession/Independent contractor, freelancer, or self-employed/Professional degree (JD, MD, etc.)",
          "I am a student who is learning to code/Independent contractor, freelancer, or self-employed/Professional degree (JD, MD, etc.)",
          "I am not primarily a developer, but I write code sometimes as part of my work/Independent contractor, freelancer, or self-employed/Professional degree (JD, MD, etc.)",
          "I code primarily as a hobby/Independent contractor, freelancer, or self-employed/Professional degree (JD, MD, etc.)",
          "I used to be a developer by profession, but no longer am/Independent contractor, freelancer, or self-employed/Professional degree (JD, MD, etc.)",
          "I am a developer by profession/Not employed, and not looking for work/Professional degree (JD, MD, etc.)",
          "I am not primarily a developer, but I write code sometimes as part of my work/Not employed, and not looking for work/Professional degree (JD, MD, etc.)",
          "I code primarily as a hobby/Not employed, and not looking for work/Professional degree (JD, MD, etc.)",
          "I used to be a developer by profession, but no longer am/Not employed, and not looking for work/Professional degree (JD, MD, etc.)",
          "I am a developer by profession/Not employed, but looking for work/Professional degree (JD, MD, etc.)",
          "I am a student who is learning to code/Not employed, but looking for work/Professional degree (JD, MD, etc.)",
          "I am not primarily a developer, but I write code sometimes as part of my work/Not employed, but looking for work/Professional degree (JD, MD, etc.)",
          "I code primarily as a hobby/Not employed, but looking for work/Professional degree (JD, MD, etc.)",
          "I am a developer by profession/Retired/Professional degree (JD, MD, etc.)",
          "I am a student who is learning to code/Retired/Professional degree (JD, MD, etc.)",
          "I code primarily as a hobby/Retired/Professional degree (JD, MD, etc.)",
          "I used to be a developer by profession, but no longer am/Retired/Professional degree (JD, MD, etc.)",
          "I am a developer by profession/Student, full-time/Professional degree (JD, MD, etc.)",
          "I am a student who is learning to code/Student, full-time/Professional degree (JD, MD, etc.)",
          "I am not primarily a developer, but I write code sometimes as part of my work/Student, full-time/Professional degree (JD, MD, etc.)",
          "I code primarily as a hobby/Student, full-time/Professional degree (JD, MD, etc.)",
          "I am a developer by profession/Student, part-time/Professional degree (JD, MD, etc.)",
          "I am a student who is learning to code/Student, part-time/Professional degree (JD, MD, etc.)",
          "I am not primarily a developer, but I write code sometimes as part of my work/Student, part-time/Professional degree (JD, MD, etc.)",
          "I code primarily as a hobby/Student, part-time/Professional degree (JD, MD, etc.)",
          "I am a developer by profession/Employed full-time/Secondary school (e.g. American high school, German Realschule or Gymnasium, etc.)",
          "I am a student who is learning to code/Employed full-time/Secondary school (e.g. American high school, German Realschule or Gymnasium, etc.)",
          "I am not primarily a developer, but I write code sometimes as part of my work/Employed full-time/Secondary school (e.g. American high school, German Realschule or Gymnasium, etc.)",
          "I code primarily as a hobby/Employed full-time/Secondary school (e.g. American high school, German Realschule or Gymnasium, etc.)",
          "I used to be a developer by profession, but no longer am/Employed full-time/Secondary school (e.g. American high school, German Realschule or Gymnasium, etc.)",
          "I am a developer by profession/Employed part-time/Secondary school (e.g. American high school, German Realschule or Gymnasium, etc.)",
          "I am a student who is learning to code/Employed part-time/Secondary school (e.g. American high school, German Realschule or Gymnasium, etc.)",
          "I am not primarily a developer, but I write code sometimes as part of my work/Employed part-time/Secondary school (e.g. American high school, German Realschule or Gymnasium, etc.)",
          "I code primarily as a hobby/Employed part-time/Secondary school (e.g. American high school, German Realschule or Gymnasium, etc.)",
          "I used to be a developer by profession, but no longer am/Employed part-time/Secondary school (e.g. American high school, German Realschule or Gymnasium, etc.)",
          "I am a developer by profession/Independent contractor, freelancer, or self-employed/Secondary school (e.g. American high school, German Realschule or Gymnasium, etc.)",
          "I am a student who is learning to code/Independent contractor, freelancer, or self-employed/Secondary school (e.g. American high school, German Realschule or Gymnasium, etc.)",
          "I am not primarily a developer, but I write code sometimes as part of my work/Independent contractor, freelancer, or self-employed/Secondary school (e.g. American high school, German Realschule or Gymnasium, etc.)",
          "I code primarily as a hobby/Independent contractor, freelancer, or self-employed/Secondary school (e.g. American high school, German Realschule or Gymnasium, etc.)",
          "I used to be a developer by profession, but no longer am/Independent contractor, freelancer, or self-employed/Secondary school (e.g. American high school, German Realschule or Gymnasium, etc.)",
          "I am a developer by profession/Not employed, and not looking for work/Secondary school (e.g. American high school, German Realschule or Gymnasium, etc.)",
          "I am a student who is learning to code/Not employed, and not looking for work/Secondary school (e.g. American high school, German Realschule or Gymnasium, etc.)",
          "I am not primarily a developer, but I write code sometimes as part of my work/Not employed, and not looking for work/Secondary school (e.g. American high school, German Realschule or Gymnasium, etc.)",
          "I code primarily as a hobby/Not employed, and not looking for work/Secondary school (e.g. American high school, German Realschule or Gymnasium, etc.)",
          "I used to be a developer by profession, but no longer am/Not employed, and not looking for work/Secondary school (e.g. American high school, German Realschule or Gymnasium, etc.)",
          "I am a developer by profession/Not employed, but looking for work/Secondary school (e.g. American high school, German Realschule or Gymnasium, etc.)",
          "I am a student who is learning to code/Not employed, but looking for work/Secondary school (e.g. American high school, German Realschule or Gymnasium, etc.)",
          "I am not primarily a developer, but I write code sometimes as part of my work/Not employed, but looking for work/Secondary school (e.g. American high school, German Realschule or Gymnasium, etc.)",
          "I code primarily as a hobby/Not employed, but looking for work/Secondary school (e.g. American high school, German Realschule or Gymnasium, etc.)",
          "I used to be a developer by profession, but no longer am/Not employed, but looking for work/Secondary school (e.g. American high school, German Realschule or Gymnasium, etc.)",
          "I am a developer by profession/Retired/Secondary school (e.g. American high school, German Realschule or Gymnasium, etc.)",
          "I am a student who is learning to code/Retired/Secondary school (e.g. American high school, German Realschule or Gymnasium, etc.)",
          "I am not primarily a developer, but I write code sometimes as part of my work/Retired/Secondary school (e.g. American high school, German Realschule or Gymnasium, etc.)",
          "I code primarily as a hobby/Retired/Secondary school (e.g. American high school, German Realschule or Gymnasium, etc.)",
          "I used to be a developer by profession, but no longer am/Retired/Secondary school (e.g. American high school, German Realschule or Gymnasium, etc.)",
          "I am a developer by profession/Student, full-time/Secondary school (e.g. American high school, German Realschule or Gymnasium, etc.)",
          "I am a student who is learning to code/Student, full-time/Secondary school (e.g. American high school, German Realschule or Gymnasium, etc.)",
          "I am not primarily a developer, but I write code sometimes as part of my work/Student, full-time/Secondary school (e.g. American high school, German Realschule or Gymnasium, etc.)",
          "I code primarily as a hobby/Student, full-time/Secondary school (e.g. American high school, German Realschule or Gymnasium, etc.)",
          "I used to be a developer by profession, but no longer am/Student, full-time/Secondary school (e.g. American high school, German Realschule or Gymnasium, etc.)",
          "I am a developer by profession/Student, part-time/Secondary school (e.g. American high school, German Realschule or Gymnasium, etc.)",
          "I am a student who is learning to code/Student, part-time/Secondary school (e.g. American high school, German Realschule or Gymnasium, etc.)",
          "I am not primarily a developer, but I write code sometimes as part of my work/Student, part-time/Secondary school (e.g. American high school, German Realschule or Gymnasium, etc.)",
          "I code primarily as a hobby/Student, part-time/Secondary school (e.g. American high school, German Realschule or Gymnasium, etc.)",
          "I am a developer by profession/Employed full-time/Some college/university study without earning a degree",
          "I am a student who is learning to code/Employed full-time/Some college/university study without earning a degree",
          "I am not primarily a developer, but I write code sometimes as part of my work/Employed full-time/Some college/university study without earning a degree",
          "I code primarily as a hobby/Employed full-time/Some college/university study without earning a degree",
          "I used to be a developer by profession, but no longer am/Employed full-time/Some college/university study without earning a degree",
          "I am a developer by profession/Employed part-time/Some college/university study without earning a degree",
          "I am a student who is learning to code/Employed part-time/Some college/university study without earning a degree",
          "I am not primarily a developer, but I write code sometimes as part of my work/Employed part-time/Some college/university study without earning a degree",
          "I code primarily as a hobby/Employed part-time/Some college/university study without earning a degree",
          "I used to be a developer by profession, but no longer am/Employed part-time/Some college/university study without earning a degree",
          "I am a developer by profession/Independent contractor, freelancer, or self-employed/Some college/university study without earning a degree",
          "I am a student who is learning to code/Independent contractor, freelancer, or self-employed/Some college/university study without earning a degree",
          "I am not primarily a developer, but I write code sometimes as part of my work/Independent contractor, freelancer, or self-employed/Some college/university study without earning a degree",
          "I code primarily as a hobby/Independent contractor, freelancer, or self-employed/Some college/university study without earning a degree",
          "I used to be a developer by profession, but no longer am/Independent contractor, freelancer, or self-employed/Some college/university study without earning a degree",
          "I am a developer by profession/Not employed, and not looking for work/Some college/university study without earning a degree",
          "I am a student who is learning to code/Not employed, and not looking for work/Some college/university study without earning a degree",
          "I am not primarily a developer, but I write code sometimes as part of my work/Not employed, and not looking for work/Some college/university study without earning a degree",
          "I code primarily as a hobby/Not employed, and not looking for work/Some college/university study without earning a degree",
          "I used to be a developer by profession, but no longer am/Not employed, and not looking for work/Some college/university study without earning a degree",
          "I am a developer by profession/Not employed, but looking for work/Some college/university study without earning a degree",
          "I am a student who is learning to code/Not employed, but looking for work/Some college/university study without earning a degree",
          "I am not primarily a developer, but I write code sometimes as part of my work/Not employed, but looking for work/Some college/university study without earning a degree",
          "I code primarily as a hobby/Not employed, but looking for work/Some college/university study without earning a degree",
          "I used to be a developer by profession, but no longer am/Not employed, but looking for work/Some college/university study without earning a degree",
          "I am a developer by profession/Retired/Some college/university study without earning a degree",
          "I am not primarily a developer, but I write code sometimes as part of my work/Retired/Some college/university study without earning a degree",
          "I code primarily as a hobby/Retired/Some college/university study without earning a degree",
          "I used to be a developer by profession, but no longer am/Retired/Some college/university study without earning a degree",
          "I am a developer by profession/Student, full-time/Some college/university study without earning a degree",
          "I am a student who is learning to code/Student, full-time/Some college/university study without earning a degree",
          "I am not primarily a developer, but I write code sometimes as part of my work/Student, full-time/Some college/university study without earning a degree",
          "I code primarily as a hobby/Student, full-time/Some college/university study without earning a degree",
          "I used to be a developer by profession, but no longer am/Student, full-time/Some college/university study without earning a degree",
          "I am a developer by profession/Student, part-time/Some college/university study without earning a degree",
          "I am a student who is learning to code/Student, part-time/Some college/university study without earning a degree",
          "I am not primarily a developer, but I write code sometimes as part of my work/Student, part-time/Some college/university study without earning a degree",
          "I code primarily as a hobby/Student, part-time/Some college/university study without earning a degree",
          "I used to be a developer by profession, but no longer am/Student, part-time/Some college/university study without earning a degree",
          "I am a developer by profession/Employed full-time",
          "I am a student who is learning to code/Employed full-time",
          "I am not primarily a developer, but I write code sometimes as part of my work/Employed full-time",
          "I code primarily as a hobby/Employed full-time",
          "I used to be a developer by profession, but no longer am/Employed full-time",
          "I am a developer by profession/Employed part-time",
          "I am a student who is learning to code/Employed part-time",
          "I am not primarily a developer, but I write code sometimes as part of my work/Employed part-time",
          "I code primarily as a hobby/Employed part-time",
          "I used to be a developer by profession, but no longer am/Employed part-time",
          "I am a developer by profession/Independent contractor, freelancer, or self-employed",
          "I am a student who is learning to code/Independent contractor, freelancer, or self-employed",
          "I am not primarily a developer, but I write code sometimes as part of my work/Independent contractor, freelancer, or self-employed",
          "I code primarily as a hobby/Independent contractor, freelancer, or self-employed",
          "I used to be a developer by profession, but no longer am/Independent contractor, freelancer, or self-employed",
          "I am a developer by profession/Not employed, and not looking for work",
          "I am a student who is learning to code/Not employed, and not looking for work",
          "I am not primarily a developer, but I write code sometimes as part of my work/Not employed, and not looking for work",
          "I code primarily as a hobby/Not employed, and not looking for work",
          "I used to be a developer by profession, but no longer am/Not employed, and not looking for work",
          "I am a developer by profession/Not employed, but looking for work",
          "I am a student who is learning to code/Not employed, but looking for work",
          "I am not primarily a developer, but I write code sometimes as part of my work/Not employed, but looking for work",
          "I code primarily as a hobby/Not employed, but looking for work",
          "I used to be a developer by profession, but no longer am/Not employed, but looking for work",
          "I am a developer by profession/Retired",
          "I am a student who is learning to code/Retired",
          "I am not primarily a developer, but I write code sometimes as part of my work/Retired",
          "I code primarily as a hobby/Retired",
          "I used to be a developer by profession, but no longer am/Retired",
          "I am a developer by profession/Student, full-time",
          "I am a student who is learning to code/Student, full-time",
          "I am not primarily a developer, but I write code sometimes as part of my work/Student, full-time",
          "I code primarily as a hobby/Student, full-time",
          "I used to be a developer by profession, but no longer am/Student, full-time",
          "I am a developer by profession/Student, part-time",
          "I am a student who is learning to code/Student, part-time",
          "I am not primarily a developer, but I write code sometimes as part of my work/Student, part-time",
          "I code primarily as a hobby/Student, part-time",
          "I used to be a developer by profession, but no longer am/Student, part-time",
          "I am a developer by profession",
          "I am a student who is learning to code",
          "I am not primarily a developer, but I write code sometimes as part of my work",
          "I code primarily as a hobby",
          "I used to be a developer by profession, but no longer am"
         ],
         "labels": [
          "Associate degree (A.A., A.S., etc.)",
          "Associate degree (A.A., A.S., etc.)",
          "Associate degree (A.A., A.S., etc.)",
          "Associate degree (A.A., A.S., etc.)",
          "Associate degree (A.A., A.S., etc.)",
          "Associate degree (A.A., A.S., etc.)",
          "Associate degree (A.A., A.S., etc.)",
          "Associate degree (A.A., A.S., etc.)",
          "Associate degree (A.A., A.S., etc.)",
          "Associate degree (A.A., A.S., etc.)",
          "Associate degree (A.A., A.S., etc.)",
          "Associate degree (A.A., A.S., etc.)",
          "Associate degree (A.A., A.S., etc.)",
          "Associate degree (A.A., A.S., etc.)",
          "Associate degree (A.A., A.S., etc.)",
          "Associate degree (A.A., A.S., etc.)",
          "Associate degree (A.A., A.S., etc.)",
          "Associate degree (A.A., A.S., etc.)",
          "Associate degree (A.A., A.S., etc.)",
          "Associate degree (A.A., A.S., etc.)",
          "Associate degree (A.A., A.S., etc.)",
          "Associate degree (A.A., A.S., etc.)",
          "Associate degree (A.A., A.S., etc.)",
          "Associate degree (A.A., A.S., etc.)",
          "Associate degree (A.A., A.S., etc.)",
          "Associate degree (A.A., A.S., etc.)",
          "Associate degree (A.A., A.S., etc.)",
          "Associate degree (A.A., A.S., etc.)",
          "Associate degree (A.A., A.S., etc.)",
          "Associate degree (A.A., A.S., etc.)",
          "Associate degree (A.A., A.S., etc.)",
          "Associate degree (A.A., A.S., etc.)",
          "Associate degree (A.A., A.S., etc.)",
          "Associate degree (A.A., A.S., etc.)",
          "Associate degree (A.A., A.S., etc.)",
          "Associate degree (A.A., A.S., etc.)",
          "Associate degree (A.A., A.S., etc.)",
          "Associate degree (A.A., A.S., etc.)",
          "Bachelor’s degree (B.A., B.S., B.Eng., etc.)",
          "Bachelor’s degree (B.A., B.S., B.Eng., etc.)",
          "Bachelor’s degree (B.A., B.S., B.Eng., etc.)",
          "Bachelor’s degree (B.A., B.S., B.Eng., etc.)",
          "Bachelor’s degree (B.A., B.S., B.Eng., etc.)",
          "Bachelor’s degree (B.A., B.S., B.Eng., etc.)",
          "Bachelor’s degree (B.A., B.S., B.Eng., etc.)",
          "Bachelor’s degree (B.A., B.S., B.Eng., etc.)",
          "Bachelor’s degree (B.A., B.S., B.Eng., etc.)",
          "Bachelor’s degree (B.A., B.S., B.Eng., etc.)",
          "Bachelor’s degree (B.A., B.S., B.Eng., etc.)",
          "Bachelor’s degree (B.A., B.S., B.Eng., etc.)",
          "Bachelor’s degree (B.A., B.S., B.Eng., etc.)",
          "Bachelor’s degree (B.A., B.S., B.Eng., etc.)",
          "Bachelor’s degree (B.A., B.S., B.Eng., etc.)",
          "Bachelor’s degree (B.A., B.S., B.Eng., etc.)",
          "Bachelor’s degree (B.A., B.S., B.Eng., etc.)",
          "Bachelor’s degree (B.A., B.S., B.Eng., etc.)",
          "Bachelor’s degree (B.A., B.S., B.Eng., etc.)",
          "Bachelor’s degree (B.A., B.S., B.Eng., etc.)",
          "Bachelor’s degree (B.A., B.S., B.Eng., etc.)",
          "Bachelor’s degree (B.A., B.S., B.Eng., etc.)",
          "Bachelor’s degree (B.A., B.S., B.Eng., etc.)",
          "Bachelor’s degree (B.A., B.S., B.Eng., etc.)",
          "Bachelor’s degree (B.A., B.S., B.Eng., etc.)",
          "Bachelor’s degree (B.A., B.S., B.Eng., etc.)",
          "Bachelor’s degree (B.A., B.S., B.Eng., etc.)",
          "Bachelor’s degree (B.A., B.S., B.Eng., etc.)",
          "Bachelor’s degree (B.A., B.S., B.Eng., etc.)",
          "Bachelor’s degree (B.A., B.S., B.Eng., etc.)",
          "Bachelor’s degree (B.A., B.S., B.Eng., etc.)",
          "Bachelor’s degree (B.A., B.S., B.Eng., etc.)",
          "Bachelor’s degree (B.A., B.S., B.Eng., etc.)",
          "Bachelor’s degree (B.A., B.S., B.Eng., etc.)",
          "Bachelor’s degree (B.A., B.S., B.Eng., etc.)",
          "Bachelor’s degree (B.A., B.S., B.Eng., etc.)",
          "Bachelor’s degree (B.A., B.S., B.Eng., etc.)",
          "Bachelor’s degree (B.A., B.S., B.Eng., etc.)",
          "Bachelor’s degree (B.A., B.S., B.Eng., etc.)",
          "Master’s degree (M.A., M.S., M.Eng., MBA, etc.)",
          "Master’s degree (M.A., M.S., M.Eng., MBA, etc.)",
          "Master’s degree (M.A., M.S., M.Eng., MBA, etc.)",
          "Master’s degree (M.A., M.S., M.Eng., MBA, etc.)",
          "Master’s degree (M.A., M.S., M.Eng., MBA, etc.)",
          "Master’s degree (M.A., M.S., M.Eng., MBA, etc.)",
          "Master’s degree (M.A., M.S., M.Eng., MBA, etc.)",
          "Master’s degree (M.A., M.S., M.Eng., MBA, etc.)",
          "Master’s degree (M.A., M.S., M.Eng., MBA, etc.)",
          "Master’s degree (M.A., M.S., M.Eng., MBA, etc.)",
          "Master’s degree (M.A., M.S., M.Eng., MBA, etc.)",
          "Master’s degree (M.A., M.S., M.Eng., MBA, etc.)",
          "Master’s degree (M.A., M.S., M.Eng., MBA, etc.)",
          "Master’s degree (M.A., M.S., M.Eng., MBA, etc.)",
          "Master’s degree (M.A., M.S., M.Eng., MBA, etc.)",
          "Master’s degree (M.A., M.S., M.Eng., MBA, etc.)",
          "Master’s degree (M.A., M.S., M.Eng., MBA, etc.)",
          "Master’s degree (M.A., M.S., M.Eng., MBA, etc.)",
          "Master’s degree (M.A., M.S., M.Eng., MBA, etc.)",
          "Master’s degree (M.A., M.S., M.Eng., MBA, etc.)",
          "Master’s degree (M.A., M.S., M.Eng., MBA, etc.)",
          "Master’s degree (M.A., M.S., M.Eng., MBA, etc.)",
          "Master’s degree (M.A., M.S., M.Eng., MBA, etc.)",
          "Master’s degree (M.A., M.S., M.Eng., MBA, etc.)",
          "Master’s degree (M.A., M.S., M.Eng., MBA, etc.)",
          "Master’s degree (M.A., M.S., M.Eng., MBA, etc.)",
          "Master’s degree (M.A., M.S., M.Eng., MBA, etc.)",
          "Master’s degree (M.A., M.S., M.Eng., MBA, etc.)",
          "Master’s degree (M.A., M.S., M.Eng., MBA, etc.)",
          "Master’s degree (M.A., M.S., M.Eng., MBA, etc.)",
          "Master’s degree (M.A., M.S., M.Eng., MBA, etc.)",
          "Master’s degree (M.A., M.S., M.Eng., MBA, etc.)",
          "Master’s degree (M.A., M.S., M.Eng., MBA, etc.)",
          "Master’s degree (M.A., M.S., M.Eng., MBA, etc.)",
          "Master’s degree (M.A., M.S., M.Eng., MBA, etc.)",
          "Master’s degree (M.A., M.S., M.Eng., MBA, etc.)",
          "Master’s degree (M.A., M.S., M.Eng., MBA, etc.)",
          "Master’s degree (M.A., M.S., M.Eng., MBA, etc.)",
          "Master’s degree (M.A., M.S., M.Eng., MBA, etc.)",
          "Master’s degree (M.A., M.S., M.Eng., MBA, etc.)",
          "Other doctoral degree (Ph.D., Ed.D., etc.)",
          "Other doctoral degree (Ph.D., Ed.D., etc.)",
          "Other doctoral degree (Ph.D., Ed.D., etc.)",
          "Other doctoral degree (Ph.D., Ed.D., etc.)",
          "Other doctoral degree (Ph.D., Ed.D., etc.)",
          "Other doctoral degree (Ph.D., Ed.D., etc.)",
          "Other doctoral degree (Ph.D., Ed.D., etc.)",
          "Other doctoral degree (Ph.D., Ed.D., etc.)",
          "Other doctoral degree (Ph.D., Ed.D., etc.)",
          "Other doctoral degree (Ph.D., Ed.D., etc.)",
          "Other doctoral degree (Ph.D., Ed.D., etc.)",
          "Other doctoral degree (Ph.D., Ed.D., etc.)",
          "Other doctoral degree (Ph.D., Ed.D., etc.)",
          "Other doctoral degree (Ph.D., Ed.D., etc.)",
          "Other doctoral degree (Ph.D., Ed.D., etc.)",
          "Other doctoral degree (Ph.D., Ed.D., etc.)",
          "Other doctoral degree (Ph.D., Ed.D., etc.)",
          "Other doctoral degree (Ph.D., Ed.D., etc.)",
          "Other doctoral degree (Ph.D., Ed.D., etc.)",
          "Other doctoral degree (Ph.D., Ed.D., etc.)",
          "Other doctoral degree (Ph.D., Ed.D., etc.)",
          "Other doctoral degree (Ph.D., Ed.D., etc.)",
          "Other doctoral degree (Ph.D., Ed.D., etc.)",
          "Other doctoral degree (Ph.D., Ed.D., etc.)",
          "Other doctoral degree (Ph.D., Ed.D., etc.)",
          "Other doctoral degree (Ph.D., Ed.D., etc.)",
          "Other doctoral degree (Ph.D., Ed.D., etc.)",
          "Other doctoral degree (Ph.D., Ed.D., etc.)",
          "Other doctoral degree (Ph.D., Ed.D., etc.)",
          "Other doctoral degree (Ph.D., Ed.D., etc.)",
          "Other doctoral degree (Ph.D., Ed.D., etc.)",
          "Other doctoral degree (Ph.D., Ed.D., etc.)",
          "Other doctoral degree (Ph.D., Ed.D., etc.)",
          "Other doctoral degree (Ph.D., Ed.D., etc.)",
          "Other doctoral degree (Ph.D., Ed.D., etc.)",
          "Primary/elementary school",
          "Primary/elementary school",
          "Primary/elementary school",
          "Primary/elementary school",
          "Primary/elementary school",
          "Primary/elementary school",
          "Primary/elementary school",
          "Primary/elementary school",
          "Primary/elementary school",
          "Primary/elementary school",
          "Primary/elementary school",
          "Primary/elementary school",
          "Primary/elementary school",
          "Primary/elementary school",
          "Primary/elementary school",
          "Primary/elementary school",
          "Primary/elementary school",
          "Primary/elementary school",
          "Primary/elementary school",
          "Primary/elementary school",
          "Primary/elementary school",
          "Primary/elementary school",
          "Primary/elementary school",
          "Primary/elementary school",
          "Primary/elementary school",
          "Primary/elementary school",
          "Primary/elementary school",
          "Primary/elementary school",
          "Primary/elementary school",
          "Primary/elementary school",
          "Primary/elementary school",
          "Primary/elementary school",
          "Primary/elementary school",
          "Primary/elementary school",
          "Primary/elementary school",
          "Professional degree (JD, MD, etc.)",
          "Professional degree (JD, MD, etc.)",
          "Professional degree (JD, MD, etc.)",
          "Professional degree (JD, MD, etc.)",
          "Professional degree (JD, MD, etc.)",
          "Professional degree (JD, MD, etc.)",
          "Professional degree (JD, MD, etc.)",
          "Professional degree (JD, MD, etc.)",
          "Professional degree (JD, MD, etc.)",
          "Professional degree (JD, MD, etc.)",
          "Professional degree (JD, MD, etc.)",
          "Professional degree (JD, MD, etc.)",
          "Professional degree (JD, MD, etc.)",
          "Professional degree (JD, MD, etc.)",
          "Professional degree (JD, MD, etc.)",
          "Professional degree (JD, MD, etc.)",
          "Professional degree (JD, MD, etc.)",
          "Professional degree (JD, MD, etc.)",
          "Professional degree (JD, MD, etc.)",
          "Professional degree (JD, MD, etc.)",
          "Professional degree (JD, MD, etc.)",
          "Professional degree (JD, MD, etc.)",
          "Professional degree (JD, MD, etc.)",
          "Professional degree (JD, MD, etc.)",
          "Professional degree (JD, MD, etc.)",
          "Professional degree (JD, MD, etc.)",
          "Professional degree (JD, MD, etc.)",
          "Professional degree (JD, MD, etc.)",
          "Professional degree (JD, MD, etc.)",
          "Professional degree (JD, MD, etc.)",
          "Professional degree (JD, MD, etc.)",
          "Professional degree (JD, MD, etc.)",
          "Professional degree (JD, MD, etc.)",
          "Professional degree (JD, MD, etc.)",
          "Secondary school (e.g. American high school, German Realschule or Gymnasium, etc.)",
          "Secondary school (e.g. American high school, German Realschule or Gymnasium, etc.)",
          "Secondary school (e.g. American high school, German Realschule or Gymnasium, etc.)",
          "Secondary school (e.g. American high school, German Realschule or Gymnasium, etc.)",
          "Secondary school (e.g. American high school, German Realschule or Gymnasium, etc.)",
          "Secondary school (e.g. American high school, German Realschule or Gymnasium, etc.)",
          "Secondary school (e.g. American high school, German Realschule or Gymnasium, etc.)",
          "Secondary school (e.g. American high school, German Realschule or Gymnasium, etc.)",
          "Secondary school (e.g. American high school, German Realschule or Gymnasium, etc.)",
          "Secondary school (e.g. American high school, German Realschule or Gymnasium, etc.)",
          "Secondary school (e.g. American high school, German Realschule or Gymnasium, etc.)",
          "Secondary school (e.g. American high school, German Realschule or Gymnasium, etc.)",
          "Secondary school (e.g. American high school, German Realschule or Gymnasium, etc.)",
          "Secondary school (e.g. American high school, German Realschule or Gymnasium, etc.)",
          "Secondary school (e.g. American high school, German Realschule or Gymnasium, etc.)",
          "Secondary school (e.g. American high school, German Realschule or Gymnasium, etc.)",
          "Secondary school (e.g. American high school, German Realschule or Gymnasium, etc.)",
          "Secondary school (e.g. American high school, German Realschule or Gymnasium, etc.)",
          "Secondary school (e.g. American high school, German Realschule or Gymnasium, etc.)",
          "Secondary school (e.g. American high school, German Realschule or Gymnasium, etc.)",
          "Secondary school (e.g. American high school, German Realschule or Gymnasium, etc.)",
          "Secondary school (e.g. American high school, German Realschule or Gymnasium, etc.)",
          "Secondary school (e.g. American high school, German Realschule or Gymnasium, etc.)",
          "Secondary school (e.g. American high school, German Realschule or Gymnasium, etc.)",
          "Secondary school (e.g. American high school, German Realschule or Gymnasium, etc.)",
          "Secondary school (e.g. American high school, German Realschule or Gymnasium, etc.)",
          "Secondary school (e.g. American high school, German Realschule or Gymnasium, etc.)",
          "Secondary school (e.g. American high school, German Realschule or Gymnasium, etc.)",
          "Secondary school (e.g. American high school, German Realschule or Gymnasium, etc.)",
          "Secondary school (e.g. American high school, German Realschule or Gymnasium, etc.)",
          "Secondary school (e.g. American high school, German Realschule or Gymnasium, etc.)",
          "Secondary school (e.g. American high school, German Realschule or Gymnasium, etc.)",
          "Secondary school (e.g. American high school, German Realschule or Gymnasium, etc.)",
          "Secondary school (e.g. American high school, German Realschule or Gymnasium, etc.)",
          "Secondary school (e.g. American high school, German Realschule or Gymnasium, etc.)",
          "Secondary school (e.g. American high school, German Realschule or Gymnasium, etc.)",
          "Secondary school (e.g. American high school, German Realschule or Gymnasium, etc.)",
          "Secondary school (e.g. American high school, German Realschule or Gymnasium, etc.)",
          "Secondary school (e.g. American high school, German Realschule or Gymnasium, etc.)",
          "Some college/university study without earning a degree",
          "Some college/university study without earning a degree",
          "Some college/university study without earning a degree",
          "Some college/university study without earning a degree",
          "Some college/university study without earning a degree",
          "Some college/university study without earning a degree",
          "Some college/university study without earning a degree",
          "Some college/university study without earning a degree",
          "Some college/university study without earning a degree",
          "Some college/university study without earning a degree",
          "Some college/university study without earning a degree",
          "Some college/university study without earning a degree",
          "Some college/university study without earning a degree",
          "Some college/university study without earning a degree",
          "Some college/university study without earning a degree",
          "Some college/university study without earning a degree",
          "Some college/university study without earning a degree",
          "Some college/university study without earning a degree",
          "Some college/university study without earning a degree",
          "Some college/university study without earning a degree",
          "Some college/university study without earning a degree",
          "Some college/university study without earning a degree",
          "Some college/university study without earning a degree",
          "Some college/university study without earning a degree",
          "Some college/university study without earning a degree",
          "Some college/university study without earning a degree",
          "Some college/university study without earning a degree",
          "Some college/university study without earning a degree",
          "Some college/university study without earning a degree",
          "Some college/university study without earning a degree",
          "Some college/university study without earning a degree",
          "Some college/university study without earning a degree",
          "Some college/university study without earning a degree",
          "Some college/university study without earning a degree",
          "Some college/university study without earning a degree",
          "Some college/university study without earning a degree",
          "Some college/university study without earning a degree",
          "Some college/university study without earning a degree",
          "Some college/university study without earning a degree",
          "Employed full-time",
          "Employed full-time",
          "Employed full-time",
          "Employed full-time",
          "Employed full-time",
          "Employed part-time",
          "Employed part-time",
          "Employed part-time",
          "Employed part-time",
          "Employed part-time",
          "Independent contractor, freelancer, or self-employed",
          "Independent contractor, freelancer, or self-employed",
          "Independent contractor, freelancer, or self-employed",
          "Independent contractor, freelancer, or self-employed",
          "Independent contractor, freelancer, or self-employed",
          "Not employed, and not looking for work",
          "Not employed, and not looking for work",
          "Not employed, and not looking for work",
          "Not employed, and not looking for work",
          "Not employed, and not looking for work",
          "Not employed, but looking for work",
          "Not employed, but looking for work",
          "Not employed, but looking for work",
          "Not employed, but looking for work",
          "Not employed, but looking for work",
          "Retired",
          "Retired",
          "Retired",
          "Retired",
          "Retired",
          "Student, full-time",
          "Student, full-time",
          "Student, full-time",
          "Student, full-time",
          "Student, full-time",
          "Student, part-time",
          "Student, part-time",
          "Student, part-time",
          "Student, part-time",
          "Student, part-time",
          "I am a developer by profession",
          "I am a student who is learning to code",
          "I am not primarily a developer, but I write code sometimes as part of my work",
          "I code primarily as a hobby",
          "I used to be a developer by profession, but no longer am"
         ],
         "maxdepth": 2,
         "name": "",
         "parents": [
          "I am a developer by profession/Employed full-time",
          "I am a student who is learning to code/Employed full-time",
          "I am not primarily a developer, but I write code sometimes as part of my work/Employed full-time",
          "I code primarily as a hobby/Employed full-time",
          "I used to be a developer by profession, but no longer am/Employed full-time",
          "I am a developer by profession/Employed part-time",
          "I am a student who is learning to code/Employed part-time",
          "I am not primarily a developer, but I write code sometimes as part of my work/Employed part-time",
          "I code primarily as a hobby/Employed part-time",
          "I used to be a developer by profession, but no longer am/Employed part-time",
          "I am a developer by profession/Independent contractor, freelancer, or self-employed",
          "I am a student who is learning to code/Independent contractor, freelancer, or self-employed",
          "I am not primarily a developer, but I write code sometimes as part of my work/Independent contractor, freelancer, or self-employed",
          "I code primarily as a hobby/Independent contractor, freelancer, or self-employed",
          "I used to be a developer by profession, but no longer am/Independent contractor, freelancer, or self-employed",
          "I am a developer by profession/Not employed, and not looking for work",
          "I am a student who is learning to code/Not employed, and not looking for work",
          "I am not primarily a developer, but I write code sometimes as part of my work/Not employed, and not looking for work",
          "I code primarily as a hobby/Not employed, and not looking for work",
          "I used to be a developer by profession, but no longer am/Not employed, and not looking for work",
          "I am a developer by profession/Not employed, but looking for work",
          "I am a student who is learning to code/Not employed, but looking for work",
          "I am not primarily a developer, but I write code sometimes as part of my work/Not employed, but looking for work",
          "I code primarily as a hobby/Not employed, but looking for work",
          "I used to be a developer by profession, but no longer am/Not employed, but looking for work",
          "I am a developer by profession/Retired",
          "I am not primarily a developer, but I write code sometimes as part of my work/Retired",
          "I code primarily as a hobby/Retired",
          "I used to be a developer by profession, but no longer am/Retired",
          "I am a developer by profession/Student, full-time",
          "I am a student who is learning to code/Student, full-time",
          "I am not primarily a developer, but I write code sometimes as part of my work/Student, full-time",
          "I code primarily as a hobby/Student, full-time",
          "I used to be a developer by profession, but no longer am/Student, full-time",
          "I am a developer by profession/Student, part-time",
          "I am a student who is learning to code/Student, part-time",
          "I am not primarily a developer, but I write code sometimes as part of my work/Student, part-time",
          "I code primarily as a hobby/Student, part-time",
          "I am a developer by profession/Employed full-time",
          "I am a student who is learning to code/Employed full-time",
          "I am not primarily a developer, but I write code sometimes as part of my work/Employed full-time",
          "I code primarily as a hobby/Employed full-time",
          "I used to be a developer by profession, but no longer am/Employed full-time",
          "I am a developer by profession/Employed part-time",
          "I am a student who is learning to code/Employed part-time",
          "I am not primarily a developer, but I write code sometimes as part of my work/Employed part-time",
          "I code primarily as a hobby/Employed part-time",
          "I used to be a developer by profession, but no longer am/Employed part-time",
          "I am a developer by profession/Independent contractor, freelancer, or self-employed",
          "I am a student who is learning to code/Independent contractor, freelancer, or self-employed",
          "I am not primarily a developer, but I write code sometimes as part of my work/Independent contractor, freelancer, or self-employed",
          "I code primarily as a hobby/Independent contractor, freelancer, or self-employed",
          "I used to be a developer by profession, but no longer am/Independent contractor, freelancer, or self-employed",
          "I am a developer by profession/Not employed, and not looking for work",
          "I am a student who is learning to code/Not employed, and not looking for work",
          "I am not primarily a developer, but I write code sometimes as part of my work/Not employed, and not looking for work",
          "I code primarily as a hobby/Not employed, and not looking for work",
          "I used to be a developer by profession, but no longer am/Not employed, and not looking for work",
          "I am a developer by profession/Not employed, but looking for work",
          "I am a student who is learning to code/Not employed, but looking for work",
          "I am not primarily a developer, but I write code sometimes as part of my work/Not employed, but looking for work",
          "I code primarily as a hobby/Not employed, but looking for work",
          "I used to be a developer by profession, but no longer am/Not employed, but looking for work",
          "I am a developer by profession/Retired",
          "I am not primarily a developer, but I write code sometimes as part of my work/Retired",
          "I code primarily as a hobby/Retired",
          "I used to be a developer by profession, but no longer am/Retired",
          "I am a developer by profession/Student, full-time",
          "I am a student who is learning to code/Student, full-time",
          "I am not primarily a developer, but I write code sometimes as part of my work/Student, full-time",
          "I code primarily as a hobby/Student, full-time",
          "I used to be a developer by profession, but no longer am/Student, full-time",
          "I am a developer by profession/Student, part-time",
          "I am a student who is learning to code/Student, part-time",
          "I am not primarily a developer, but I write code sometimes as part of my work/Student, part-time",
          "I code primarily as a hobby/Student, part-time",
          "I used to be a developer by profession, but no longer am/Student, part-time",
          "I am a developer by profession/Employed full-time",
          "I am a student who is learning to code/Employed full-time",
          "I am not primarily a developer, but I write code sometimes as part of my work/Employed full-time",
          "I code primarily as a hobby/Employed full-time",
          "I used to be a developer by profession, but no longer am/Employed full-time",
          "I am a developer by profession/Employed part-time",
          "I am a student who is learning to code/Employed part-time",
          "I am not primarily a developer, but I write code sometimes as part of my work/Employed part-time",
          "I code primarily as a hobby/Employed part-time",
          "I used to be a developer by profession, but no longer am/Employed part-time",
          "I am a developer by profession/Independent contractor, freelancer, or self-employed",
          "I am a student who is learning to code/Independent contractor, freelancer, or self-employed",
          "I am not primarily a developer, but I write code sometimes as part of my work/Independent contractor, freelancer, or self-employed",
          "I code primarily as a hobby/Independent contractor, freelancer, or self-employed",
          "I used to be a developer by profession, but no longer am/Independent contractor, freelancer, or self-employed",
          "I am a developer by profession/Not employed, and not looking for work",
          "I am a student who is learning to code/Not employed, and not looking for work",
          "I am not primarily a developer, but I write code sometimes as part of my work/Not employed, and not looking for work",
          "I code primarily as a hobby/Not employed, and not looking for work",
          "I used to be a developer by profession, but no longer am/Not employed, and not looking for work",
          "I am a developer by profession/Not employed, but looking for work",
          "I am a student who is learning to code/Not employed, but looking for work",
          "I am not primarily a developer, but I write code sometimes as part of my work/Not employed, but looking for work",
          "I code primarily as a hobby/Not employed, but looking for work",
          "I used to be a developer by profession, but no longer am/Not employed, but looking for work",
          "I am a developer by profession/Retired",
          "I am a student who is learning to code/Retired",
          "I am not primarily a developer, but I write code sometimes as part of my work/Retired",
          "I code primarily as a hobby/Retired",
          "I used to be a developer by profession, but no longer am/Retired",
          "I am a developer by profession/Student, full-time",
          "I am a student who is learning to code/Student, full-time",
          "I am not primarily a developer, but I write code sometimes as part of my work/Student, full-time",
          "I code primarily as a hobby/Student, full-time",
          "I used to be a developer by profession, but no longer am/Student, full-time",
          "I am a developer by profession/Student, part-time",
          "I am a student who is learning to code/Student, part-time",
          "I am not primarily a developer, but I write code sometimes as part of my work/Student, part-time",
          "I code primarily as a hobby/Student, part-time",
          "I used to be a developer by profession, but no longer am/Student, part-time",
          "I am a developer by profession/Employed full-time",
          "I am a student who is learning to code/Employed full-time",
          "I am not primarily a developer, but I write code sometimes as part of my work/Employed full-time",
          "I code primarily as a hobby/Employed full-time",
          "I used to be a developer by profession, but no longer am/Employed full-time",
          "I am a developer by profession/Employed part-time",
          "I am not primarily a developer, but I write code sometimes as part of my work/Employed part-time",
          "I code primarily as a hobby/Employed part-time",
          "I used to be a developer by profession, but no longer am/Employed part-time",
          "I am a developer by profession/Independent contractor, freelancer, or self-employed",
          "I am not primarily a developer, but I write code sometimes as part of my work/Independent contractor, freelancer, or self-employed",
          "I code primarily as a hobby/Independent contractor, freelancer, or self-employed",
          "I used to be a developer by profession, but no longer am/Independent contractor, freelancer, or self-employed",
          "I am a developer by profession/Not employed, and not looking for work",
          "I am a student who is learning to code/Not employed, and not looking for work",
          "I am not primarily a developer, but I write code sometimes as part of my work/Not employed, and not looking for work",
          "I code primarily as a hobby/Not employed, and not looking for work",
          "I am a developer by profession/Not employed, but looking for work",
          "I am a student who is learning to code/Not employed, but looking for work",
          "I am not primarily a developer, but I write code sometimes as part of my work/Not employed, but looking for work",
          "I code primarily as a hobby/Not employed, but looking for work",
          "I used to be a developer by profession, but no longer am/Not employed, but looking for work",
          "I am a developer by profession/Retired",
          "I am a student who is learning to code/Retired",
          "I am not primarily a developer, but I write code sometimes as part of my work/Retired",
          "I code primarily as a hobby/Retired",
          "I used to be a developer by profession, but no longer am/Retired",
          "I am a developer by profession/Student, full-time",
          "I am a student who is learning to code/Student, full-time",
          "I am not primarily a developer, but I write code sometimes as part of my work/Student, full-time",
          "I code primarily as a hobby/Student, full-time",
          "I used to be a developer by profession, but no longer am/Student, full-time",
          "I am a student who is learning to code/Student, part-time",
          "I am not primarily a developer, but I write code sometimes as part of my work/Student, part-time",
          "I used to be a developer by profession, but no longer am/Student, part-time",
          "I am a developer by profession/Employed full-time",
          "I am a student who is learning to code/Employed full-time",
          "I am not primarily a developer, but I write code sometimes as part of my work/Employed full-time",
          "I code primarily as a hobby/Employed full-time",
          "I used to be a developer by profession, but no longer am/Employed full-time",
          "I am a developer by profession/Employed part-time",
          "I am a student who is learning to code/Employed part-time",
          "I am not primarily a developer, but I write code sometimes as part of my work/Employed part-time",
          "I code primarily as a hobby/Employed part-time",
          "I used to be a developer by profession, but no longer am/Employed part-time",
          "I am a developer by profession/Independent contractor, freelancer, or self-employed",
          "I am a student who is learning to code/Independent contractor, freelancer, or self-employed",
          "I am not primarily a developer, but I write code sometimes as part of my work/Independent contractor, freelancer, or self-employed",
          "I code primarily as a hobby/Independent contractor, freelancer, or self-employed",
          "I used to be a developer by profession, but no longer am/Independent contractor, freelancer, or self-employed",
          "I am a developer by profession/Not employed, and not looking for work",
          "I am a student who is learning to code/Not employed, and not looking for work",
          "I code primarily as a hobby/Not employed, and not looking for work",
          "I am a developer by profession/Not employed, but looking for work",
          "I am a student who is learning to code/Not employed, but looking for work",
          "I am not primarily a developer, but I write code sometimes as part of my work/Not employed, but looking for work",
          "I code primarily as a hobby/Not employed, but looking for work",
          "I used to be a developer by profession, but no longer am/Not employed, but looking for work",
          "I am not primarily a developer, but I write code sometimes as part of my work/Retired",
          "I code primarily as a hobby/Retired",
          "I am a developer by profession/Student, full-time",
          "I am a student who is learning to code/Student, full-time",
          "I am not primarily a developer, but I write code sometimes as part of my work/Student, full-time",
          "I code primarily as a hobby/Student, full-time",
          "I used to be a developer by profession, but no longer am/Student, full-time",
          "I am a developer by profession/Student, part-time",
          "I am a student who is learning to code/Student, part-time",
          "I am not primarily a developer, but I write code sometimes as part of my work/Student, part-time",
          "I code primarily as a hobby/Student, part-time",
          "I used to be a developer by profession, but no longer am/Student, part-time",
          "I am a developer by profession/Employed full-time",
          "I am a student who is learning to code/Employed full-time",
          "I am not primarily a developer, but I write code sometimes as part of my work/Employed full-time",
          "I code primarily as a hobby/Employed full-time",
          "I used to be a developer by profession, but no longer am/Employed full-time",
          "I am a developer by profession/Employed part-time",
          "I am a student who is learning to code/Employed part-time",
          "I am not primarily a developer, but I write code sometimes as part of my work/Employed part-time",
          "I code primarily as a hobby/Employed part-time",
          "I am a developer by profession/Independent contractor, freelancer, or self-employed",
          "I am a student who is learning to code/Independent contractor, freelancer, or self-employed",
          "I am not primarily a developer, but I write code sometimes as part of my work/Independent contractor, freelancer, or self-employed",
          "I code primarily as a hobby/Independent contractor, freelancer, or self-employed",
          "I used to be a developer by profession, but no longer am/Independent contractor, freelancer, or self-employed",
          "I am a developer by profession/Not employed, and not looking for work",
          "I am not primarily a developer, but I write code sometimes as part of my work/Not employed, and not looking for work",
          "I code primarily as a hobby/Not employed, and not looking for work",
          "I used to be a developer by profession, but no longer am/Not employed, and not looking for work",
          "I am a developer by profession/Not employed, but looking for work",
          "I am a student who is learning to code/Not employed, but looking for work",
          "I am not primarily a developer, but I write code sometimes as part of my work/Not employed, but looking for work",
          "I code primarily as a hobby/Not employed, but looking for work",
          "I am a developer by profession/Retired",
          "I am a student who is learning to code/Retired",
          "I code primarily as a hobby/Retired",
          "I used to be a developer by profession, but no longer am/Retired",
          "I am a developer by profession/Student, full-time",
          "I am a student who is learning to code/Student, full-time",
          "I am not primarily a developer, but I write code sometimes as part of my work/Student, full-time",
          "I code primarily as a hobby/Student, full-time",
          "I am a developer by profession/Student, part-time",
          "I am a student who is learning to code/Student, part-time",
          "I am not primarily a developer, but I write code sometimes as part of my work/Student, part-time",
          "I code primarily as a hobby/Student, part-time",
          "I am a developer by profession/Employed full-time",
          "I am a student who is learning to code/Employed full-time",
          "I am not primarily a developer, but I write code sometimes as part of my work/Employed full-time",
          "I code primarily as a hobby/Employed full-time",
          "I used to be a developer by profession, but no longer am/Employed full-time",
          "I am a developer by profession/Employed part-time",
          "I am a student who is learning to code/Employed part-time",
          "I am not primarily a developer, but I write code sometimes as part of my work/Employed part-time",
          "I code primarily as a hobby/Employed part-time",
          "I used to be a developer by profession, but no longer am/Employed part-time",
          "I am a developer by profession/Independent contractor, freelancer, or self-employed",
          "I am a student who is learning to code/Independent contractor, freelancer, or self-employed",
          "I am not primarily a developer, but I write code sometimes as part of my work/Independent contractor, freelancer, or self-employed",
          "I code primarily as a hobby/Independent contractor, freelancer, or self-employed",
          "I used to be a developer by profession, but no longer am/Independent contractor, freelancer, or self-employed",
          "I am a developer by profession/Not employed, and not looking for work",
          "I am a student who is learning to code/Not employed, and not looking for work",
          "I am not primarily a developer, but I write code sometimes as part of my work/Not employed, and not looking for work",
          "I code primarily as a hobby/Not employed, and not looking for work",
          "I used to be a developer by profession, but no longer am/Not employed, and not looking for work",
          "I am a developer by profession/Not employed, but looking for work",
          "I am a student who is learning to code/Not employed, but looking for work",
          "I am not primarily a developer, but I write code sometimes as part of my work/Not employed, but looking for work",
          "I code primarily as a hobby/Not employed, but looking for work",
          "I used to be a developer by profession, but no longer am/Not employed, but looking for work",
          "I am a developer by profession/Retired",
          "I am a student who is learning to code/Retired",
          "I am not primarily a developer, but I write code sometimes as part of my work/Retired",
          "I code primarily as a hobby/Retired",
          "I used to be a developer by profession, but no longer am/Retired",
          "I am a developer by profession/Student, full-time",
          "I am a student who is learning to code/Student, full-time",
          "I am not primarily a developer, but I write code sometimes as part of my work/Student, full-time",
          "I code primarily as a hobby/Student, full-time",
          "I used to be a developer by profession, but no longer am/Student, full-time",
          "I am a developer by profession/Student, part-time",
          "I am a student who is learning to code/Student, part-time",
          "I am not primarily a developer, but I write code sometimes as part of my work/Student, part-time",
          "I code primarily as a hobby/Student, part-time",
          "I am a developer by profession/Employed full-time",
          "I am a student who is learning to code/Employed full-time",
          "I am not primarily a developer, but I write code sometimes as part of my work/Employed full-time",
          "I code primarily as a hobby/Employed full-time",
          "I used to be a developer by profession, but no longer am/Employed full-time",
          "I am a developer by profession/Employed part-time",
          "I am a student who is learning to code/Employed part-time",
          "I am not primarily a developer, but I write code sometimes as part of my work/Employed part-time",
          "I code primarily as a hobby/Employed part-time",
          "I used to be a developer by profession, but no longer am/Employed part-time",
          "I am a developer by profession/Independent contractor, freelancer, or self-employed",
          "I am a student who is learning to code/Independent contractor, freelancer, or self-employed",
          "I am not primarily a developer, but I write code sometimes as part of my work/Independent contractor, freelancer, or self-employed",
          "I code primarily as a hobby/Independent contractor, freelancer, or self-employed",
          "I used to be a developer by profession, but no longer am/Independent contractor, freelancer, or self-employed",
          "I am a developer by profession/Not employed, and not looking for work",
          "I am a student who is learning to code/Not employed, and not looking for work",
          "I am not primarily a developer, but I write code sometimes as part of my work/Not employed, and not looking for work",
          "I code primarily as a hobby/Not employed, and not looking for work",
          "I used to be a developer by profession, but no longer am/Not employed, and not looking for work",
          "I am a developer by profession/Not employed, but looking for work",
          "I am a student who is learning to code/Not employed, but looking for work",
          "I am not primarily a developer, but I write code sometimes as part of my work/Not employed, but looking for work",
          "I code primarily as a hobby/Not employed, but looking for work",
          "I used to be a developer by profession, but no longer am/Not employed, but looking for work",
          "I am a developer by profession/Retired",
          "I am not primarily a developer, but I write code sometimes as part of my work/Retired",
          "I code primarily as a hobby/Retired",
          "I used to be a developer by profession, but no longer am/Retired",
          "I am a developer by profession/Student, full-time",
          "I am a student who is learning to code/Student, full-time",
          "I am not primarily a developer, but I write code sometimes as part of my work/Student, full-time",
          "I code primarily as a hobby/Student, full-time",
          "I used to be a developer by profession, but no longer am/Student, full-time",
          "I am a developer by profession/Student, part-time",
          "I am a student who is learning to code/Student, part-time",
          "I am not primarily a developer, but I write code sometimes as part of my work/Student, part-time",
          "I code primarily as a hobby/Student, part-time",
          "I used to be a developer by profession, but no longer am/Student, part-time",
          "I am a developer by profession",
          "I am a student who is learning to code",
          "I am not primarily a developer, but I write code sometimes as part of my work",
          "I code primarily as a hobby",
          "I used to be a developer by profession, but no longer am",
          "I am a developer by profession",
          "I am a student who is learning to code",
          "I am not primarily a developer, but I write code sometimes as part of my work",
          "I code primarily as a hobby",
          "I used to be a developer by profession, but no longer am",
          "I am a developer by profession",
          "I am a student who is learning to code",
          "I am not primarily a developer, but I write code sometimes as part of my work",
          "I code primarily as a hobby",
          "I used to be a developer by profession, but no longer am",
          "I am a developer by profession",
          "I am a student who is learning to code",
          "I am not primarily a developer, but I write code sometimes as part of my work",
          "I code primarily as a hobby",
          "I used to be a developer by profession, but no longer am",
          "I am a developer by profession",
          "I am a student who is learning to code",
          "I am not primarily a developer, but I write code sometimes as part of my work",
          "I code primarily as a hobby",
          "I used to be a developer by profession, but no longer am",
          "I am a developer by profession",
          "I am a student who is learning to code",
          "I am not primarily a developer, but I write code sometimes as part of my work",
          "I code primarily as a hobby",
          "I used to be a developer by profession, but no longer am",
          "I am a developer by profession",
          "I am a student who is learning to code",
          "I am not primarily a developer, but I write code sometimes as part of my work",
          "I code primarily as a hobby",
          "I used to be a developer by profession, but no longer am",
          "I am a developer by profession",
          "I am a student who is learning to code",
          "I am not primarily a developer, but I write code sometimes as part of my work",
          "I code primarily as a hobby",
          "I used to be a developer by profession, but no longer am",
          "",
          "",
          "",
          "",
          ""
         ],
         "type": "sunburst",
         "values": [
          1325,
          20,
          135,
          20,
          15,
          56,
          19,
          7,
          5,
          2,
          152,
          16,
          11,
          12,
          7,
          4,
          3,
          1,
          6,
          7,
          32,
          37,
          4,
          8,
          6,
          1,
          1,
          2,
          4,
          30,
          185,
          6,
          16,
          2,
          8,
          34,
          1,
          3,
          23998,
          186,
          1628,
          192,
          277,
          690,
          124,
          86,
          26,
          10,
          2603,
          104,
          207,
          66,
          43,
          64,
          56,
          9,
          40,
          21,
          518,
          497,
          72,
          95,
          34,
          14,
          1,
          29,
          46,
          516,
          1972,
          181,
          108,
          28,
          208,
          296,
          31,
          16,
          1,
          11894,
          64,
          1459,
          136,
          253,
          300,
          26,
          74,
          19,
          9,
          1630,
          14,
          194,
          26,
          35,
          31,
          1,
          6,
          11,
          10,
          156,
          84,
          41,
          29,
          18,
          17,
          1,
          7,
          22,
          29,
          191,
          297,
          156,
          22,
          13,
          35,
          54,
          10,
          3,
          1,
          1244,
          8,
          711,
          27,
          33,
          47,
          24,
          2,
          2,
          168,
          56,
          11,
          8,
          2,
          2,
          1,
          8,
          11,
          3,
          18,
          1,
          2,
          6,
          2,
          6,
          14,
          13,
          16,
          20,
          36,
          4,
          1,
          2,
          1,
          1,
          259,
          7,
          33,
          16,
          3,
          19,
          14,
          3,
          12,
          1,
          81,
          19,
          15,
          33,
          5,
          3,
          65,
          200,
          11,
          36,
          2,
          47,
          3,
          1,
          3,
          19,
          588,
          5,
          524,
          1,
          21,
          152,
          3,
          80,
          1,
          754,
          14,
          102,
          33,
          14,
          18,
          6,
          6,
          3,
          136,
          4,
          19,
          8,
          3,
          3,
          1,
          4,
          1,
          16,
          12,
          2,
          7,
          2,
          3,
          2,
          3,
          10,
          29,
          7,
          4,
          4,
          4,
          2,
          1,
          1767,
          73,
          152,
          67,
          28,
          191,
          86,
          29,
          30,
          3,
          518,
          102,
          45,
          87,
          10,
          18,
          150,
          3,
          209,
          4,
          67,
          275,
          7,
          140,
          4,
          2,
          4,
          2,
          6,
          2,
          215,
          3150,
          55,
          1084,
          11,
          118,
          400,
          20,
          126,
          5036,
          105,
          490,
          103,
          71,
          288,
          81,
          36,
          26,
          5,
          1118,
          73,
          113,
          52,
          23,
          28,
          46,
          5,
          51,
          8,
          158,
          227,
          25,
          74,
          21,
          9,
          1,
          15,
          17,
          209,
          1378,
          45,
          186,
          10,
          75,
          190,
          19,
          30,
          3,
          46277,
          477,
          4710,
          594,
          694,
          1609,
          356,
          265,
          123,
          32,
          6406,
          332,
          660,
          295,
          134,
          153,
          323,
          26,
          529,
          51,
          969,
          1171,
          171,
          401,
          88,
          51,
          10,
          19,
          93,
          114,
          1206,
          7619,
          491,
          1948,
          66,
          469,
          1132,
          87,
          259,
          7,
          57140,
          11420,
          6429,
          4242,
          1186
         ]
        }
       ],
       "layout": {
        "legend": {
         "tracegroupgap": 0
        },
        "margin": {
         "t": 60
        },
        "template": {
         "data": {
          "bar": [
           {
            "error_x": {
             "color": "#2a3f5f"
            },
            "error_y": {
             "color": "#2a3f5f"
            },
            "marker": {
             "line": {
              "color": "#E5ECF6",
              "width": 0.5
             },
             "pattern": {
              "fillmode": "overlay",
              "size": 10,
              "solidity": 0.2
             }
            },
            "type": "bar"
           }
          ],
          "barpolar": [
           {
            "marker": {
             "line": {
              "color": "#E5ECF6",
              "width": 0.5
             },
             "pattern": {
              "fillmode": "overlay",
              "size": 10,
              "solidity": 0.2
             }
            },
            "type": "barpolar"
           }
          ],
          "carpet": [
           {
            "aaxis": {
             "endlinecolor": "#2a3f5f",
             "gridcolor": "white",
             "linecolor": "white",
             "minorgridcolor": "white",
             "startlinecolor": "#2a3f5f"
            },
            "baxis": {
             "endlinecolor": "#2a3f5f",
             "gridcolor": "white",
             "linecolor": "white",
             "minorgridcolor": "white",
             "startlinecolor": "#2a3f5f"
            },
            "type": "carpet"
           }
          ],
          "choropleth": [
           {
            "colorbar": {
             "outlinewidth": 0,
             "ticks": ""
            },
            "type": "choropleth"
           }
          ],
          "contour": [
           {
            "colorbar": {
             "outlinewidth": 0,
             "ticks": ""
            },
            "colorscale": [
             [
              0,
              "#0d0887"
             ],
             [
              0.1111111111111111,
              "#46039f"
             ],
             [
              0.2222222222222222,
              "#7201a8"
             ],
             [
              0.3333333333333333,
              "#9c179e"
             ],
             [
              0.4444444444444444,
              "#bd3786"
             ],
             [
              0.5555555555555556,
              "#d8576b"
             ],
             [
              0.6666666666666666,
              "#ed7953"
             ],
             [
              0.7777777777777778,
              "#fb9f3a"
             ],
             [
              0.8888888888888888,
              "#fdca26"
             ],
             [
              1,
              "#f0f921"
             ]
            ],
            "type": "contour"
           }
          ],
          "contourcarpet": [
           {
            "colorbar": {
             "outlinewidth": 0,
             "ticks": ""
            },
            "type": "contourcarpet"
           }
          ],
          "heatmap": [
           {
            "colorbar": {
             "outlinewidth": 0,
             "ticks": ""
            },
            "colorscale": [
             [
              0,
              "#0d0887"
             ],
             [
              0.1111111111111111,
              "#46039f"
             ],
             [
              0.2222222222222222,
              "#7201a8"
             ],
             [
              0.3333333333333333,
              "#9c179e"
             ],
             [
              0.4444444444444444,
              "#bd3786"
             ],
             [
              0.5555555555555556,
              "#d8576b"
             ],
             [
              0.6666666666666666,
              "#ed7953"
             ],
             [
              0.7777777777777778,
              "#fb9f3a"
             ],
             [
              0.8888888888888888,
              "#fdca26"
             ],
             [
              1,
              "#f0f921"
             ]
            ],
            "type": "heatmap"
           }
          ],
          "heatmapgl": [
           {
            "colorbar": {
             "outlinewidth": 0,
             "ticks": ""
            },
            "colorscale": [
             [
              0,
              "#0d0887"
             ],
             [
              0.1111111111111111,
              "#46039f"
             ],
             [
              0.2222222222222222,
              "#7201a8"
             ],
             [
              0.3333333333333333,
              "#9c179e"
             ],
             [
              0.4444444444444444,
              "#bd3786"
             ],
             [
              0.5555555555555556,
              "#d8576b"
             ],
             [
              0.6666666666666666,
              "#ed7953"
             ],
             [
              0.7777777777777778,
              "#fb9f3a"
             ],
             [
              0.8888888888888888,
              "#fdca26"
             ],
             [
              1,
              "#f0f921"
             ]
            ],
            "type": "heatmapgl"
           }
          ],
          "histogram": [
           {
            "marker": {
             "pattern": {
              "fillmode": "overlay",
              "size": 10,
              "solidity": 0.2
             }
            },
            "type": "histogram"
           }
          ],
          "histogram2d": [
           {
            "colorbar": {
             "outlinewidth": 0,
             "ticks": ""
            },
            "colorscale": [
             [
              0,
              "#0d0887"
             ],
             [
              0.1111111111111111,
              "#46039f"
             ],
             [
              0.2222222222222222,
              "#7201a8"
             ],
             [
              0.3333333333333333,
              "#9c179e"
             ],
             [
              0.4444444444444444,
              "#bd3786"
             ],
             [
              0.5555555555555556,
              "#d8576b"
             ],
             [
              0.6666666666666666,
              "#ed7953"
             ],
             [
              0.7777777777777778,
              "#fb9f3a"
             ],
             [
              0.8888888888888888,
              "#fdca26"
             ],
             [
              1,
              "#f0f921"
             ]
            ],
            "type": "histogram2d"
           }
          ],
          "histogram2dcontour": [
           {
            "colorbar": {
             "outlinewidth": 0,
             "ticks": ""
            },
            "colorscale": [
             [
              0,
              "#0d0887"
             ],
             [
              0.1111111111111111,
              "#46039f"
             ],
             [
              0.2222222222222222,
              "#7201a8"
             ],
             [
              0.3333333333333333,
              "#9c179e"
             ],
             [
              0.4444444444444444,
              "#bd3786"
             ],
             [
              0.5555555555555556,
              "#d8576b"
             ],
             [
              0.6666666666666666,
              "#ed7953"
             ],
             [
              0.7777777777777778,
              "#fb9f3a"
             ],
             [
              0.8888888888888888,
              "#fdca26"
             ],
             [
              1,
              "#f0f921"
             ]
            ],
            "type": "histogram2dcontour"
           }
          ],
          "mesh3d": [
           {
            "colorbar": {
             "outlinewidth": 0,
             "ticks": ""
            },
            "type": "mesh3d"
           }
          ],
          "parcoords": [
           {
            "line": {
             "colorbar": {
              "outlinewidth": 0,
              "ticks": ""
             }
            },
            "type": "parcoords"
           }
          ],
          "pie": [
           {
            "automargin": true,
            "type": "pie"
           }
          ],
          "scatter": [
           {
            "fillpattern": {
             "fillmode": "overlay",
             "size": 10,
             "solidity": 0.2
            },
            "type": "scatter"
           }
          ],
          "scatter3d": [
           {
            "line": {
             "colorbar": {
              "outlinewidth": 0,
              "ticks": ""
             }
            },
            "marker": {
             "colorbar": {
              "outlinewidth": 0,
              "ticks": ""
             }
            },
            "type": "scatter3d"
           }
          ],
          "scattercarpet": [
           {
            "marker": {
             "colorbar": {
              "outlinewidth": 0,
              "ticks": ""
             }
            },
            "type": "scattercarpet"
           }
          ],
          "scattergeo": [
           {
            "marker": {
             "colorbar": {
              "outlinewidth": 0,
              "ticks": ""
             }
            },
            "type": "scattergeo"
           }
          ],
          "scattergl": [
           {
            "marker": {
             "colorbar": {
              "outlinewidth": 0,
              "ticks": ""
             }
            },
            "type": "scattergl"
           }
          ],
          "scattermapbox": [
           {
            "marker": {
             "colorbar": {
              "outlinewidth": 0,
              "ticks": ""
             }
            },
            "type": "scattermapbox"
           }
          ],
          "scatterpolar": [
           {
            "marker": {
             "colorbar": {
              "outlinewidth": 0,
              "ticks": ""
             }
            },
            "type": "scatterpolar"
           }
          ],
          "scatterpolargl": [
           {
            "marker": {
             "colorbar": {
              "outlinewidth": 0,
              "ticks": ""
             }
            },
            "type": "scatterpolargl"
           }
          ],
          "scatterternary": [
           {
            "marker": {
             "colorbar": {
              "outlinewidth": 0,
              "ticks": ""
             }
            },
            "type": "scatterternary"
           }
          ],
          "surface": [
           {
            "colorbar": {
             "outlinewidth": 0,
             "ticks": ""
            },
            "colorscale": [
             [
              0,
              "#0d0887"
             ],
             [
              0.1111111111111111,
              "#46039f"
             ],
             [
              0.2222222222222222,
              "#7201a8"
             ],
             [
              0.3333333333333333,
              "#9c179e"
             ],
             [
              0.4444444444444444,
              "#bd3786"
             ],
             [
              0.5555555555555556,
              "#d8576b"
             ],
             [
              0.6666666666666666,
              "#ed7953"
             ],
             [
              0.7777777777777778,
              "#fb9f3a"
             ],
             [
              0.8888888888888888,
              "#fdca26"
             ],
             [
              1,
              "#f0f921"
             ]
            ],
            "type": "surface"
           }
          ],
          "table": [
           {
            "cells": {
             "fill": {
              "color": "#EBF0F8"
             },
             "line": {
              "color": "white"
             }
            },
            "header": {
             "fill": {
              "color": "#C8D4E3"
             },
             "line": {
              "color": "white"
             }
            },
            "type": "table"
           }
          ]
         },
         "layout": {
          "annotationdefaults": {
           "arrowcolor": "#2a3f5f",
           "arrowhead": 0,
           "arrowwidth": 1
          },
          "autotypenumbers": "strict",
          "coloraxis": {
           "colorbar": {
            "outlinewidth": 0,
            "ticks": ""
           }
          },
          "colorscale": {
           "diverging": [
            [
             0,
             "#8e0152"
            ],
            [
             0.1,
             "#c51b7d"
            ],
            [
             0.2,
             "#de77ae"
            ],
            [
             0.3,
             "#f1b6da"
            ],
            [
             0.4,
             "#fde0ef"
            ],
            [
             0.5,
             "#f7f7f7"
            ],
            [
             0.6,
             "#e6f5d0"
            ],
            [
             0.7,
             "#b8e186"
            ],
            [
             0.8,
             "#7fbc41"
            ],
            [
             0.9,
             "#4d9221"
            ],
            [
             1,
             "#276419"
            ]
           ],
           "sequential": [
            [
             0,
             "#0d0887"
            ],
            [
             0.1111111111111111,
             "#46039f"
            ],
            [
             0.2222222222222222,
             "#7201a8"
            ],
            [
             0.3333333333333333,
             "#9c179e"
            ],
            [
             0.4444444444444444,
             "#bd3786"
            ],
            [
             0.5555555555555556,
             "#d8576b"
            ],
            [
             0.6666666666666666,
             "#ed7953"
            ],
            [
             0.7777777777777778,
             "#fb9f3a"
            ],
            [
             0.8888888888888888,
             "#fdca26"
            ],
            [
             1,
             "#f0f921"
            ]
           ],
           "sequentialminus": [
            [
             0,
             "#0d0887"
            ],
            [
             0.1111111111111111,
             "#46039f"
            ],
            [
             0.2222222222222222,
             "#7201a8"
            ],
            [
             0.3333333333333333,
             "#9c179e"
            ],
            [
             0.4444444444444444,
             "#bd3786"
            ],
            [
             0.5555555555555556,
             "#d8576b"
            ],
            [
             0.6666666666666666,
             "#ed7953"
            ],
            [
             0.7777777777777778,
             "#fb9f3a"
            ],
            [
             0.8888888888888888,
             "#fdca26"
            ],
            [
             1,
             "#f0f921"
            ]
           ]
          },
          "colorway": [
           "#636efa",
           "#EF553B",
           "#00cc96",
           "#ab63fa",
           "#FFA15A",
           "#19d3f3",
           "#FF6692",
           "#B6E880",
           "#FF97FF",
           "#FECB52"
          ],
          "font": {
           "color": "#2a3f5f"
          },
          "geo": {
           "bgcolor": "white",
           "lakecolor": "white",
           "landcolor": "#E5ECF6",
           "showlakes": true,
           "showland": true,
           "subunitcolor": "white"
          },
          "hoverlabel": {
           "align": "left"
          },
          "hovermode": "closest",
          "mapbox": {
           "style": "light"
          },
          "paper_bgcolor": "white",
          "plot_bgcolor": "#E5ECF6",
          "polar": {
           "angularaxis": {
            "gridcolor": "white",
            "linecolor": "white",
            "ticks": ""
           },
           "bgcolor": "#E5ECF6",
           "radialaxis": {
            "gridcolor": "white",
            "linecolor": "white",
            "ticks": ""
           }
          },
          "scene": {
           "xaxis": {
            "backgroundcolor": "#E5ECF6",
            "gridcolor": "white",
            "gridwidth": 2,
            "linecolor": "white",
            "showbackground": true,
            "ticks": "",
            "zerolinecolor": "white"
           },
           "yaxis": {
            "backgroundcolor": "#E5ECF6",
            "gridcolor": "white",
            "gridwidth": 2,
            "linecolor": "white",
            "showbackground": true,
            "ticks": "",
            "zerolinecolor": "white"
           },
           "zaxis": {
            "backgroundcolor": "#E5ECF6",
            "gridcolor": "white",
            "gridwidth": 2,
            "linecolor": "white",
            "showbackground": true,
            "ticks": "",
            "zerolinecolor": "white"
           }
          },
          "shapedefaults": {
           "line": {
            "color": "#2a3f5f"
           }
          },
          "ternary": {
           "aaxis": {
            "gridcolor": "white",
            "linecolor": "white",
            "ticks": ""
           },
           "baxis": {
            "gridcolor": "white",
            "linecolor": "white",
            "ticks": ""
           },
           "bgcolor": "#E5ECF6",
           "caxis": {
            "gridcolor": "white",
            "linecolor": "white",
            "ticks": ""
           }
          },
          "title": {
           "x": 0.05
          },
          "xaxis": {
           "automargin": true,
           "gridcolor": "white",
           "linecolor": "white",
           "ticks": "",
           "title": {
            "standoff": 15
           },
           "zerolinecolor": "white",
           "zerolinewidth": 2
          },
          "yaxis": {
           "automargin": true,
           "gridcolor": "white",
           "linecolor": "white",
           "ticks": "",
           "title": {
            "standoff": 15
           },
           "zerolinecolor": "white",
           "zerolinewidth": 2
          }
         }
        }
       }
      },
      "text/html": [
       "<div>                            <div id=\"de7a6a11-802c-41a8-b0d8-ef44d18d85a2\" class=\"plotly-graph-div\" style=\"height:525px; width:100%;\"></div>            <script type=\"text/javascript\">                require([\"plotly\"], function(Plotly) {                    window.PLOTLYENV=window.PLOTLYENV || {};                                    if (document.getElementById(\"de7a6a11-802c-41a8-b0d8-ef44d18d85a2\")) {                    Plotly.newPlot(                        \"de7a6a11-802c-41a8-b0d8-ef44d18d85a2\",                        [{\"branchvalues\":\"total\",\"domain\":{\"x\":[0.0,1.0],\"y\":[0.0,1.0]},\"hovertemplate\":\"labels=%{label}<br>size=%{value}<br>parent=%{parent}<br>id=%{id}<extra></extra>\",\"ids\":[\"I am a developer by profession/Employed full-time/Associate degree (A.A., A.S., etc.)\",\"I am a student who is learning to code/Employed full-time/Associate degree (A.A., A.S., etc.)\",\"I am not primarily a developer, but I write code sometimes as part of my work/Employed full-time/Associate degree (A.A., A.S., etc.)\",\"I code primarily as a hobby/Employed full-time/Associate degree (A.A., A.S., etc.)\",\"I used to be a developer by profession, but no longer am/Employed full-time/Associate degree (A.A., A.S., etc.)\",\"I am a developer by profession/Employed part-time/Associate degree (A.A., A.S., etc.)\",\"I am a student who is learning to code/Employed part-time/Associate degree (A.A., A.S., etc.)\",\"I am not primarily a developer, but I write code sometimes as part of my work/Employed part-time/Associate degree (A.A., A.S., etc.)\",\"I code primarily as a hobby/Employed part-time/Associate degree (A.A., A.S., etc.)\",\"I used to be a developer by profession, but no longer am/Employed part-time/Associate degree (A.A., A.S., etc.)\",\"I am a developer by profession/Independent contractor, freelancer, or self-employed/Associate degree (A.A., A.S., etc.)\",\"I am a student who is learning to code/Independent contractor, freelancer, or self-employed/Associate degree (A.A., A.S., etc.)\",\"I am not primarily a developer, but I write code sometimes as part of my work/Independent contractor, freelancer, or self-employed/Associate degree (A.A., A.S., etc.)\",\"I code primarily as a hobby/Independent contractor, freelancer, or self-employed/Associate degree (A.A., A.S., etc.)\",\"I used to be a developer by profession, but no longer am/Independent contractor, freelancer, or self-employed/Associate degree (A.A., A.S., etc.)\",\"I am a developer by profession/Not employed, and not looking for work/Associate degree (A.A., A.S., etc.)\",\"I am a student who is learning to code/Not employed, and not looking for work/Associate degree (A.A., A.S., etc.)\",\"I am not primarily a developer, but I write code sometimes as part of my work/Not employed, and not looking for work/Associate degree (A.A., A.S., etc.)\",\"I code primarily as a hobby/Not employed, and not looking for work/Associate degree (A.A., A.S., etc.)\",\"I used to be a developer by profession, but no longer am/Not employed, and not looking for work/Associate degree (A.A., A.S., etc.)\",\"I am a developer by profession/Not employed, but looking for work/Associate degree (A.A., A.S., etc.)\",\"I am a student who is learning to code/Not employed, but looking for work/Associate degree (A.A., A.S., etc.)\",\"I am not primarily a developer, but I write code sometimes as part of my work/Not employed, but looking for work/Associate degree (A.A., A.S., etc.)\",\"I code primarily as a hobby/Not employed, but looking for work/Associate degree (A.A., A.S., etc.)\",\"I used to be a developer by profession, but no longer am/Not employed, but looking for work/Associate degree (A.A., A.S., etc.)\",\"I am a developer by profession/Retired/Associate degree (A.A., A.S., etc.)\",\"I am not primarily a developer, but I write code sometimes as part of my work/Retired/Associate degree (A.A., A.S., etc.)\",\"I code primarily as a hobby/Retired/Associate degree (A.A., A.S., etc.)\",\"I used to be a developer by profession, but no longer am/Retired/Associate degree (A.A., A.S., etc.)\",\"I am a developer by profession/Student, full-time/Associate degree (A.A., A.S., etc.)\",\"I am a student who is learning to code/Student, full-time/Associate degree (A.A., A.S., etc.)\",\"I am not primarily a developer, but I write code sometimes as part of my work/Student, full-time/Associate degree (A.A., A.S., etc.)\",\"I code primarily as a hobby/Student, full-time/Associate degree (A.A., A.S., etc.)\",\"I used to be a developer by profession, but no longer am/Student, full-time/Associate degree (A.A., A.S., etc.)\",\"I am a developer by profession/Student, part-time/Associate degree (A.A., A.S., etc.)\",\"I am a student who is learning to code/Student, part-time/Associate degree (A.A., A.S., etc.)\",\"I am not primarily a developer, but I write code sometimes as part of my work/Student, part-time/Associate degree (A.A., A.S., etc.)\",\"I code primarily as a hobby/Student, part-time/Associate degree (A.A., A.S., etc.)\",\"I am a developer by profession/Employed full-time/Bachelor\\u2019s degree (B.A., B.S., B.Eng., etc.)\",\"I am a student who is learning to code/Employed full-time/Bachelor\\u2019s degree (B.A., B.S., B.Eng., etc.)\",\"I am not primarily a developer, but I write code sometimes as part of my work/Employed full-time/Bachelor\\u2019s degree (B.A., B.S., B.Eng., etc.)\",\"I code primarily as a hobby/Employed full-time/Bachelor\\u2019s degree (B.A., B.S., B.Eng., etc.)\",\"I used to be a developer by profession, but no longer am/Employed full-time/Bachelor\\u2019s degree (B.A., B.S., B.Eng., etc.)\",\"I am a developer by profession/Employed part-time/Bachelor\\u2019s degree (B.A., B.S., B.Eng., etc.)\",\"I am a student who is learning to code/Employed part-time/Bachelor\\u2019s degree (B.A., B.S., B.Eng., etc.)\",\"I am not primarily a developer, but I write code sometimes as part of my work/Employed part-time/Bachelor\\u2019s degree (B.A., B.S., B.Eng., etc.)\",\"I code primarily as a hobby/Employed part-time/Bachelor\\u2019s degree (B.A., B.S., B.Eng., etc.)\",\"I used to be a developer by profession, but no longer am/Employed part-time/Bachelor\\u2019s degree (B.A., B.S., B.Eng., etc.)\",\"I am a developer by profession/Independent contractor, freelancer, or self-employed/Bachelor\\u2019s degree (B.A., B.S., B.Eng., etc.)\",\"I am a student who is learning to code/Independent contractor, freelancer, or self-employed/Bachelor\\u2019s degree (B.A., B.S., B.Eng., etc.)\",\"I am not primarily a developer, but I write code sometimes as part of my work/Independent contractor, freelancer, or self-employed/Bachelor\\u2019s degree (B.A., B.S., B.Eng., etc.)\",\"I code primarily as a hobby/Independent contractor, freelancer, or self-employed/Bachelor\\u2019s degree (B.A., B.S., B.Eng., etc.)\",\"I used to be a developer by profession, but no longer am/Independent contractor, freelancer, or self-employed/Bachelor\\u2019s degree (B.A., B.S., B.Eng., etc.)\",\"I am a developer by profession/Not employed, and not looking for work/Bachelor\\u2019s degree (B.A., B.S., B.Eng., etc.)\",\"I am a student who is learning to code/Not employed, and not looking for work/Bachelor\\u2019s degree (B.A., B.S., B.Eng., etc.)\",\"I am not primarily a developer, but I write code sometimes as part of my work/Not employed, and not looking for work/Bachelor\\u2019s degree (B.A., B.S., B.Eng., etc.)\",\"I code primarily as a hobby/Not employed, and not looking for work/Bachelor\\u2019s degree (B.A., B.S., B.Eng., etc.)\",\"I used to be a developer by profession, but no longer am/Not employed, and not looking for work/Bachelor\\u2019s degree (B.A., B.S., B.Eng., etc.)\",\"I am a developer by profession/Not employed, but looking for work/Bachelor\\u2019s degree (B.A., B.S., B.Eng., etc.)\",\"I am a student who is learning to code/Not employed, but looking for work/Bachelor\\u2019s degree (B.A., B.S., B.Eng., etc.)\",\"I am not primarily a developer, but I write code sometimes as part of my work/Not employed, but looking for work/Bachelor\\u2019s degree (B.A., B.S., B.Eng., etc.)\",\"I code primarily as a hobby/Not employed, but looking for work/Bachelor\\u2019s degree (B.A., B.S., B.Eng., etc.)\",\"I used to be a developer by profession, but no longer am/Not employed, but looking for work/Bachelor\\u2019s degree (B.A., B.S., B.Eng., etc.)\",\"I am a developer by profession/Retired/Bachelor\\u2019s degree (B.A., B.S., B.Eng., etc.)\",\"I am not primarily a developer, but I write code sometimes as part of my work/Retired/Bachelor\\u2019s degree (B.A., B.S., B.Eng., etc.)\",\"I code primarily as a hobby/Retired/Bachelor\\u2019s degree (B.A., B.S., B.Eng., etc.)\",\"I used to be a developer by profession, but no longer am/Retired/Bachelor\\u2019s degree (B.A., B.S., B.Eng., etc.)\",\"I am a developer by profession/Student, full-time/Bachelor\\u2019s degree (B.A., B.S., B.Eng., etc.)\",\"I am a student who is learning to code/Student, full-time/Bachelor\\u2019s degree (B.A., B.S., B.Eng., etc.)\",\"I am not primarily a developer, but I write code sometimes as part of my work/Student, full-time/Bachelor\\u2019s degree (B.A., B.S., B.Eng., etc.)\",\"I code primarily as a hobby/Student, full-time/Bachelor\\u2019s degree (B.A., B.S., B.Eng., etc.)\",\"I used to be a developer by profession, but no longer am/Student, full-time/Bachelor\\u2019s degree (B.A., B.S., B.Eng., etc.)\",\"I am a developer by profession/Student, part-time/Bachelor\\u2019s degree (B.A., B.S., B.Eng., etc.)\",\"I am a student who is learning to code/Student, part-time/Bachelor\\u2019s degree (B.A., B.S., B.Eng., etc.)\",\"I am not primarily a developer, but I write code sometimes as part of my work/Student, part-time/Bachelor\\u2019s degree (B.A., B.S., B.Eng., etc.)\",\"I code primarily as a hobby/Student, part-time/Bachelor\\u2019s degree (B.A., B.S., B.Eng., etc.)\",\"I used to be a developer by profession, but no longer am/Student, part-time/Bachelor\\u2019s degree (B.A., B.S., B.Eng., etc.)\",\"I am a developer by profession/Employed full-time/Master\\u2019s degree (M.A., M.S., M.Eng., MBA, etc.)\",\"I am a student who is learning to code/Employed full-time/Master\\u2019s degree (M.A., M.S., M.Eng., MBA, etc.)\",\"I am not primarily a developer, but I write code sometimes as part of my work/Employed full-time/Master\\u2019s degree (M.A., M.S., M.Eng., MBA, etc.)\",\"I code primarily as a hobby/Employed full-time/Master\\u2019s degree (M.A., M.S., M.Eng., MBA, etc.)\",\"I used to be a developer by profession, but no longer am/Employed full-time/Master\\u2019s degree (M.A., M.S., M.Eng., MBA, etc.)\",\"I am a developer by profession/Employed part-time/Master\\u2019s degree (M.A., M.S., M.Eng., MBA, etc.)\",\"I am a student who is learning to code/Employed part-time/Master\\u2019s degree (M.A., M.S., M.Eng., MBA, etc.)\",\"I am not primarily a developer, but I write code sometimes as part of my work/Employed part-time/Master\\u2019s degree (M.A., M.S., M.Eng., MBA, etc.)\",\"I code primarily as a hobby/Employed part-time/Master\\u2019s degree (M.A., M.S., M.Eng., MBA, etc.)\",\"I used to be a developer by profession, but no longer am/Employed part-time/Master\\u2019s degree (M.A., M.S., M.Eng., MBA, etc.)\",\"I am a developer by profession/Independent contractor, freelancer, or self-employed/Master\\u2019s degree (M.A., M.S., M.Eng., MBA, etc.)\",\"I am a student who is learning to code/Independent contractor, freelancer, or self-employed/Master\\u2019s degree (M.A., M.S., M.Eng., MBA, etc.)\",\"I am not primarily a developer, but I write code sometimes as part of my work/Independent contractor, freelancer, or self-employed/Master\\u2019s degree (M.A., M.S., M.Eng., MBA, etc.)\",\"I code primarily as a hobby/Independent contractor, freelancer, or self-employed/Master\\u2019s degree (M.A., M.S., M.Eng., MBA, etc.)\",\"I used to be a developer by profession, but no longer am/Independent contractor, freelancer, or self-employed/Master\\u2019s degree (M.A., M.S., M.Eng., MBA, etc.)\",\"I am a developer by profession/Not employed, and not looking for work/Master\\u2019s degree (M.A., M.S., M.Eng., MBA, etc.)\",\"I am a student who is learning to code/Not employed, and not looking for work/Master\\u2019s degree (M.A., M.S., M.Eng., MBA, etc.)\",\"I am not primarily a developer, but I write code sometimes as part of my work/Not employed, and not looking for work/Master\\u2019s degree (M.A., M.S., M.Eng., MBA, etc.)\",\"I code primarily as a hobby/Not employed, and not looking for work/Master\\u2019s degree (M.A., M.S., M.Eng., MBA, etc.)\",\"I used to be a developer by profession, but no longer am/Not employed, and not looking for work/Master\\u2019s degree (M.A., M.S., M.Eng., MBA, etc.)\",\"I am a developer by profession/Not employed, but looking for work/Master\\u2019s degree (M.A., M.S., M.Eng., MBA, etc.)\",\"I am a student who is learning to code/Not employed, but looking for work/Master\\u2019s degree (M.A., M.S., M.Eng., MBA, etc.)\",\"I am not primarily a developer, but I write code sometimes as part of my work/Not employed, but looking for work/Master\\u2019s degree (M.A., M.S., M.Eng., MBA, etc.)\",\"I code primarily as a hobby/Not employed, but looking for work/Master\\u2019s degree (M.A., M.S., M.Eng., MBA, etc.)\",\"I used to be a developer by profession, but no longer am/Not employed, but looking for work/Master\\u2019s degree (M.A., M.S., M.Eng., MBA, etc.)\",\"I am a developer by profession/Retired/Master\\u2019s degree (M.A., M.S., M.Eng., MBA, etc.)\",\"I am a student who is learning to code/Retired/Master\\u2019s degree (M.A., M.S., M.Eng., MBA, etc.)\",\"I am not primarily a developer, but I write code sometimes as part of my work/Retired/Master\\u2019s degree (M.A., M.S., M.Eng., MBA, etc.)\",\"I code primarily as a hobby/Retired/Master\\u2019s degree (M.A., M.S., M.Eng., MBA, etc.)\",\"I used to be a developer by profession, but no longer am/Retired/Master\\u2019s degree (M.A., M.S., M.Eng., MBA, etc.)\",\"I am a developer by profession/Student, full-time/Master\\u2019s degree (M.A., M.S., M.Eng., MBA, etc.)\",\"I am a student who is learning to code/Student, full-time/Master\\u2019s degree (M.A., M.S., M.Eng., MBA, etc.)\",\"I am not primarily a developer, but I write code sometimes as part of my work/Student, full-time/Master\\u2019s degree (M.A., M.S., M.Eng., MBA, etc.)\",\"I code primarily as a hobby/Student, full-time/Master\\u2019s degree (M.A., M.S., M.Eng., MBA, etc.)\",\"I used to be a developer by profession, but no longer am/Student, full-time/Master\\u2019s degree (M.A., M.S., M.Eng., MBA, etc.)\",\"I am a developer by profession/Student, part-time/Master\\u2019s degree (M.A., M.S., M.Eng., MBA, etc.)\",\"I am a student who is learning to code/Student, part-time/Master\\u2019s degree (M.A., M.S., M.Eng., MBA, etc.)\",\"I am not primarily a developer, but I write code sometimes as part of my work/Student, part-time/Master\\u2019s degree (M.A., M.S., M.Eng., MBA, etc.)\",\"I code primarily as a hobby/Student, part-time/Master\\u2019s degree (M.A., M.S., M.Eng., MBA, etc.)\",\"I used to be a developer by profession, but no longer am/Student, part-time/Master\\u2019s degree (M.A., M.S., M.Eng., MBA, etc.)\",\"I am a developer by profession/Employed full-time/Other doctoral degree (Ph.D., Ed.D., etc.)\",\"I am a student who is learning to code/Employed full-time/Other doctoral degree (Ph.D., Ed.D., etc.)\",\"I am not primarily a developer, but I write code sometimes as part of my work/Employed full-time/Other doctoral degree (Ph.D., Ed.D., etc.)\",\"I code primarily as a hobby/Employed full-time/Other doctoral degree (Ph.D., Ed.D., etc.)\",\"I used to be a developer by profession, but no longer am/Employed full-time/Other doctoral degree (Ph.D., Ed.D., etc.)\",\"I am a developer by profession/Employed part-time/Other doctoral degree (Ph.D., Ed.D., etc.)\",\"I am not primarily a developer, but I write code sometimes as part of my work/Employed part-time/Other doctoral degree (Ph.D., Ed.D., etc.)\",\"I code primarily as a hobby/Employed part-time/Other doctoral degree (Ph.D., Ed.D., etc.)\",\"I used to be a developer by profession, but no longer am/Employed part-time/Other doctoral degree (Ph.D., Ed.D., etc.)\",\"I am a developer by profession/Independent contractor, freelancer, or self-employed/Other doctoral degree (Ph.D., Ed.D., etc.)\",\"I am not primarily a developer, but I write code sometimes as part of my work/Independent contractor, freelancer, or self-employed/Other doctoral degree (Ph.D., Ed.D., etc.)\",\"I code primarily as a hobby/Independent contractor, freelancer, or self-employed/Other doctoral degree (Ph.D., Ed.D., etc.)\",\"I used to be a developer by profession, but no longer am/Independent contractor, freelancer, or self-employed/Other doctoral degree (Ph.D., Ed.D., etc.)\",\"I am a developer by profession/Not employed, and not looking for work/Other doctoral degree (Ph.D., Ed.D., etc.)\",\"I am a student who is learning to code/Not employed, and not looking for work/Other doctoral degree (Ph.D., Ed.D., etc.)\",\"I am not primarily a developer, but I write code sometimes as part of my work/Not employed, and not looking for work/Other doctoral degree (Ph.D., Ed.D., etc.)\",\"I code primarily as a hobby/Not employed, and not looking for work/Other doctoral degree (Ph.D., Ed.D., etc.)\",\"I am a developer by profession/Not employed, but looking for work/Other doctoral degree (Ph.D., Ed.D., etc.)\",\"I am a student who is learning to code/Not employed, but looking for work/Other doctoral degree (Ph.D., Ed.D., etc.)\",\"I am not primarily a developer, but I write code sometimes as part of my work/Not employed, but looking for work/Other doctoral degree (Ph.D., Ed.D., etc.)\",\"I code primarily as a hobby/Not employed, but looking for work/Other doctoral degree (Ph.D., Ed.D., etc.)\",\"I used to be a developer by profession, but no longer am/Not employed, but looking for work/Other doctoral degree (Ph.D., Ed.D., etc.)\",\"I am a developer by profession/Retired/Other doctoral degree (Ph.D., Ed.D., etc.)\",\"I am a student who is learning to code/Retired/Other doctoral degree (Ph.D., Ed.D., etc.)\",\"I am not primarily a developer, but I write code sometimes as part of my work/Retired/Other doctoral degree (Ph.D., Ed.D., etc.)\",\"I code primarily as a hobby/Retired/Other doctoral degree (Ph.D., Ed.D., etc.)\",\"I used to be a developer by profession, but no longer am/Retired/Other doctoral degree (Ph.D., Ed.D., etc.)\",\"I am a developer by profession/Student, full-time/Other doctoral degree (Ph.D., Ed.D., etc.)\",\"I am a student who is learning to code/Student, full-time/Other doctoral degree (Ph.D., Ed.D., etc.)\",\"I am not primarily a developer, but I write code sometimes as part of my work/Student, full-time/Other doctoral degree (Ph.D., Ed.D., etc.)\",\"I code primarily as a hobby/Student, full-time/Other doctoral degree (Ph.D., Ed.D., etc.)\",\"I used to be a developer by profession, but no longer am/Student, full-time/Other doctoral degree (Ph.D., Ed.D., etc.)\",\"I am a student who is learning to code/Student, part-time/Other doctoral degree (Ph.D., Ed.D., etc.)\",\"I am not primarily a developer, but I write code sometimes as part of my work/Student, part-time/Other doctoral degree (Ph.D., Ed.D., etc.)\",\"I used to be a developer by profession, but no longer am/Student, part-time/Other doctoral degree (Ph.D., Ed.D., etc.)\",\"I am a developer by profession/Employed full-time/Primary/elementary school\",\"I am a student who is learning to code/Employed full-time/Primary/elementary school\",\"I am not primarily a developer, but I write code sometimes as part of my work/Employed full-time/Primary/elementary school\",\"I code primarily as a hobby/Employed full-time/Primary/elementary school\",\"I used to be a developer by profession, but no longer am/Employed full-time/Primary/elementary school\",\"I am a developer by profession/Employed part-time/Primary/elementary school\",\"I am a student who is learning to code/Employed part-time/Primary/elementary school\",\"I am not primarily a developer, but I write code sometimes as part of my work/Employed part-time/Primary/elementary school\",\"I code primarily as a hobby/Employed part-time/Primary/elementary school\",\"I used to be a developer by profession, but no longer am/Employed part-time/Primary/elementary school\",\"I am a developer by profession/Independent contractor, freelancer, or self-employed/Primary/elementary school\",\"I am a student who is learning to code/Independent contractor, freelancer, or self-employed/Primary/elementary school\",\"I am not primarily a developer, but I write code sometimes as part of my work/Independent contractor, freelancer, or self-employed/Primary/elementary school\",\"I code primarily as a hobby/Independent contractor, freelancer, or self-employed/Primary/elementary school\",\"I used to be a developer by profession, but no longer am/Independent contractor, freelancer, or self-employed/Primary/elementary school\",\"I am a developer by profession/Not employed, and not looking for work/Primary/elementary school\",\"I am a student who is learning to code/Not employed, and not looking for work/Primary/elementary school\",\"I code primarily as a hobby/Not employed, and not looking for work/Primary/elementary school\",\"I am a developer by profession/Not employed, but looking for work/Primary/elementary school\",\"I am a student who is learning to code/Not employed, but looking for work/Primary/elementary school\",\"I am not primarily a developer, but I write code sometimes as part of my work/Not employed, but looking for work/Primary/elementary school\",\"I code primarily as a hobby/Not employed, but looking for work/Primary/elementary school\",\"I used to be a developer by profession, but no longer am/Not employed, but looking for work/Primary/elementary school\",\"I am not primarily a developer, but I write code sometimes as part of my work/Retired/Primary/elementary school\",\"I code primarily as a hobby/Retired/Primary/elementary school\",\"I am a developer by profession/Student, full-time/Primary/elementary school\",\"I am a student who is learning to code/Student, full-time/Primary/elementary school\",\"I am not primarily a developer, but I write code sometimes as part of my work/Student, full-time/Primary/elementary school\",\"I code primarily as a hobby/Student, full-time/Primary/elementary school\",\"I used to be a developer by profession, but no longer am/Student, full-time/Primary/elementary school\",\"I am a developer by profession/Student, part-time/Primary/elementary school\",\"I am a student who is learning to code/Student, part-time/Primary/elementary school\",\"I am not primarily a developer, but I write code sometimes as part of my work/Student, part-time/Primary/elementary school\",\"I code primarily as a hobby/Student, part-time/Primary/elementary school\",\"I used to be a developer by profession, but no longer am/Student, part-time/Primary/elementary school\",\"I am a developer by profession/Employed full-time/Professional degree (JD, MD, etc.)\",\"I am a student who is learning to code/Employed full-time/Professional degree (JD, MD, etc.)\",\"I am not primarily a developer, but I write code sometimes as part of my work/Employed full-time/Professional degree (JD, MD, etc.)\",\"I code primarily as a hobby/Employed full-time/Professional degree (JD, MD, etc.)\",\"I used to be a developer by profession, but no longer am/Employed full-time/Professional degree (JD, MD, etc.)\",\"I am a developer by profession/Employed part-time/Professional degree (JD, MD, etc.)\",\"I am a student who is learning to code/Employed part-time/Professional degree (JD, MD, etc.)\",\"I am not primarily a developer, but I write code sometimes as part of my work/Employed part-time/Professional degree (JD, MD, etc.)\",\"I code primarily as a hobby/Employed part-time/Professional degree (JD, MD, etc.)\",\"I am a developer by profession/Independent contractor, freelancer, or self-employed/Professional degree (JD, MD, etc.)\",\"I am a student who is learning to code/Independent contractor, freelancer, or self-employed/Professional degree (JD, MD, etc.)\",\"I am not primarily a developer, but I write code sometimes as part of my work/Independent contractor, freelancer, or self-employed/Professional degree (JD, MD, etc.)\",\"I code primarily as a hobby/Independent contractor, freelancer, or self-employed/Professional degree (JD, MD, etc.)\",\"I used to be a developer by profession, but no longer am/Independent contractor, freelancer, or self-employed/Professional degree (JD, MD, etc.)\",\"I am a developer by profession/Not employed, and not looking for work/Professional degree (JD, MD, etc.)\",\"I am not primarily a developer, but I write code sometimes as part of my work/Not employed, and not looking for work/Professional degree (JD, MD, etc.)\",\"I code primarily as a hobby/Not employed, and not looking for work/Professional degree (JD, MD, etc.)\",\"I used to be a developer by profession, but no longer am/Not employed, and not looking for work/Professional degree (JD, MD, etc.)\",\"I am a developer by profession/Not employed, but looking for work/Professional degree (JD, MD, etc.)\",\"I am a student who is learning to code/Not employed, but looking for work/Professional degree (JD, MD, etc.)\",\"I am not primarily a developer, but I write code sometimes as part of my work/Not employed, but looking for work/Professional degree (JD, MD, etc.)\",\"I code primarily as a hobby/Not employed, but looking for work/Professional degree (JD, MD, etc.)\",\"I am a developer by profession/Retired/Professional degree (JD, MD, etc.)\",\"I am a student who is learning to code/Retired/Professional degree (JD, MD, etc.)\",\"I code primarily as a hobby/Retired/Professional degree (JD, MD, etc.)\",\"I used to be a developer by profession, but no longer am/Retired/Professional degree (JD, MD, etc.)\",\"I am a developer by profession/Student, full-time/Professional degree (JD, MD, etc.)\",\"I am a student who is learning to code/Student, full-time/Professional degree (JD, MD, etc.)\",\"I am not primarily a developer, but I write code sometimes as part of my work/Student, full-time/Professional degree (JD, MD, etc.)\",\"I code primarily as a hobby/Student, full-time/Professional degree (JD, MD, etc.)\",\"I am a developer by profession/Student, part-time/Professional degree (JD, MD, etc.)\",\"I am a student who is learning to code/Student, part-time/Professional degree (JD, MD, etc.)\",\"I am not primarily a developer, but I write code sometimes as part of my work/Student, part-time/Professional degree (JD, MD, etc.)\",\"I code primarily as a hobby/Student, part-time/Professional degree (JD, MD, etc.)\",\"I am a developer by profession/Employed full-time/Secondary school (e.g. American high school, German Realschule or Gymnasium, etc.)\",\"I am a student who is learning to code/Employed full-time/Secondary school (e.g. American high school, German Realschule or Gymnasium, etc.)\",\"I am not primarily a developer, but I write code sometimes as part of my work/Employed full-time/Secondary school (e.g. American high school, German Realschule or Gymnasium, etc.)\",\"I code primarily as a hobby/Employed full-time/Secondary school (e.g. American high school, German Realschule or Gymnasium, etc.)\",\"I used to be a developer by profession, but no longer am/Employed full-time/Secondary school (e.g. American high school, German Realschule or Gymnasium, etc.)\",\"I am a developer by profession/Employed part-time/Secondary school (e.g. American high school, German Realschule or Gymnasium, etc.)\",\"I am a student who is learning to code/Employed part-time/Secondary school (e.g. American high school, German Realschule or Gymnasium, etc.)\",\"I am not primarily a developer, but I write code sometimes as part of my work/Employed part-time/Secondary school (e.g. American high school, German Realschule or Gymnasium, etc.)\",\"I code primarily as a hobby/Employed part-time/Secondary school (e.g. American high school, German Realschule or Gymnasium, etc.)\",\"I used to be a developer by profession, but no longer am/Employed part-time/Secondary school (e.g. American high school, German Realschule or Gymnasium, etc.)\",\"I am a developer by profession/Independent contractor, freelancer, or self-employed/Secondary school (e.g. American high school, German Realschule or Gymnasium, etc.)\",\"I am a student who is learning to code/Independent contractor, freelancer, or self-employed/Secondary school (e.g. American high school, German Realschule or Gymnasium, etc.)\",\"I am not primarily a developer, but I write code sometimes as part of my work/Independent contractor, freelancer, or self-employed/Secondary school (e.g. American high school, German Realschule or Gymnasium, etc.)\",\"I code primarily as a hobby/Independent contractor, freelancer, or self-employed/Secondary school (e.g. American high school, German Realschule or Gymnasium, etc.)\",\"I used to be a developer by profession, but no longer am/Independent contractor, freelancer, or self-employed/Secondary school (e.g. American high school, German Realschule or Gymnasium, etc.)\",\"I am a developer by profession/Not employed, and not looking for work/Secondary school (e.g. American high school, German Realschule or Gymnasium, etc.)\",\"I am a student who is learning to code/Not employed, and not looking for work/Secondary school (e.g. American high school, German Realschule or Gymnasium, etc.)\",\"I am not primarily a developer, but I write code sometimes as part of my work/Not employed, and not looking for work/Secondary school (e.g. American high school, German Realschule or Gymnasium, etc.)\",\"I code primarily as a hobby/Not employed, and not looking for work/Secondary school (e.g. American high school, German Realschule or Gymnasium, etc.)\",\"I used to be a developer by profession, but no longer am/Not employed, and not looking for work/Secondary school (e.g. American high school, German Realschule or Gymnasium, etc.)\",\"I am a developer by profession/Not employed, but looking for work/Secondary school (e.g. American high school, German Realschule or Gymnasium, etc.)\",\"I am a student who is learning to code/Not employed, but looking for work/Secondary school (e.g. American high school, German Realschule or Gymnasium, etc.)\",\"I am not primarily a developer, but I write code sometimes as part of my work/Not employed, but looking for work/Secondary school (e.g. American high school, German Realschule or Gymnasium, etc.)\",\"I code primarily as a hobby/Not employed, but looking for work/Secondary school (e.g. American high school, German Realschule or Gymnasium, etc.)\",\"I used to be a developer by profession, but no longer am/Not employed, but looking for work/Secondary school (e.g. American high school, German Realschule or Gymnasium, etc.)\",\"I am a developer by profession/Retired/Secondary school (e.g. American high school, German Realschule or Gymnasium, etc.)\",\"I am a student who is learning to code/Retired/Secondary school (e.g. American high school, German Realschule or Gymnasium, etc.)\",\"I am not primarily a developer, but I write code sometimes as part of my work/Retired/Secondary school (e.g. American high school, German Realschule or Gymnasium, etc.)\",\"I code primarily as a hobby/Retired/Secondary school (e.g. American high school, German Realschule or Gymnasium, etc.)\",\"I used to be a developer by profession, but no longer am/Retired/Secondary school (e.g. American high school, German Realschule or Gymnasium, etc.)\",\"I am a developer by profession/Student, full-time/Secondary school (e.g. American high school, German Realschule or Gymnasium, etc.)\",\"I am a student who is learning to code/Student, full-time/Secondary school (e.g. American high school, German Realschule or Gymnasium, etc.)\",\"I am not primarily a developer, but I write code sometimes as part of my work/Student, full-time/Secondary school (e.g. American high school, German Realschule or Gymnasium, etc.)\",\"I code primarily as a hobby/Student, full-time/Secondary school (e.g. American high school, German Realschule or Gymnasium, etc.)\",\"I used to be a developer by profession, but no longer am/Student, full-time/Secondary school (e.g. American high school, German Realschule or Gymnasium, etc.)\",\"I am a developer by profession/Student, part-time/Secondary school (e.g. American high school, German Realschule or Gymnasium, etc.)\",\"I am a student who is learning to code/Student, part-time/Secondary school (e.g. American high school, German Realschule or Gymnasium, etc.)\",\"I am not primarily a developer, but I write code sometimes as part of my work/Student, part-time/Secondary school (e.g. American high school, German Realschule or Gymnasium, etc.)\",\"I code primarily as a hobby/Student, part-time/Secondary school (e.g. American high school, German Realschule or Gymnasium, etc.)\",\"I am a developer by profession/Employed full-time/Some college/university study without earning a degree\",\"I am a student who is learning to code/Employed full-time/Some college/university study without earning a degree\",\"I am not primarily a developer, but I write code sometimes as part of my work/Employed full-time/Some college/university study without earning a degree\",\"I code primarily as a hobby/Employed full-time/Some college/university study without earning a degree\",\"I used to be a developer by profession, but no longer am/Employed full-time/Some college/university study without earning a degree\",\"I am a developer by profession/Employed part-time/Some college/university study without earning a degree\",\"I am a student who is learning to code/Employed part-time/Some college/university study without earning a degree\",\"I am not primarily a developer, but I write code sometimes as part of my work/Employed part-time/Some college/university study without earning a degree\",\"I code primarily as a hobby/Employed part-time/Some college/university study without earning a degree\",\"I used to be a developer by profession, but no longer am/Employed part-time/Some college/university study without earning a degree\",\"I am a developer by profession/Independent contractor, freelancer, or self-employed/Some college/university study without earning a degree\",\"I am a student who is learning to code/Independent contractor, freelancer, or self-employed/Some college/university study without earning a degree\",\"I am not primarily a developer, but I write code sometimes as part of my work/Independent contractor, freelancer, or self-employed/Some college/university study without earning a degree\",\"I code primarily as a hobby/Independent contractor, freelancer, or self-employed/Some college/university study without earning a degree\",\"I used to be a developer by profession, but no longer am/Independent contractor, freelancer, or self-employed/Some college/university study without earning a degree\",\"I am a developer by profession/Not employed, and not looking for work/Some college/university study without earning a degree\",\"I am a student who is learning to code/Not employed, and not looking for work/Some college/university study without earning a degree\",\"I am not primarily a developer, but I write code sometimes as part of my work/Not employed, and not looking for work/Some college/university study without earning a degree\",\"I code primarily as a hobby/Not employed, and not looking for work/Some college/university study without earning a degree\",\"I used to be a developer by profession, but no longer am/Not employed, and not looking for work/Some college/university study without earning a degree\",\"I am a developer by profession/Not employed, but looking for work/Some college/university study without earning a degree\",\"I am a student who is learning to code/Not employed, but looking for work/Some college/university study without earning a degree\",\"I am not primarily a developer, but I write code sometimes as part of my work/Not employed, but looking for work/Some college/university study without earning a degree\",\"I code primarily as a hobby/Not employed, but looking for work/Some college/university study without earning a degree\",\"I used to be a developer by profession, but no longer am/Not employed, but looking for work/Some college/university study without earning a degree\",\"I am a developer by profession/Retired/Some college/university study without earning a degree\",\"I am not primarily a developer, but I write code sometimes as part of my work/Retired/Some college/university study without earning a degree\",\"I code primarily as a hobby/Retired/Some college/university study without earning a degree\",\"I used to be a developer by profession, but no longer am/Retired/Some college/university study without earning a degree\",\"I am a developer by profession/Student, full-time/Some college/university study without earning a degree\",\"I am a student who is learning to code/Student, full-time/Some college/university study without earning a degree\",\"I am not primarily a developer, but I write code sometimes as part of my work/Student, full-time/Some college/university study without earning a degree\",\"I code primarily as a hobby/Student, full-time/Some college/university study without earning a degree\",\"I used to be a developer by profession, but no longer am/Student, full-time/Some college/university study without earning a degree\",\"I am a developer by profession/Student, part-time/Some college/university study without earning a degree\",\"I am a student who is learning to code/Student, part-time/Some college/university study without earning a degree\",\"I am not primarily a developer, but I write code sometimes as part of my work/Student, part-time/Some college/university study without earning a degree\",\"I code primarily as a hobby/Student, part-time/Some college/university study without earning a degree\",\"I used to be a developer by profession, but no longer am/Student, part-time/Some college/university study without earning a degree\",\"I am a developer by profession/Employed full-time\",\"I am a student who is learning to code/Employed full-time\",\"I am not primarily a developer, but I write code sometimes as part of my work/Employed full-time\",\"I code primarily as a hobby/Employed full-time\",\"I used to be a developer by profession, but no longer am/Employed full-time\",\"I am a developer by profession/Employed part-time\",\"I am a student who is learning to code/Employed part-time\",\"I am not primarily a developer, but I write code sometimes as part of my work/Employed part-time\",\"I code primarily as a hobby/Employed part-time\",\"I used to be a developer by profession, but no longer am/Employed part-time\",\"I am a developer by profession/Independent contractor, freelancer, or self-employed\",\"I am a student who is learning to code/Independent contractor, freelancer, or self-employed\",\"I am not primarily a developer, but I write code sometimes as part of my work/Independent contractor, freelancer, or self-employed\",\"I code primarily as a hobby/Independent contractor, freelancer, or self-employed\",\"I used to be a developer by profession, but no longer am/Independent contractor, freelancer, or self-employed\",\"I am a developer by profession/Not employed, and not looking for work\",\"I am a student who is learning to code/Not employed, and not looking for work\",\"I am not primarily a developer, but I write code sometimes as part of my work/Not employed, and not looking for work\",\"I code primarily as a hobby/Not employed, and not looking for work\",\"I used to be a developer by profession, but no longer am/Not employed, and not looking for work\",\"I am a developer by profession/Not employed, but looking for work\",\"I am a student who is learning to code/Not employed, but looking for work\",\"I am not primarily a developer, but I write code sometimes as part of my work/Not employed, but looking for work\",\"I code primarily as a hobby/Not employed, but looking for work\",\"I used to be a developer by profession, but no longer am/Not employed, but looking for work\",\"I am a developer by profession/Retired\",\"I am a student who is learning to code/Retired\",\"I am not primarily a developer, but I write code sometimes as part of my work/Retired\",\"I code primarily as a hobby/Retired\",\"I used to be a developer by profession, but no longer am/Retired\",\"I am a developer by profession/Student, full-time\",\"I am a student who is learning to code/Student, full-time\",\"I am not primarily a developer, but I write code sometimes as part of my work/Student, full-time\",\"I code primarily as a hobby/Student, full-time\",\"I used to be a developer by profession, but no longer am/Student, full-time\",\"I am a developer by profession/Student, part-time\",\"I am a student who is learning to code/Student, part-time\",\"I am not primarily a developer, but I write code sometimes as part of my work/Student, part-time\",\"I code primarily as a hobby/Student, part-time\",\"I used to be a developer by profession, but no longer am/Student, part-time\",\"I am a developer by profession\",\"I am a student who is learning to code\",\"I am not primarily a developer, but I write code sometimes as part of my work\",\"I code primarily as a hobby\",\"I used to be a developer by profession, but no longer am\"],\"labels\":[\"Associate degree (A.A., A.S., etc.)\",\"Associate degree (A.A., A.S., etc.)\",\"Associate degree (A.A., A.S., etc.)\",\"Associate degree (A.A., A.S., etc.)\",\"Associate degree (A.A., A.S., etc.)\",\"Associate degree (A.A., A.S., etc.)\",\"Associate degree (A.A., A.S., etc.)\",\"Associate degree (A.A., A.S., etc.)\",\"Associate degree (A.A., A.S., etc.)\",\"Associate degree (A.A., A.S., etc.)\",\"Associate degree (A.A., A.S., etc.)\",\"Associate degree (A.A., A.S., etc.)\",\"Associate degree (A.A., A.S., etc.)\",\"Associate degree (A.A., A.S., etc.)\",\"Associate degree (A.A., A.S., etc.)\",\"Associate degree (A.A., A.S., etc.)\",\"Associate degree (A.A., A.S., etc.)\",\"Associate degree (A.A., A.S., etc.)\",\"Associate degree (A.A., A.S., etc.)\",\"Associate degree (A.A., A.S., etc.)\",\"Associate degree (A.A., A.S., etc.)\",\"Associate degree (A.A., A.S., etc.)\",\"Associate degree (A.A., A.S., etc.)\",\"Associate degree (A.A., A.S., etc.)\",\"Associate degree (A.A., A.S., etc.)\",\"Associate degree (A.A., A.S., etc.)\",\"Associate degree (A.A., A.S., etc.)\",\"Associate degree (A.A., A.S., etc.)\",\"Associate degree (A.A., A.S., etc.)\",\"Associate degree (A.A., A.S., etc.)\",\"Associate degree (A.A., A.S., etc.)\",\"Associate degree (A.A., A.S., etc.)\",\"Associate degree (A.A., A.S., etc.)\",\"Associate degree (A.A., A.S., etc.)\",\"Associate degree (A.A., A.S., etc.)\",\"Associate degree (A.A., A.S., etc.)\",\"Associate degree (A.A., A.S., etc.)\",\"Associate degree (A.A., A.S., etc.)\",\"Bachelor\\u2019s degree (B.A., B.S., B.Eng., etc.)\",\"Bachelor\\u2019s degree (B.A., B.S., B.Eng., etc.)\",\"Bachelor\\u2019s degree (B.A., B.S., B.Eng., etc.)\",\"Bachelor\\u2019s degree (B.A., B.S., B.Eng., etc.)\",\"Bachelor\\u2019s degree (B.A., B.S., B.Eng., etc.)\",\"Bachelor\\u2019s degree (B.A., B.S., B.Eng., etc.)\",\"Bachelor\\u2019s degree (B.A., B.S., B.Eng., etc.)\",\"Bachelor\\u2019s degree (B.A., B.S., B.Eng., etc.)\",\"Bachelor\\u2019s degree (B.A., B.S., B.Eng., etc.)\",\"Bachelor\\u2019s degree (B.A., B.S., B.Eng., etc.)\",\"Bachelor\\u2019s degree (B.A., B.S., B.Eng., etc.)\",\"Bachelor\\u2019s degree (B.A., B.S., B.Eng., etc.)\",\"Bachelor\\u2019s degree (B.A., B.S., B.Eng., etc.)\",\"Bachelor\\u2019s degree (B.A., B.S., B.Eng., etc.)\",\"Bachelor\\u2019s degree (B.A., B.S., B.Eng., etc.)\",\"Bachelor\\u2019s degree (B.A., B.S., B.Eng., etc.)\",\"Bachelor\\u2019s degree (B.A., B.S., B.Eng., etc.)\",\"Bachelor\\u2019s degree (B.A., B.S., B.Eng., etc.)\",\"Bachelor\\u2019s degree (B.A., B.S., B.Eng., etc.)\",\"Bachelor\\u2019s degree (B.A., B.S., B.Eng., etc.)\",\"Bachelor\\u2019s degree (B.A., B.S., B.Eng., etc.)\",\"Bachelor\\u2019s degree (B.A., B.S., B.Eng., etc.)\",\"Bachelor\\u2019s degree (B.A., B.S., B.Eng., etc.)\",\"Bachelor\\u2019s degree (B.A., B.S., B.Eng., etc.)\",\"Bachelor\\u2019s degree (B.A., B.S., B.Eng., etc.)\",\"Bachelor\\u2019s degree (B.A., B.S., B.Eng., etc.)\",\"Bachelor\\u2019s degree (B.A., B.S., B.Eng., etc.)\",\"Bachelor\\u2019s degree (B.A., B.S., B.Eng., etc.)\",\"Bachelor\\u2019s degree (B.A., B.S., B.Eng., etc.)\",\"Bachelor\\u2019s degree (B.A., B.S., B.Eng., etc.)\",\"Bachelor\\u2019s degree (B.A., B.S., B.Eng., etc.)\",\"Bachelor\\u2019s degree (B.A., B.S., B.Eng., etc.)\",\"Bachelor\\u2019s degree (B.A., B.S., B.Eng., etc.)\",\"Bachelor\\u2019s degree (B.A., B.S., B.Eng., etc.)\",\"Bachelor\\u2019s degree (B.A., B.S., B.Eng., etc.)\",\"Bachelor\\u2019s degree (B.A., B.S., B.Eng., etc.)\",\"Bachelor\\u2019s degree (B.A., B.S., B.Eng., etc.)\",\"Bachelor\\u2019s degree (B.A., B.S., B.Eng., etc.)\",\"Bachelor\\u2019s degree (B.A., B.S., B.Eng., etc.)\",\"Master\\u2019s degree (M.A., M.S., M.Eng., MBA, etc.)\",\"Master\\u2019s degree (M.A., M.S., M.Eng., MBA, etc.)\",\"Master\\u2019s degree (M.A., M.S., M.Eng., MBA, etc.)\",\"Master\\u2019s degree (M.A., M.S., M.Eng., MBA, etc.)\",\"Master\\u2019s degree (M.A., M.S., M.Eng., MBA, etc.)\",\"Master\\u2019s degree (M.A., M.S., M.Eng., MBA, etc.)\",\"Master\\u2019s degree (M.A., M.S., M.Eng., MBA, etc.)\",\"Master\\u2019s degree (M.A., M.S., M.Eng., MBA, etc.)\",\"Master\\u2019s degree (M.A., M.S., M.Eng., MBA, etc.)\",\"Master\\u2019s degree (M.A., M.S., M.Eng., MBA, etc.)\",\"Master\\u2019s degree (M.A., M.S., M.Eng., MBA, etc.)\",\"Master\\u2019s degree (M.A., M.S., M.Eng., MBA, etc.)\",\"Master\\u2019s degree (M.A., M.S., M.Eng., MBA, etc.)\",\"Master\\u2019s degree (M.A., M.S., M.Eng., MBA, etc.)\",\"Master\\u2019s degree (M.A., M.S., M.Eng., MBA, etc.)\",\"Master\\u2019s degree (M.A., M.S., M.Eng., MBA, etc.)\",\"Master\\u2019s degree (M.A., M.S., M.Eng., MBA, etc.)\",\"Master\\u2019s degree (M.A., M.S., M.Eng., MBA, etc.)\",\"Master\\u2019s degree (M.A., M.S., M.Eng., MBA, etc.)\",\"Master\\u2019s degree (M.A., M.S., M.Eng., MBA, etc.)\",\"Master\\u2019s degree (M.A., M.S., M.Eng., MBA, etc.)\",\"Master\\u2019s degree (M.A., M.S., M.Eng., MBA, etc.)\",\"Master\\u2019s degree (M.A., M.S., M.Eng., MBA, etc.)\",\"Master\\u2019s degree (M.A., M.S., M.Eng., MBA, etc.)\",\"Master\\u2019s degree (M.A., M.S., M.Eng., MBA, etc.)\",\"Master\\u2019s degree (M.A., M.S., M.Eng., MBA, etc.)\",\"Master\\u2019s degree (M.A., M.S., M.Eng., MBA, etc.)\",\"Master\\u2019s degree (M.A., M.S., M.Eng., MBA, etc.)\",\"Master\\u2019s degree (M.A., M.S., M.Eng., MBA, etc.)\",\"Master\\u2019s degree (M.A., M.S., M.Eng., MBA, etc.)\",\"Master\\u2019s degree (M.A., M.S., M.Eng., MBA, etc.)\",\"Master\\u2019s degree (M.A., M.S., M.Eng., MBA, etc.)\",\"Master\\u2019s degree (M.A., M.S., M.Eng., MBA, etc.)\",\"Master\\u2019s degree (M.A., M.S., M.Eng., MBA, etc.)\",\"Master\\u2019s degree (M.A., M.S., M.Eng., MBA, etc.)\",\"Master\\u2019s degree (M.A., M.S., M.Eng., MBA, etc.)\",\"Master\\u2019s degree (M.A., M.S., M.Eng., MBA, etc.)\",\"Master\\u2019s degree (M.A., M.S., M.Eng., MBA, etc.)\",\"Master\\u2019s degree (M.A., M.S., M.Eng., MBA, etc.)\",\"Master\\u2019s degree (M.A., M.S., M.Eng., MBA, etc.)\",\"Other doctoral degree (Ph.D., Ed.D., etc.)\",\"Other doctoral degree (Ph.D., Ed.D., etc.)\",\"Other doctoral degree (Ph.D., Ed.D., etc.)\",\"Other doctoral degree (Ph.D., Ed.D., etc.)\",\"Other doctoral degree (Ph.D., Ed.D., etc.)\",\"Other doctoral degree (Ph.D., Ed.D., etc.)\",\"Other doctoral degree (Ph.D., Ed.D., etc.)\",\"Other doctoral degree (Ph.D., Ed.D., etc.)\",\"Other doctoral degree (Ph.D., Ed.D., etc.)\",\"Other doctoral degree (Ph.D., Ed.D., etc.)\",\"Other doctoral degree (Ph.D., Ed.D., etc.)\",\"Other doctoral degree (Ph.D., Ed.D., etc.)\",\"Other doctoral degree (Ph.D., Ed.D., etc.)\",\"Other doctoral degree (Ph.D., Ed.D., etc.)\",\"Other doctoral degree (Ph.D., Ed.D., etc.)\",\"Other doctoral degree (Ph.D., Ed.D., etc.)\",\"Other doctoral degree (Ph.D., Ed.D., etc.)\",\"Other doctoral degree (Ph.D., Ed.D., etc.)\",\"Other doctoral degree (Ph.D., Ed.D., etc.)\",\"Other doctoral degree (Ph.D., Ed.D., etc.)\",\"Other doctoral degree (Ph.D., Ed.D., etc.)\",\"Other doctoral degree (Ph.D., Ed.D., etc.)\",\"Other doctoral degree (Ph.D., Ed.D., etc.)\",\"Other doctoral degree (Ph.D., Ed.D., etc.)\",\"Other doctoral degree (Ph.D., Ed.D., etc.)\",\"Other doctoral degree (Ph.D., Ed.D., etc.)\",\"Other doctoral degree (Ph.D., Ed.D., etc.)\",\"Other doctoral degree (Ph.D., Ed.D., etc.)\",\"Other doctoral degree (Ph.D., Ed.D., etc.)\",\"Other doctoral degree (Ph.D., Ed.D., etc.)\",\"Other doctoral degree (Ph.D., Ed.D., etc.)\",\"Other doctoral degree (Ph.D., Ed.D., etc.)\",\"Other doctoral degree (Ph.D., Ed.D., etc.)\",\"Other doctoral degree (Ph.D., Ed.D., etc.)\",\"Other doctoral degree (Ph.D., Ed.D., etc.)\",\"Primary/elementary school\",\"Primary/elementary school\",\"Primary/elementary school\",\"Primary/elementary school\",\"Primary/elementary school\",\"Primary/elementary school\",\"Primary/elementary school\",\"Primary/elementary school\",\"Primary/elementary school\",\"Primary/elementary school\",\"Primary/elementary school\",\"Primary/elementary school\",\"Primary/elementary school\",\"Primary/elementary school\",\"Primary/elementary school\",\"Primary/elementary school\",\"Primary/elementary school\",\"Primary/elementary school\",\"Primary/elementary school\",\"Primary/elementary school\",\"Primary/elementary school\",\"Primary/elementary school\",\"Primary/elementary school\",\"Primary/elementary school\",\"Primary/elementary school\",\"Primary/elementary school\",\"Primary/elementary school\",\"Primary/elementary school\",\"Primary/elementary school\",\"Primary/elementary school\",\"Primary/elementary school\",\"Primary/elementary school\",\"Primary/elementary school\",\"Primary/elementary school\",\"Primary/elementary school\",\"Professional degree (JD, MD, etc.)\",\"Professional degree (JD, MD, etc.)\",\"Professional degree (JD, MD, etc.)\",\"Professional degree (JD, MD, etc.)\",\"Professional degree (JD, MD, etc.)\",\"Professional degree (JD, MD, etc.)\",\"Professional degree (JD, MD, etc.)\",\"Professional degree (JD, MD, etc.)\",\"Professional degree (JD, MD, etc.)\",\"Professional degree (JD, MD, etc.)\",\"Professional degree (JD, MD, etc.)\",\"Professional degree (JD, MD, etc.)\",\"Professional degree (JD, MD, etc.)\",\"Professional degree (JD, MD, etc.)\",\"Professional degree (JD, MD, etc.)\",\"Professional degree (JD, MD, etc.)\",\"Professional degree (JD, MD, etc.)\",\"Professional degree (JD, MD, etc.)\",\"Professional degree (JD, MD, etc.)\",\"Professional degree (JD, MD, etc.)\",\"Professional degree (JD, MD, etc.)\",\"Professional degree (JD, MD, etc.)\",\"Professional degree (JD, MD, etc.)\",\"Professional degree (JD, MD, etc.)\",\"Professional degree (JD, MD, etc.)\",\"Professional degree (JD, MD, etc.)\",\"Professional degree (JD, MD, etc.)\",\"Professional degree (JD, MD, etc.)\",\"Professional degree (JD, MD, etc.)\",\"Professional degree (JD, MD, etc.)\",\"Professional degree (JD, MD, etc.)\",\"Professional degree (JD, MD, etc.)\",\"Professional degree (JD, MD, etc.)\",\"Professional degree (JD, MD, etc.)\",\"Secondary school (e.g. American high school, German Realschule or Gymnasium, etc.)\",\"Secondary school (e.g. American high school, German Realschule or Gymnasium, etc.)\",\"Secondary school (e.g. American high school, German Realschule or Gymnasium, etc.)\",\"Secondary school (e.g. American high school, German Realschule or Gymnasium, etc.)\",\"Secondary school (e.g. American high school, German Realschule or Gymnasium, etc.)\",\"Secondary school (e.g. American high school, German Realschule or Gymnasium, etc.)\",\"Secondary school (e.g. American high school, German Realschule or Gymnasium, etc.)\",\"Secondary school (e.g. American high school, German Realschule or Gymnasium, etc.)\",\"Secondary school (e.g. American high school, German Realschule or Gymnasium, etc.)\",\"Secondary school (e.g. American high school, German Realschule or Gymnasium, etc.)\",\"Secondary school (e.g. American high school, German Realschule or Gymnasium, etc.)\",\"Secondary school (e.g. American high school, German Realschule or Gymnasium, etc.)\",\"Secondary school (e.g. American high school, German Realschule or Gymnasium, etc.)\",\"Secondary school (e.g. American high school, German Realschule or Gymnasium, etc.)\",\"Secondary school (e.g. American high school, German Realschule or Gymnasium, etc.)\",\"Secondary school (e.g. American high school, German Realschule or Gymnasium, etc.)\",\"Secondary school (e.g. American high school, German Realschule or Gymnasium, etc.)\",\"Secondary school (e.g. American high school, German Realschule or Gymnasium, etc.)\",\"Secondary school (e.g. American high school, German Realschule or Gymnasium, etc.)\",\"Secondary school (e.g. American high school, German Realschule or Gymnasium, etc.)\",\"Secondary school (e.g. American high school, German Realschule or Gymnasium, etc.)\",\"Secondary school (e.g. American high school, German Realschule or Gymnasium, etc.)\",\"Secondary school (e.g. American high school, German Realschule or Gymnasium, etc.)\",\"Secondary school (e.g. American high school, German Realschule or Gymnasium, etc.)\",\"Secondary school (e.g. American high school, German Realschule or Gymnasium, etc.)\",\"Secondary school (e.g. American high school, German Realschule or Gymnasium, etc.)\",\"Secondary school (e.g. American high school, German Realschule or Gymnasium, etc.)\",\"Secondary school (e.g. American high school, German Realschule or Gymnasium, etc.)\",\"Secondary school (e.g. American high school, German Realschule or Gymnasium, etc.)\",\"Secondary school (e.g. American high school, German Realschule or Gymnasium, etc.)\",\"Secondary school (e.g. American high school, German Realschule or Gymnasium, etc.)\",\"Secondary school (e.g. American high school, German Realschule or Gymnasium, etc.)\",\"Secondary school (e.g. American high school, German Realschule or Gymnasium, etc.)\",\"Secondary school (e.g. American high school, German Realschule or Gymnasium, etc.)\",\"Secondary school (e.g. American high school, German Realschule or Gymnasium, etc.)\",\"Secondary school (e.g. American high school, German Realschule or Gymnasium, etc.)\",\"Secondary school (e.g. American high school, German Realschule or Gymnasium, etc.)\",\"Secondary school (e.g. American high school, German Realschule or Gymnasium, etc.)\",\"Secondary school (e.g. American high school, German Realschule or Gymnasium, etc.)\",\"Some college/university study without earning a degree\",\"Some college/university study without earning a degree\",\"Some college/university study without earning a degree\",\"Some college/university study without earning a degree\",\"Some college/university study without earning a degree\",\"Some college/university study without earning a degree\",\"Some college/university study without earning a degree\",\"Some college/university study without earning a degree\",\"Some college/university study without earning a degree\",\"Some college/university study without earning a degree\",\"Some college/university study without earning a degree\",\"Some college/university study without earning a degree\",\"Some college/university study without earning a degree\",\"Some college/university study without earning a degree\",\"Some college/university study without earning a degree\",\"Some college/university study without earning a degree\",\"Some college/university study without earning a degree\",\"Some college/university study without earning a degree\",\"Some college/university study without earning a degree\",\"Some college/university study without earning a degree\",\"Some college/university study without earning a degree\",\"Some college/university study without earning a degree\",\"Some college/university study without earning a degree\",\"Some college/university study without earning a degree\",\"Some college/university study without earning a degree\",\"Some college/university study without earning a degree\",\"Some college/university study without earning a degree\",\"Some college/university study without earning a degree\",\"Some college/university study without earning a degree\",\"Some college/university study without earning a degree\",\"Some college/university study without earning a degree\",\"Some college/university study without earning a degree\",\"Some college/university study without earning a degree\",\"Some college/university study without earning a degree\",\"Some college/university study without earning a degree\",\"Some college/university study without earning a degree\",\"Some college/university study without earning a degree\",\"Some college/university study without earning a degree\",\"Some college/university study without earning a degree\",\"Employed full-time\",\"Employed full-time\",\"Employed full-time\",\"Employed full-time\",\"Employed full-time\",\"Employed part-time\",\"Employed part-time\",\"Employed part-time\",\"Employed part-time\",\"Employed part-time\",\"Independent contractor, freelancer, or self-employed\",\"Independent contractor, freelancer, or self-employed\",\"Independent contractor, freelancer, or self-employed\",\"Independent contractor, freelancer, or self-employed\",\"Independent contractor, freelancer, or self-employed\",\"Not employed, and not looking for work\",\"Not employed, and not looking for work\",\"Not employed, and not looking for work\",\"Not employed, and not looking for work\",\"Not employed, and not looking for work\",\"Not employed, but looking for work\",\"Not employed, but looking for work\",\"Not employed, but looking for work\",\"Not employed, but looking for work\",\"Not employed, but looking for work\",\"Retired\",\"Retired\",\"Retired\",\"Retired\",\"Retired\",\"Student, full-time\",\"Student, full-time\",\"Student, full-time\",\"Student, full-time\",\"Student, full-time\",\"Student, part-time\",\"Student, part-time\",\"Student, part-time\",\"Student, part-time\",\"Student, part-time\",\"I am a developer by profession\",\"I am a student who is learning to code\",\"I am not primarily a developer, but I write code sometimes as part of my work\",\"I code primarily as a hobby\",\"I used to be a developer by profession, but no longer am\"],\"maxdepth\":2,\"name\":\"\",\"parents\":[\"I am a developer by profession/Employed full-time\",\"I am a student who is learning to code/Employed full-time\",\"I am not primarily a developer, but I write code sometimes as part of my work/Employed full-time\",\"I code primarily as a hobby/Employed full-time\",\"I used to be a developer by profession, but no longer am/Employed full-time\",\"I am a developer by profession/Employed part-time\",\"I am a student who is learning to code/Employed part-time\",\"I am not primarily a developer, but I write code sometimes as part of my work/Employed part-time\",\"I code primarily as a hobby/Employed part-time\",\"I used to be a developer by profession, but no longer am/Employed part-time\",\"I am a developer by profession/Independent contractor, freelancer, or self-employed\",\"I am a student who is learning to code/Independent contractor, freelancer, or self-employed\",\"I am not primarily a developer, but I write code sometimes as part of my work/Independent contractor, freelancer, or self-employed\",\"I code primarily as a hobby/Independent contractor, freelancer, or self-employed\",\"I used to be a developer by profession, but no longer am/Independent contractor, freelancer, or self-employed\",\"I am a developer by profession/Not employed, and not looking for work\",\"I am a student who is learning to code/Not employed, and not looking for work\",\"I am not primarily a developer, but I write code sometimes as part of my work/Not employed, and not looking for work\",\"I code primarily as a hobby/Not employed, and not looking for work\",\"I used to be a developer by profession, but no longer am/Not employed, and not looking for work\",\"I am a developer by profession/Not employed, but looking for work\",\"I am a student who is learning to code/Not employed, but looking for work\",\"I am not primarily a developer, but I write code sometimes as part of my work/Not employed, but looking for work\",\"I code primarily as a hobby/Not employed, but looking for work\",\"I used to be a developer by profession, but no longer am/Not employed, but looking for work\",\"I am a developer by profession/Retired\",\"I am not primarily a developer, but I write code sometimes as part of my work/Retired\",\"I code primarily as a hobby/Retired\",\"I used to be a developer by profession, but no longer am/Retired\",\"I am a developer by profession/Student, full-time\",\"I am a student who is learning to code/Student, full-time\",\"I am not primarily a developer, but I write code sometimes as part of my work/Student, full-time\",\"I code primarily as a hobby/Student, full-time\",\"I used to be a developer by profession, but no longer am/Student, full-time\",\"I am a developer by profession/Student, part-time\",\"I am a student who is learning to code/Student, part-time\",\"I am not primarily a developer, but I write code sometimes as part of my work/Student, part-time\",\"I code primarily as a hobby/Student, part-time\",\"I am a developer by profession/Employed full-time\",\"I am a student who is learning to code/Employed full-time\",\"I am not primarily a developer, but I write code sometimes as part of my work/Employed full-time\",\"I code primarily as a hobby/Employed full-time\",\"I used to be a developer by profession, but no longer am/Employed full-time\",\"I am a developer by profession/Employed part-time\",\"I am a student who is learning to code/Employed part-time\",\"I am not primarily a developer, but I write code sometimes as part of my work/Employed part-time\",\"I code primarily as a hobby/Employed part-time\",\"I used to be a developer by profession, but no longer am/Employed part-time\",\"I am a developer by profession/Independent contractor, freelancer, or self-employed\",\"I am a student who is learning to code/Independent contractor, freelancer, or self-employed\",\"I am not primarily a developer, but I write code sometimes as part of my work/Independent contractor, freelancer, or self-employed\",\"I code primarily as a hobby/Independent contractor, freelancer, or self-employed\",\"I used to be a developer by profession, but no longer am/Independent contractor, freelancer, or self-employed\",\"I am a developer by profession/Not employed, and not looking for work\",\"I am a student who is learning to code/Not employed, and not looking for work\",\"I am not primarily a developer, but I write code sometimes as part of my work/Not employed, and not looking for work\",\"I code primarily as a hobby/Not employed, and not looking for work\",\"I used to be a developer by profession, but no longer am/Not employed, and not looking for work\",\"I am a developer by profession/Not employed, but looking for work\",\"I am a student who is learning to code/Not employed, but looking for work\",\"I am not primarily a developer, but I write code sometimes as part of my work/Not employed, but looking for work\",\"I code primarily as a hobby/Not employed, but looking for work\",\"I used to be a developer by profession, but no longer am/Not employed, but looking for work\",\"I am a developer by profession/Retired\",\"I am not primarily a developer, but I write code sometimes as part of my work/Retired\",\"I code primarily as a hobby/Retired\",\"I used to be a developer by profession, but no longer am/Retired\",\"I am a developer by profession/Student, full-time\",\"I am a student who is learning to code/Student, full-time\",\"I am not primarily a developer, but I write code sometimes as part of my work/Student, full-time\",\"I code primarily as a hobby/Student, full-time\",\"I used to be a developer by profession, but no longer am/Student, full-time\",\"I am a developer by profession/Student, part-time\",\"I am a student who is learning to code/Student, part-time\",\"I am not primarily a developer, but I write code sometimes as part of my work/Student, part-time\",\"I code primarily as a hobby/Student, part-time\",\"I used to be a developer by profession, but no longer am/Student, part-time\",\"I am a developer by profession/Employed full-time\",\"I am a student who is learning to code/Employed full-time\",\"I am not primarily a developer, but I write code sometimes as part of my work/Employed full-time\",\"I code primarily as a hobby/Employed full-time\",\"I used to be a developer by profession, but no longer am/Employed full-time\",\"I am a developer by profession/Employed part-time\",\"I am a student who is learning to code/Employed part-time\",\"I am not primarily a developer, but I write code sometimes as part of my work/Employed part-time\",\"I code primarily as a hobby/Employed part-time\",\"I used to be a developer by profession, but no longer am/Employed part-time\",\"I am a developer by profession/Independent contractor, freelancer, or self-employed\",\"I am a student who is learning to code/Independent contractor, freelancer, or self-employed\",\"I am not primarily a developer, but I write code sometimes as part of my work/Independent contractor, freelancer, or self-employed\",\"I code primarily as a hobby/Independent contractor, freelancer, or self-employed\",\"I used to be a developer by profession, but no longer am/Independent contractor, freelancer, or self-employed\",\"I am a developer by profession/Not employed, and not looking for work\",\"I am a student who is learning to code/Not employed, and not looking for work\",\"I am not primarily a developer, but I write code sometimes as part of my work/Not employed, and not looking for work\",\"I code primarily as a hobby/Not employed, and not looking for work\",\"I used to be a developer by profession, but no longer am/Not employed, and not looking for work\",\"I am a developer by profession/Not employed, but looking for work\",\"I am a student who is learning to code/Not employed, but looking for work\",\"I am not primarily a developer, but I write code sometimes as part of my work/Not employed, but looking for work\",\"I code primarily as a hobby/Not employed, but looking for work\",\"I used to be a developer by profession, but no longer am/Not employed, but looking for work\",\"I am a developer by profession/Retired\",\"I am a student who is learning to code/Retired\",\"I am not primarily a developer, but I write code sometimes as part of my work/Retired\",\"I code primarily as a hobby/Retired\",\"I used to be a developer by profession, but no longer am/Retired\",\"I am a developer by profession/Student, full-time\",\"I am a student who is learning to code/Student, full-time\",\"I am not primarily a developer, but I write code sometimes as part of my work/Student, full-time\",\"I code primarily as a hobby/Student, full-time\",\"I used to be a developer by profession, but no longer am/Student, full-time\",\"I am a developer by profession/Student, part-time\",\"I am a student who is learning to code/Student, part-time\",\"I am not primarily a developer, but I write code sometimes as part of my work/Student, part-time\",\"I code primarily as a hobby/Student, part-time\",\"I used to be a developer by profession, but no longer am/Student, part-time\",\"I am a developer by profession/Employed full-time\",\"I am a student who is learning to code/Employed full-time\",\"I am not primarily a developer, but I write code sometimes as part of my work/Employed full-time\",\"I code primarily as a hobby/Employed full-time\",\"I used to be a developer by profession, but no longer am/Employed full-time\",\"I am a developer by profession/Employed part-time\",\"I am not primarily a developer, but I write code sometimes as part of my work/Employed part-time\",\"I code primarily as a hobby/Employed part-time\",\"I used to be a developer by profession, but no longer am/Employed part-time\",\"I am a developer by profession/Independent contractor, freelancer, or self-employed\",\"I am not primarily a developer, but I write code sometimes as part of my work/Independent contractor, freelancer, or self-employed\",\"I code primarily as a hobby/Independent contractor, freelancer, or self-employed\",\"I used to be a developer by profession, but no longer am/Independent contractor, freelancer, or self-employed\",\"I am a developer by profession/Not employed, and not looking for work\",\"I am a student who is learning to code/Not employed, and not looking for work\",\"I am not primarily a developer, but I write code sometimes as part of my work/Not employed, and not looking for work\",\"I code primarily as a hobby/Not employed, and not looking for work\",\"I am a developer by profession/Not employed, but looking for work\",\"I am a student who is learning to code/Not employed, but looking for work\",\"I am not primarily a developer, but I write code sometimes as part of my work/Not employed, but looking for work\",\"I code primarily as a hobby/Not employed, but looking for work\",\"I used to be a developer by profession, but no longer am/Not employed, but looking for work\",\"I am a developer by profession/Retired\",\"I am a student who is learning to code/Retired\",\"I am not primarily a developer, but I write code sometimes as part of my work/Retired\",\"I code primarily as a hobby/Retired\",\"I used to be a developer by profession, but no longer am/Retired\",\"I am a developer by profession/Student, full-time\",\"I am a student who is learning to code/Student, full-time\",\"I am not primarily a developer, but I write code sometimes as part of my work/Student, full-time\",\"I code primarily as a hobby/Student, full-time\",\"I used to be a developer by profession, but no longer am/Student, full-time\",\"I am a student who is learning to code/Student, part-time\",\"I am not primarily a developer, but I write code sometimes as part of my work/Student, part-time\",\"I used to be a developer by profession, but no longer am/Student, part-time\",\"I am a developer by profession/Employed full-time\",\"I am a student who is learning to code/Employed full-time\",\"I am not primarily a developer, but I write code sometimes as part of my work/Employed full-time\",\"I code primarily as a hobby/Employed full-time\",\"I used to be a developer by profession, but no longer am/Employed full-time\",\"I am a developer by profession/Employed part-time\",\"I am a student who is learning to code/Employed part-time\",\"I am not primarily a developer, but I write code sometimes as part of my work/Employed part-time\",\"I code primarily as a hobby/Employed part-time\",\"I used to be a developer by profession, but no longer am/Employed part-time\",\"I am a developer by profession/Independent contractor, freelancer, or self-employed\",\"I am a student who is learning to code/Independent contractor, freelancer, or self-employed\",\"I am not primarily a developer, but I write code sometimes as part of my work/Independent contractor, freelancer, or self-employed\",\"I code primarily as a hobby/Independent contractor, freelancer, or self-employed\",\"I used to be a developer by profession, but no longer am/Independent contractor, freelancer, or self-employed\",\"I am a developer by profession/Not employed, and not looking for work\",\"I am a student who is learning to code/Not employed, and not looking for work\",\"I code primarily as a hobby/Not employed, and not looking for work\",\"I am a developer by profession/Not employed, but looking for work\",\"I am a student who is learning to code/Not employed, but looking for work\",\"I am not primarily a developer, but I write code sometimes as part of my work/Not employed, but looking for work\",\"I code primarily as a hobby/Not employed, but looking for work\",\"I used to be a developer by profession, but no longer am/Not employed, but looking for work\",\"I am not primarily a developer, but I write code sometimes as part of my work/Retired\",\"I code primarily as a hobby/Retired\",\"I am a developer by profession/Student, full-time\",\"I am a student who is learning to code/Student, full-time\",\"I am not primarily a developer, but I write code sometimes as part of my work/Student, full-time\",\"I code primarily as a hobby/Student, full-time\",\"I used to be a developer by profession, but no longer am/Student, full-time\",\"I am a developer by profession/Student, part-time\",\"I am a student who is learning to code/Student, part-time\",\"I am not primarily a developer, but I write code sometimes as part of my work/Student, part-time\",\"I code primarily as a hobby/Student, part-time\",\"I used to be a developer by profession, but no longer am/Student, part-time\",\"I am a developer by profession/Employed full-time\",\"I am a student who is learning to code/Employed full-time\",\"I am not primarily a developer, but I write code sometimes as part of my work/Employed full-time\",\"I code primarily as a hobby/Employed full-time\",\"I used to be a developer by profession, but no longer am/Employed full-time\",\"I am a developer by profession/Employed part-time\",\"I am a student who is learning to code/Employed part-time\",\"I am not primarily a developer, but I write code sometimes as part of my work/Employed part-time\",\"I code primarily as a hobby/Employed part-time\",\"I am a developer by profession/Independent contractor, freelancer, or self-employed\",\"I am a student who is learning to code/Independent contractor, freelancer, or self-employed\",\"I am not primarily a developer, but I write code sometimes as part of my work/Independent contractor, freelancer, or self-employed\",\"I code primarily as a hobby/Independent contractor, freelancer, or self-employed\",\"I used to be a developer by profession, but no longer am/Independent contractor, freelancer, or self-employed\",\"I am a developer by profession/Not employed, and not looking for work\",\"I am not primarily a developer, but I write code sometimes as part of my work/Not employed, and not looking for work\",\"I code primarily as a hobby/Not employed, and not looking for work\",\"I used to be a developer by profession, but no longer am/Not employed, and not looking for work\",\"I am a developer by profession/Not employed, but looking for work\",\"I am a student who is learning to code/Not employed, but looking for work\",\"I am not primarily a developer, but I write code sometimes as part of my work/Not employed, but looking for work\",\"I code primarily as a hobby/Not employed, but looking for work\",\"I am a developer by profession/Retired\",\"I am a student who is learning to code/Retired\",\"I code primarily as a hobby/Retired\",\"I used to be a developer by profession, but no longer am/Retired\",\"I am a developer by profession/Student, full-time\",\"I am a student who is learning to code/Student, full-time\",\"I am not primarily a developer, but I write code sometimes as part of my work/Student, full-time\",\"I code primarily as a hobby/Student, full-time\",\"I am a developer by profession/Student, part-time\",\"I am a student who is learning to code/Student, part-time\",\"I am not primarily a developer, but I write code sometimes as part of my work/Student, part-time\",\"I code primarily as a hobby/Student, part-time\",\"I am a developer by profession/Employed full-time\",\"I am a student who is learning to code/Employed full-time\",\"I am not primarily a developer, but I write code sometimes as part of my work/Employed full-time\",\"I code primarily as a hobby/Employed full-time\",\"I used to be a developer by profession, but no longer am/Employed full-time\",\"I am a developer by profession/Employed part-time\",\"I am a student who is learning to code/Employed part-time\",\"I am not primarily a developer, but I write code sometimes as part of my work/Employed part-time\",\"I code primarily as a hobby/Employed part-time\",\"I used to be a developer by profession, but no longer am/Employed part-time\",\"I am a developer by profession/Independent contractor, freelancer, or self-employed\",\"I am a student who is learning to code/Independent contractor, freelancer, or self-employed\",\"I am not primarily a developer, but I write code sometimes as part of my work/Independent contractor, freelancer, or self-employed\",\"I code primarily as a hobby/Independent contractor, freelancer, or self-employed\",\"I used to be a developer by profession, but no longer am/Independent contractor, freelancer, or self-employed\",\"I am a developer by profession/Not employed, and not looking for work\",\"I am a student who is learning to code/Not employed, and not looking for work\",\"I am not primarily a developer, but I write code sometimes as part of my work/Not employed, and not looking for work\",\"I code primarily as a hobby/Not employed, and not looking for work\",\"I used to be a developer by profession, but no longer am/Not employed, and not looking for work\",\"I am a developer by profession/Not employed, but looking for work\",\"I am a student who is learning to code/Not employed, but looking for work\",\"I am not primarily a developer, but I write code sometimes as part of my work/Not employed, but looking for work\",\"I code primarily as a hobby/Not employed, but looking for work\",\"I used to be a developer by profession, but no longer am/Not employed, but looking for work\",\"I am a developer by profession/Retired\",\"I am a student who is learning to code/Retired\",\"I am not primarily a developer, but I write code sometimes as part of my work/Retired\",\"I code primarily as a hobby/Retired\",\"I used to be a developer by profession, but no longer am/Retired\",\"I am a developer by profession/Student, full-time\",\"I am a student who is learning to code/Student, full-time\",\"I am not primarily a developer, but I write code sometimes as part of my work/Student, full-time\",\"I code primarily as a hobby/Student, full-time\",\"I used to be a developer by profession, but no longer am/Student, full-time\",\"I am a developer by profession/Student, part-time\",\"I am a student who is learning to code/Student, part-time\",\"I am not primarily a developer, but I write code sometimes as part of my work/Student, part-time\",\"I code primarily as a hobby/Student, part-time\",\"I am a developer by profession/Employed full-time\",\"I am a student who is learning to code/Employed full-time\",\"I am not primarily a developer, but I write code sometimes as part of my work/Employed full-time\",\"I code primarily as a hobby/Employed full-time\",\"I used to be a developer by profession, but no longer am/Employed full-time\",\"I am a developer by profession/Employed part-time\",\"I am a student who is learning to code/Employed part-time\",\"I am not primarily a developer, but I write code sometimes as part of my work/Employed part-time\",\"I code primarily as a hobby/Employed part-time\",\"I used to be a developer by profession, but no longer am/Employed part-time\",\"I am a developer by profession/Independent contractor, freelancer, or self-employed\",\"I am a student who is learning to code/Independent contractor, freelancer, or self-employed\",\"I am not primarily a developer, but I write code sometimes as part of my work/Independent contractor, freelancer, or self-employed\",\"I code primarily as a hobby/Independent contractor, freelancer, or self-employed\",\"I used to be a developer by profession, but no longer am/Independent contractor, freelancer, or self-employed\",\"I am a developer by profession/Not employed, and not looking for work\",\"I am a student who is learning to code/Not employed, and not looking for work\",\"I am not primarily a developer, but I write code sometimes as part of my work/Not employed, and not looking for work\",\"I code primarily as a hobby/Not employed, and not looking for work\",\"I used to be a developer by profession, but no longer am/Not employed, and not looking for work\",\"I am a developer by profession/Not employed, but looking for work\",\"I am a student who is learning to code/Not employed, but looking for work\",\"I am not primarily a developer, but I write code sometimes as part of my work/Not employed, but looking for work\",\"I code primarily as a hobby/Not employed, but looking for work\",\"I used to be a developer by profession, but no longer am/Not employed, but looking for work\",\"I am a developer by profession/Retired\",\"I am not primarily a developer, but I write code sometimes as part of my work/Retired\",\"I code primarily as a hobby/Retired\",\"I used to be a developer by profession, but no longer am/Retired\",\"I am a developer by profession/Student, full-time\",\"I am a student who is learning to code/Student, full-time\",\"I am not primarily a developer, but I write code sometimes as part of my work/Student, full-time\",\"I code primarily as a hobby/Student, full-time\",\"I used to be a developer by profession, but no longer am/Student, full-time\",\"I am a developer by profession/Student, part-time\",\"I am a student who is learning to code/Student, part-time\",\"I am not primarily a developer, but I write code sometimes as part of my work/Student, part-time\",\"I code primarily as a hobby/Student, part-time\",\"I used to be a developer by profession, but no longer am/Student, part-time\",\"I am a developer by profession\",\"I am a student who is learning to code\",\"I am not primarily a developer, but I write code sometimes as part of my work\",\"I code primarily as a hobby\",\"I used to be a developer by profession, but no longer am\",\"I am a developer by profession\",\"I am a student who is learning to code\",\"I am not primarily a developer, but I write code sometimes as part of my work\",\"I code primarily as a hobby\",\"I used to be a developer by profession, but no longer am\",\"I am a developer by profession\",\"I am a student who is learning to code\",\"I am not primarily a developer, but I write code sometimes as part of my work\",\"I code primarily as a hobby\",\"I used to be a developer by profession, but no longer am\",\"I am a developer by profession\",\"I am a student who is learning to code\",\"I am not primarily a developer, but I write code sometimes as part of my work\",\"I code primarily as a hobby\",\"I used to be a developer by profession, but no longer am\",\"I am a developer by profession\",\"I am a student who is learning to code\",\"I am not primarily a developer, but I write code sometimes as part of my work\",\"I code primarily as a hobby\",\"I used to be a developer by profession, but no longer am\",\"I am a developer by profession\",\"I am a student who is learning to code\",\"I am not primarily a developer, but I write code sometimes as part of my work\",\"I code primarily as a hobby\",\"I used to be a developer by profession, but no longer am\",\"I am a developer by profession\",\"I am a student who is learning to code\",\"I am not primarily a developer, but I write code sometimes as part of my work\",\"I code primarily as a hobby\",\"I used to be a developer by profession, but no longer am\",\"I am a developer by profession\",\"I am a student who is learning to code\",\"I am not primarily a developer, but I write code sometimes as part of my work\",\"I code primarily as a hobby\",\"I used to be a developer by profession, but no longer am\",\"\",\"\",\"\",\"\",\"\"],\"values\":[1325,20,135,20,15,56,19,7,5,2,152,16,11,12,7,4,3,1,6,7,32,37,4,8,6,1,1,2,4,30,185,6,16,2,8,34,1,3,23998,186,1628,192,277,690,124,86,26,10,2603,104,207,66,43,64,56,9,40,21,518,497,72,95,34,14,1,29,46,516,1972,181,108,28,208,296,31,16,1,11894,64,1459,136,253,300,26,74,19,9,1630,14,194,26,35,31,1,6,11,10,156,84,41,29,18,17,1,7,22,29,191,297,156,22,13,35,54,10,3,1,1244,8,711,27,33,47,24,2,2,168,56,11,8,2,2,1,8,11,3,18,1,2,6,2,6,14,13,16,20,36,4,1,2,1,1,259,7,33,16,3,19,14,3,12,1,81,19,15,33,5,3,65,200,11,36,2,47,3,1,3,19,588,5,524,1,21,152,3,80,1,754,14,102,33,14,18,6,6,3,136,4,19,8,3,3,1,4,1,16,12,2,7,2,3,2,3,10,29,7,4,4,4,2,1,1767,73,152,67,28,191,86,29,30,3,518,102,45,87,10,18,150,3,209,4,67,275,7,140,4,2,4,2,6,2,215,3150,55,1084,11,118,400,20,126,5036,105,490,103,71,288,81,36,26,5,1118,73,113,52,23,28,46,5,51,8,158,227,25,74,21,9,1,15,17,209,1378,45,186,10,75,190,19,30,3,46277,477,4710,594,694,1609,356,265,123,32,6406,332,660,295,134,153,323,26,529,51,969,1171,171,401,88,51,10,19,93,114,1206,7619,491,1948,66,469,1132,87,259,7,57140,11420,6429,4242,1186],\"type\":\"sunburst\"}],                        {\"template\":{\"data\":{\"histogram2dcontour\":[{\"type\":\"histogram2dcontour\",\"colorbar\":{\"outlinewidth\":0,\"ticks\":\"\"},\"colorscale\":[[0.0,\"#0d0887\"],[0.1111111111111111,\"#46039f\"],[0.2222222222222222,\"#7201a8\"],[0.3333333333333333,\"#9c179e\"],[0.4444444444444444,\"#bd3786\"],[0.5555555555555556,\"#d8576b\"],[0.6666666666666666,\"#ed7953\"],[0.7777777777777778,\"#fb9f3a\"],[0.8888888888888888,\"#fdca26\"],[1.0,\"#f0f921\"]]}],\"choropleth\":[{\"type\":\"choropleth\",\"colorbar\":{\"outlinewidth\":0,\"ticks\":\"\"}}],\"histogram2d\":[{\"type\":\"histogram2d\",\"colorbar\":{\"outlinewidth\":0,\"ticks\":\"\"},\"colorscale\":[[0.0,\"#0d0887\"],[0.1111111111111111,\"#46039f\"],[0.2222222222222222,\"#7201a8\"],[0.3333333333333333,\"#9c179e\"],[0.4444444444444444,\"#bd3786\"],[0.5555555555555556,\"#d8576b\"],[0.6666666666666666,\"#ed7953\"],[0.7777777777777778,\"#fb9f3a\"],[0.8888888888888888,\"#fdca26\"],[1.0,\"#f0f921\"]]}],\"heatmap\":[{\"type\":\"heatmap\",\"colorbar\":{\"outlinewidth\":0,\"ticks\":\"\"},\"colorscale\":[[0.0,\"#0d0887\"],[0.1111111111111111,\"#46039f\"],[0.2222222222222222,\"#7201a8\"],[0.3333333333333333,\"#9c179e\"],[0.4444444444444444,\"#bd3786\"],[0.5555555555555556,\"#d8576b\"],[0.6666666666666666,\"#ed7953\"],[0.7777777777777778,\"#fb9f3a\"],[0.8888888888888888,\"#fdca26\"],[1.0,\"#f0f921\"]]}],\"heatmapgl\":[{\"type\":\"heatmapgl\",\"colorbar\":{\"outlinewidth\":0,\"ticks\":\"\"},\"colorscale\":[[0.0,\"#0d0887\"],[0.1111111111111111,\"#46039f\"],[0.2222222222222222,\"#7201a8\"],[0.3333333333333333,\"#9c179e\"],[0.4444444444444444,\"#bd3786\"],[0.5555555555555556,\"#d8576b\"],[0.6666666666666666,\"#ed7953\"],[0.7777777777777778,\"#fb9f3a\"],[0.8888888888888888,\"#fdca26\"],[1.0,\"#f0f921\"]]}],\"contourcarpet\":[{\"type\":\"contourcarpet\",\"colorbar\":{\"outlinewidth\":0,\"ticks\":\"\"}}],\"contour\":[{\"type\":\"contour\",\"colorbar\":{\"outlinewidth\":0,\"ticks\":\"\"},\"colorscale\":[[0.0,\"#0d0887\"],[0.1111111111111111,\"#46039f\"],[0.2222222222222222,\"#7201a8\"],[0.3333333333333333,\"#9c179e\"],[0.4444444444444444,\"#bd3786\"],[0.5555555555555556,\"#d8576b\"],[0.6666666666666666,\"#ed7953\"],[0.7777777777777778,\"#fb9f3a\"],[0.8888888888888888,\"#fdca26\"],[1.0,\"#f0f921\"]]}],\"surface\":[{\"type\":\"surface\",\"colorbar\":{\"outlinewidth\":0,\"ticks\":\"\"},\"colorscale\":[[0.0,\"#0d0887\"],[0.1111111111111111,\"#46039f\"],[0.2222222222222222,\"#7201a8\"],[0.3333333333333333,\"#9c179e\"],[0.4444444444444444,\"#bd3786\"],[0.5555555555555556,\"#d8576b\"],[0.6666666666666666,\"#ed7953\"],[0.7777777777777778,\"#fb9f3a\"],[0.8888888888888888,\"#fdca26\"],[1.0,\"#f0f921\"]]}],\"mesh3d\":[{\"type\":\"mesh3d\",\"colorbar\":{\"outlinewidth\":0,\"ticks\":\"\"}}],\"scatter\":[{\"fillpattern\":{\"fillmode\":\"overlay\",\"size\":10,\"solidity\":0.2},\"type\":\"scatter\"}],\"parcoords\":[{\"type\":\"parcoords\",\"line\":{\"colorbar\":{\"outlinewidth\":0,\"ticks\":\"\"}}}],\"scatterpolargl\":[{\"type\":\"scatterpolargl\",\"marker\":{\"colorbar\":{\"outlinewidth\":0,\"ticks\":\"\"}}}],\"bar\":[{\"error_x\":{\"color\":\"#2a3f5f\"},\"error_y\":{\"color\":\"#2a3f5f\"},\"marker\":{\"line\":{\"color\":\"#E5ECF6\",\"width\":0.5},\"pattern\":{\"fillmode\":\"overlay\",\"size\":10,\"solidity\":0.2}},\"type\":\"bar\"}],\"scattergeo\":[{\"type\":\"scattergeo\",\"marker\":{\"colorbar\":{\"outlinewidth\":0,\"ticks\":\"\"}}}],\"scatterpolar\":[{\"type\":\"scatterpolar\",\"marker\":{\"colorbar\":{\"outlinewidth\":0,\"ticks\":\"\"}}}],\"histogram\":[{\"marker\":{\"pattern\":{\"fillmode\":\"overlay\",\"size\":10,\"solidity\":0.2}},\"type\":\"histogram\"}],\"scattergl\":[{\"type\":\"scattergl\",\"marker\":{\"colorbar\":{\"outlinewidth\":0,\"ticks\":\"\"}}}],\"scatter3d\":[{\"type\":\"scatter3d\",\"line\":{\"colorbar\":{\"outlinewidth\":0,\"ticks\":\"\"}},\"marker\":{\"colorbar\":{\"outlinewidth\":0,\"ticks\":\"\"}}}],\"scattermapbox\":[{\"type\":\"scattermapbox\",\"marker\":{\"colorbar\":{\"outlinewidth\":0,\"ticks\":\"\"}}}],\"scatterternary\":[{\"type\":\"scatterternary\",\"marker\":{\"colorbar\":{\"outlinewidth\":0,\"ticks\":\"\"}}}],\"scattercarpet\":[{\"type\":\"scattercarpet\",\"marker\":{\"colorbar\":{\"outlinewidth\":0,\"ticks\":\"\"}}}],\"carpet\":[{\"aaxis\":{\"endlinecolor\":\"#2a3f5f\",\"gridcolor\":\"white\",\"linecolor\":\"white\",\"minorgridcolor\":\"white\",\"startlinecolor\":\"#2a3f5f\"},\"baxis\":{\"endlinecolor\":\"#2a3f5f\",\"gridcolor\":\"white\",\"linecolor\":\"white\",\"minorgridcolor\":\"white\",\"startlinecolor\":\"#2a3f5f\"},\"type\":\"carpet\"}],\"table\":[{\"cells\":{\"fill\":{\"color\":\"#EBF0F8\"},\"line\":{\"color\":\"white\"}},\"header\":{\"fill\":{\"color\":\"#C8D4E3\"},\"line\":{\"color\":\"white\"}},\"type\":\"table\"}],\"barpolar\":[{\"marker\":{\"line\":{\"color\":\"#E5ECF6\",\"width\":0.5},\"pattern\":{\"fillmode\":\"overlay\",\"size\":10,\"solidity\":0.2}},\"type\":\"barpolar\"}],\"pie\":[{\"automargin\":true,\"type\":\"pie\"}]},\"layout\":{\"autotypenumbers\":\"strict\",\"colorway\":[\"#636efa\",\"#EF553B\",\"#00cc96\",\"#ab63fa\",\"#FFA15A\",\"#19d3f3\",\"#FF6692\",\"#B6E880\",\"#FF97FF\",\"#FECB52\"],\"font\":{\"color\":\"#2a3f5f\"},\"hovermode\":\"closest\",\"hoverlabel\":{\"align\":\"left\"},\"paper_bgcolor\":\"white\",\"plot_bgcolor\":\"#E5ECF6\",\"polar\":{\"bgcolor\":\"#E5ECF6\",\"angularaxis\":{\"gridcolor\":\"white\",\"linecolor\":\"white\",\"ticks\":\"\"},\"radialaxis\":{\"gridcolor\":\"white\",\"linecolor\":\"white\",\"ticks\":\"\"}},\"ternary\":{\"bgcolor\":\"#E5ECF6\",\"aaxis\":{\"gridcolor\":\"white\",\"linecolor\":\"white\",\"ticks\":\"\"},\"baxis\":{\"gridcolor\":\"white\",\"linecolor\":\"white\",\"ticks\":\"\"},\"caxis\":{\"gridcolor\":\"white\",\"linecolor\":\"white\",\"ticks\":\"\"}},\"coloraxis\":{\"colorbar\":{\"outlinewidth\":0,\"ticks\":\"\"}},\"colorscale\":{\"sequential\":[[0.0,\"#0d0887\"],[0.1111111111111111,\"#46039f\"],[0.2222222222222222,\"#7201a8\"],[0.3333333333333333,\"#9c179e\"],[0.4444444444444444,\"#bd3786\"],[0.5555555555555556,\"#d8576b\"],[0.6666666666666666,\"#ed7953\"],[0.7777777777777778,\"#fb9f3a\"],[0.8888888888888888,\"#fdca26\"],[1.0,\"#f0f921\"]],\"sequentialminus\":[[0.0,\"#0d0887\"],[0.1111111111111111,\"#46039f\"],[0.2222222222222222,\"#7201a8\"],[0.3333333333333333,\"#9c179e\"],[0.4444444444444444,\"#bd3786\"],[0.5555555555555556,\"#d8576b\"],[0.6666666666666666,\"#ed7953\"],[0.7777777777777778,\"#fb9f3a\"],[0.8888888888888888,\"#fdca26\"],[1.0,\"#f0f921\"]],\"diverging\":[[0,\"#8e0152\"],[0.1,\"#c51b7d\"],[0.2,\"#de77ae\"],[0.3,\"#f1b6da\"],[0.4,\"#fde0ef\"],[0.5,\"#f7f7f7\"],[0.6,\"#e6f5d0\"],[0.7,\"#b8e186\"],[0.8,\"#7fbc41\"],[0.9,\"#4d9221\"],[1,\"#276419\"]]},\"xaxis\":{\"gridcolor\":\"white\",\"linecolor\":\"white\",\"ticks\":\"\",\"title\":{\"standoff\":15},\"zerolinecolor\":\"white\",\"automargin\":true,\"zerolinewidth\":2},\"yaxis\":{\"gridcolor\":\"white\",\"linecolor\":\"white\",\"ticks\":\"\",\"title\":{\"standoff\":15},\"zerolinecolor\":\"white\",\"automargin\":true,\"zerolinewidth\":2},\"scene\":{\"xaxis\":{\"backgroundcolor\":\"#E5ECF6\",\"gridcolor\":\"white\",\"linecolor\":\"white\",\"showbackground\":true,\"ticks\":\"\",\"zerolinecolor\":\"white\",\"gridwidth\":2},\"yaxis\":{\"backgroundcolor\":\"#E5ECF6\",\"gridcolor\":\"white\",\"linecolor\":\"white\",\"showbackground\":true,\"ticks\":\"\",\"zerolinecolor\":\"white\",\"gridwidth\":2},\"zaxis\":{\"backgroundcolor\":\"#E5ECF6\",\"gridcolor\":\"white\",\"linecolor\":\"white\",\"showbackground\":true,\"ticks\":\"\",\"zerolinecolor\":\"white\",\"gridwidth\":2}},\"shapedefaults\":{\"line\":{\"color\":\"#2a3f5f\"}},\"annotationdefaults\":{\"arrowcolor\":\"#2a3f5f\",\"arrowhead\":0,\"arrowwidth\":1},\"geo\":{\"bgcolor\":\"white\",\"landcolor\":\"#E5ECF6\",\"subunitcolor\":\"white\",\"showland\":true,\"showlakes\":true,\"lakecolor\":\"white\"},\"title\":{\"x\":0.05},\"mapbox\":{\"style\":\"light\"}}},\"legend\":{\"tracegroupgap\":0},\"margin\":{\"t\":60}},                        {\"responsive\": true}                    ).then(function(){\n",
       "                            \n",
       "var gd = document.getElementById('de7a6a11-802c-41a8-b0d8-ef44d18d85a2');\n",
       "var x = new MutationObserver(function (mutations, observer) {{\n",
       "        var display = window.getComputedStyle(gd).display;\n",
       "        if (!display || display === 'none') {{\n",
       "            console.log([gd, 'removed!']);\n",
       "            Plotly.purge(gd);\n",
       "            observer.disconnect();\n",
       "        }}\n",
       "}});\n",
       "\n",
       "// Listen for the removal of the full notebook cells\n",
       "var notebookContainer = gd.closest('#notebook-container');\n",
       "if (notebookContainer) {{\n",
       "    x.observe(notebookContainer, {childList: true});\n",
       "}}\n",
       "\n",
       "// Listen for the clearing of the current output cell\n",
       "var outputEl = gd.closest('.output');\n",
       "if (outputEl) {{\n",
       "    x.observe(outputEl, {childList: true});\n",
       "}}\n",
       "\n",
       "                        })                };                });            </script>        </div>"
      ]
     },
     "metadata": {},
     "output_type": "display_data"
    }
   ],
   "source": [
    "#\n",
    "\n",
    "newnames = {'col1':'hello', 'col2': 'hi'}\n",
    "\n",
    "fig = px.sunburst(branchEmploymentEd(df21), path=['MainBranch', 'Employment', 'EdLevel',], values='size', maxdepth = 2,)\n",
    "\n",
    "#esconder las etiquetas que son demasiado grandes para entrar en el hueco del grafico\n",
    "fig.update_layout(uniformtext=dict(minsize=10, mode='hide')) \n",
    "\n",
    "fig.show()"
   ]
  },
  {
   "cell_type": "markdown",
   "id": "4f91b8bd",
   "metadata": {},
   "source": [
    "# nuevo df (2021)"
   ]
  },
  {
   "cell_type": "code",
   "execution_count": 7,
   "id": "8c3fd869",
   "metadata": {},
   "outputs": [
    {
     "data": {
      "application/vnd.plotly.v1+json": {
       "config": {
        "plotlyServerURL": "https://plot.ly"
       },
       "data": [
        {
         "branchvalues": "total",
         "domain": {
          "x": [
           0,
           1
          ],
          "y": [
           0,
           1
          ]
         },
         "hovertemplate": "labels=%{label}<br>n=%{value}<br>parent=%{parent}<br>id=%{id}<extra></extra>",
         "ids": [
          "18-24 years old/C",
          "25-34 years old/C",
          "35-44 years old/C",
          "45-54 years old/C",
          "55-64 years old/C",
          "65 years or older/C",
          "Under 18 years old/C",
          "18-24 years old/C#",
          "25-34 years old/C#",
          "35-44 years old/C#",
          "45-54 years old/C#",
          "55-64 years old/C#",
          "65 years or older/C#",
          "Under 18 years old/C#",
          "18-24 years old/C+",
          "25-34 years old/C+",
          "35-44 years old/C+",
          "45-54 years old/C+",
          "55-64 years old/C+",
          "65 years or older/C+",
          "Under 18 years old/C+",
          "18-24 years old/HTML/CSS",
          "25-34 years old/HTML/CSS",
          "35-44 years old/HTML/CSS",
          "45-54 years old/HTML/CSS",
          "55-64 years old/HTML/CSS",
          "65 years or older/HTML/CSS",
          "Under 18 years old/HTML/CSS",
          "18-24 years old/Java",
          "25-34 years old/Java",
          "35-44 years old/Java",
          "45-54 years old/Java",
          "55-64 years old/Java",
          "65 years or older/Java",
          "Under 18 years old/Java",
          "18-24 years old/JavaScript",
          "25-34 years old/JavaScript",
          "35-44 years old/JavaScript",
          "45-54 years old/JavaScript",
          "55-64 years old/JavaScript",
          "65 years or older/JavaScript",
          "Under 18 years old/JavaScript",
          "18-24 years old/Node.js",
          "25-34 years old/Node.js",
          "35-44 years old/Node.js",
          "45-54 years old/Node.js",
          "55-64 years old/Node.js",
          "65 years or older/Node.js",
          "Under 18 years old/Node.js",
          "18-24 years old/Python",
          "25-34 years old/Python",
          "35-44 years old/Python",
          "45-54 years old/Python",
          "55-64 years old/Python",
          "65 years or older/Python",
          "Under 18 years old/Python",
          "18-24 years old/SQL",
          "25-34 years old/SQL",
          "35-44 years old/SQL",
          "45-54 years old/SQL",
          "55-64 years old/SQL",
          "65 years or older/SQL",
          "Under 18 years old/SQL",
          "18-24 years old/TypeScript",
          "25-34 years old/TypeScript",
          "35-44 years old/TypeScript",
          "45-54 years old/TypeScript",
          "55-64 years old/TypeScript",
          "65 years or older/TypeScript",
          "Under 18 years old/TypeScript",
          "18-24 years old",
          "25-34 years old",
          "35-44 years old",
          "45-54 years old",
          "55-64 years old",
          "65 years or older",
          "Under 18 years old"
         ],
         "labels": [
          "C",
          "C",
          "C",
          "C",
          "C",
          "C",
          "C",
          "C#",
          "C#",
          "C#",
          "C#",
          "C#",
          "C#",
          "C#",
          "C+",
          "C+",
          "C+",
          "C+",
          "C+",
          "C+",
          "C+",
          "HTML/CSS",
          "HTML/CSS",
          "HTML/CSS",
          "HTML/CSS",
          "HTML/CSS",
          "HTML/CSS",
          "HTML/CSS",
          "Java",
          "Java",
          "Java",
          "Java",
          "Java",
          "Java",
          "Java",
          "JavaScript",
          "JavaScript",
          "JavaScript",
          "JavaScript",
          "JavaScript",
          "JavaScript",
          "JavaScript",
          "Node.js",
          "Node.js",
          "Node.js",
          "Node.js",
          "Node.js",
          "Node.js",
          "Node.js",
          "Python",
          "Python",
          "Python",
          "Python",
          "Python",
          "Python",
          "Python",
          "SQL",
          "SQL",
          "SQL",
          "SQL",
          "SQL",
          "SQL",
          "SQL",
          "TypeScript",
          "TypeScript",
          "TypeScript",
          "TypeScript",
          "TypeScript",
          "TypeScript",
          "TypeScript",
          "18-24 years old",
          "25-34 years old",
          "35-44 years old",
          "45-54 years old",
          "55-64 years old",
          "65 years or older",
          "Under 18 years old"
         ],
         "name": "",
         "parents": [
          "18-24 years old",
          "25-34 years old",
          "35-44 years old",
          "45-54 years old",
          "55-64 years old",
          "65 years or older",
          "Under 18 years old",
          "18-24 years old",
          "25-34 years old",
          "35-44 years old",
          "45-54 years old",
          "55-64 years old",
          "65 years or older",
          "Under 18 years old",
          "18-24 years old",
          "25-34 years old",
          "35-44 years old",
          "45-54 years old",
          "55-64 years old",
          "65 years or older",
          "Under 18 years old",
          "18-24 years old",
          "25-34 years old",
          "35-44 years old",
          "45-54 years old",
          "55-64 years old",
          "65 years or older",
          "Under 18 years old",
          "18-24 years old",
          "25-34 years old",
          "35-44 years old",
          "45-54 years old",
          "55-64 years old",
          "65 years or older",
          "Under 18 years old",
          "18-24 years old",
          "25-34 years old",
          "35-44 years old",
          "45-54 years old",
          "55-64 years old",
          "65 years or older",
          "Under 18 years old",
          "18-24 years old",
          "25-34 years old",
          "35-44 years old",
          "45-54 years old",
          "55-64 years old",
          "65 years or older",
          "Under 18 years old",
          "18-24 years old",
          "25-34 years old",
          "35-44 years old",
          "45-54 years old",
          "55-64 years old",
          "65 years or older",
          "Under 18 years old",
          "18-24 years old",
          "25-34 years old",
          "35-44 years old",
          "45-54 years old",
          "55-64 years old",
          "65 years or older",
          "Under 18 years old",
          "18-24 years old",
          "25-34 years old",
          "35-44 years old",
          "45-54 years old",
          "55-64 years old",
          "65 years or older",
          "Under 18 years old",
          "",
          "",
          "",
          "",
          "",
          "",
          ""
         ],
         "type": "sunburst",
         "values": [
          17371,
          23928,
          11390,
          4116,
          1332,
          288,
          4500,
          5601,
          8370,
          4671,
          1783,
          538,
          91,
          1569,
          17371,
          23928,
          11390,
          4116,
          1332,
          288,
          4500,
          12898,
          17520,
          7952,
          2697,
          752,
          149,
          3532,
          16528,
          24635,
          11250,
          3747,
          1054,
          186,
          3928,
          13873,
          21403,
          9811,
          3221,
          889,
          156,
          3370,
          7867,
          11211,
          4810,
          1393,
          309,
          44,
          1919,
          12482,
          14140,
          5804,
          2037,
          649,
          152,
          3726,
          9768,
          15468,
          7771,
          2927,
          918,
          152,
          1301,
          5803,
          11253,
          4848,
          1361,
          291,
          34,
          1010,
          119562,
          171856,
          79697,
          27398,
          8064,
          1540,
          29355
         ]
        }
       ],
       "layout": {
        "legend": {
         "tracegroupgap": 0
        },
        "margin": {
         "t": 60
        },
        "template": {
         "data": {
          "bar": [
           {
            "error_x": {
             "color": "#2a3f5f"
            },
            "error_y": {
             "color": "#2a3f5f"
            },
            "marker": {
             "line": {
              "color": "#E5ECF6",
              "width": 0.5
             },
             "pattern": {
              "fillmode": "overlay",
              "size": 10,
              "solidity": 0.2
             }
            },
            "type": "bar"
           }
          ],
          "barpolar": [
           {
            "marker": {
             "line": {
              "color": "#E5ECF6",
              "width": 0.5
             },
             "pattern": {
              "fillmode": "overlay",
              "size": 10,
              "solidity": 0.2
             }
            },
            "type": "barpolar"
           }
          ],
          "carpet": [
           {
            "aaxis": {
             "endlinecolor": "#2a3f5f",
             "gridcolor": "white",
             "linecolor": "white",
             "minorgridcolor": "white",
             "startlinecolor": "#2a3f5f"
            },
            "baxis": {
             "endlinecolor": "#2a3f5f",
             "gridcolor": "white",
             "linecolor": "white",
             "minorgridcolor": "white",
             "startlinecolor": "#2a3f5f"
            },
            "type": "carpet"
           }
          ],
          "choropleth": [
           {
            "colorbar": {
             "outlinewidth": 0,
             "ticks": ""
            },
            "type": "choropleth"
           }
          ],
          "contour": [
           {
            "colorbar": {
             "outlinewidth": 0,
             "ticks": ""
            },
            "colorscale": [
             [
              0,
              "#0d0887"
             ],
             [
              0.1111111111111111,
              "#46039f"
             ],
             [
              0.2222222222222222,
              "#7201a8"
             ],
             [
              0.3333333333333333,
              "#9c179e"
             ],
             [
              0.4444444444444444,
              "#bd3786"
             ],
             [
              0.5555555555555556,
              "#d8576b"
             ],
             [
              0.6666666666666666,
              "#ed7953"
             ],
             [
              0.7777777777777778,
              "#fb9f3a"
             ],
             [
              0.8888888888888888,
              "#fdca26"
             ],
             [
              1,
              "#f0f921"
             ]
            ],
            "type": "contour"
           }
          ],
          "contourcarpet": [
           {
            "colorbar": {
             "outlinewidth": 0,
             "ticks": ""
            },
            "type": "contourcarpet"
           }
          ],
          "heatmap": [
           {
            "colorbar": {
             "outlinewidth": 0,
             "ticks": ""
            },
            "colorscale": [
             [
              0,
              "#0d0887"
             ],
             [
              0.1111111111111111,
              "#46039f"
             ],
             [
              0.2222222222222222,
              "#7201a8"
             ],
             [
              0.3333333333333333,
              "#9c179e"
             ],
             [
              0.4444444444444444,
              "#bd3786"
             ],
             [
              0.5555555555555556,
              "#d8576b"
             ],
             [
              0.6666666666666666,
              "#ed7953"
             ],
             [
              0.7777777777777778,
              "#fb9f3a"
             ],
             [
              0.8888888888888888,
              "#fdca26"
             ],
             [
              1,
              "#f0f921"
             ]
            ],
            "type": "heatmap"
           }
          ],
          "heatmapgl": [
           {
            "colorbar": {
             "outlinewidth": 0,
             "ticks": ""
            },
            "colorscale": [
             [
              0,
              "#0d0887"
             ],
             [
              0.1111111111111111,
              "#46039f"
             ],
             [
              0.2222222222222222,
              "#7201a8"
             ],
             [
              0.3333333333333333,
              "#9c179e"
             ],
             [
              0.4444444444444444,
              "#bd3786"
             ],
             [
              0.5555555555555556,
              "#d8576b"
             ],
             [
              0.6666666666666666,
              "#ed7953"
             ],
             [
              0.7777777777777778,
              "#fb9f3a"
             ],
             [
              0.8888888888888888,
              "#fdca26"
             ],
             [
              1,
              "#f0f921"
             ]
            ],
            "type": "heatmapgl"
           }
          ],
          "histogram": [
           {
            "marker": {
             "pattern": {
              "fillmode": "overlay",
              "size": 10,
              "solidity": 0.2
             }
            },
            "type": "histogram"
           }
          ],
          "histogram2d": [
           {
            "colorbar": {
             "outlinewidth": 0,
             "ticks": ""
            },
            "colorscale": [
             [
              0,
              "#0d0887"
             ],
             [
              0.1111111111111111,
              "#46039f"
             ],
             [
              0.2222222222222222,
              "#7201a8"
             ],
             [
              0.3333333333333333,
              "#9c179e"
             ],
             [
              0.4444444444444444,
              "#bd3786"
             ],
             [
              0.5555555555555556,
              "#d8576b"
             ],
             [
              0.6666666666666666,
              "#ed7953"
             ],
             [
              0.7777777777777778,
              "#fb9f3a"
             ],
             [
              0.8888888888888888,
              "#fdca26"
             ],
             [
              1,
              "#f0f921"
             ]
            ],
            "type": "histogram2d"
           }
          ],
          "histogram2dcontour": [
           {
            "colorbar": {
             "outlinewidth": 0,
             "ticks": ""
            },
            "colorscale": [
             [
              0,
              "#0d0887"
             ],
             [
              0.1111111111111111,
              "#46039f"
             ],
             [
              0.2222222222222222,
              "#7201a8"
             ],
             [
              0.3333333333333333,
              "#9c179e"
             ],
             [
              0.4444444444444444,
              "#bd3786"
             ],
             [
              0.5555555555555556,
              "#d8576b"
             ],
             [
              0.6666666666666666,
              "#ed7953"
             ],
             [
              0.7777777777777778,
              "#fb9f3a"
             ],
             [
              0.8888888888888888,
              "#fdca26"
             ],
             [
              1,
              "#f0f921"
             ]
            ],
            "type": "histogram2dcontour"
           }
          ],
          "mesh3d": [
           {
            "colorbar": {
             "outlinewidth": 0,
             "ticks": ""
            },
            "type": "mesh3d"
           }
          ],
          "parcoords": [
           {
            "line": {
             "colorbar": {
              "outlinewidth": 0,
              "ticks": ""
             }
            },
            "type": "parcoords"
           }
          ],
          "pie": [
           {
            "automargin": true,
            "type": "pie"
           }
          ],
          "scatter": [
           {
            "fillpattern": {
             "fillmode": "overlay",
             "size": 10,
             "solidity": 0.2
            },
            "type": "scatter"
           }
          ],
          "scatter3d": [
           {
            "line": {
             "colorbar": {
              "outlinewidth": 0,
              "ticks": ""
             }
            },
            "marker": {
             "colorbar": {
              "outlinewidth": 0,
              "ticks": ""
             }
            },
            "type": "scatter3d"
           }
          ],
          "scattercarpet": [
           {
            "marker": {
             "colorbar": {
              "outlinewidth": 0,
              "ticks": ""
             }
            },
            "type": "scattercarpet"
           }
          ],
          "scattergeo": [
           {
            "marker": {
             "colorbar": {
              "outlinewidth": 0,
              "ticks": ""
             }
            },
            "type": "scattergeo"
           }
          ],
          "scattergl": [
           {
            "marker": {
             "colorbar": {
              "outlinewidth": 0,
              "ticks": ""
             }
            },
            "type": "scattergl"
           }
          ],
          "scattermapbox": [
           {
            "marker": {
             "colorbar": {
              "outlinewidth": 0,
              "ticks": ""
             }
            },
            "type": "scattermapbox"
           }
          ],
          "scatterpolar": [
           {
            "marker": {
             "colorbar": {
              "outlinewidth": 0,
              "ticks": ""
             }
            },
            "type": "scatterpolar"
           }
          ],
          "scatterpolargl": [
           {
            "marker": {
             "colorbar": {
              "outlinewidth": 0,
              "ticks": ""
             }
            },
            "type": "scatterpolargl"
           }
          ],
          "scatterternary": [
           {
            "marker": {
             "colorbar": {
              "outlinewidth": 0,
              "ticks": ""
             }
            },
            "type": "scatterternary"
           }
          ],
          "surface": [
           {
            "colorbar": {
             "outlinewidth": 0,
             "ticks": ""
            },
            "colorscale": [
             [
              0,
              "#0d0887"
             ],
             [
              0.1111111111111111,
              "#46039f"
             ],
             [
              0.2222222222222222,
              "#7201a8"
             ],
             [
              0.3333333333333333,
              "#9c179e"
             ],
             [
              0.4444444444444444,
              "#bd3786"
             ],
             [
              0.5555555555555556,
              "#d8576b"
             ],
             [
              0.6666666666666666,
              "#ed7953"
             ],
             [
              0.7777777777777778,
              "#fb9f3a"
             ],
             [
              0.8888888888888888,
              "#fdca26"
             ],
             [
              1,
              "#f0f921"
             ]
            ],
            "type": "surface"
           }
          ],
          "table": [
           {
            "cells": {
             "fill": {
              "color": "#EBF0F8"
             },
             "line": {
              "color": "white"
             }
            },
            "header": {
             "fill": {
              "color": "#C8D4E3"
             },
             "line": {
              "color": "white"
             }
            },
            "type": "table"
           }
          ]
         },
         "layout": {
          "annotationdefaults": {
           "arrowcolor": "#2a3f5f",
           "arrowhead": 0,
           "arrowwidth": 1
          },
          "autotypenumbers": "strict",
          "coloraxis": {
           "colorbar": {
            "outlinewidth": 0,
            "ticks": ""
           }
          },
          "colorscale": {
           "diverging": [
            [
             0,
             "#8e0152"
            ],
            [
             0.1,
             "#c51b7d"
            ],
            [
             0.2,
             "#de77ae"
            ],
            [
             0.3,
             "#f1b6da"
            ],
            [
             0.4,
             "#fde0ef"
            ],
            [
             0.5,
             "#f7f7f7"
            ],
            [
             0.6,
             "#e6f5d0"
            ],
            [
             0.7,
             "#b8e186"
            ],
            [
             0.8,
             "#7fbc41"
            ],
            [
             0.9,
             "#4d9221"
            ],
            [
             1,
             "#276419"
            ]
           ],
           "sequential": [
            [
             0,
             "#0d0887"
            ],
            [
             0.1111111111111111,
             "#46039f"
            ],
            [
             0.2222222222222222,
             "#7201a8"
            ],
            [
             0.3333333333333333,
             "#9c179e"
            ],
            [
             0.4444444444444444,
             "#bd3786"
            ],
            [
             0.5555555555555556,
             "#d8576b"
            ],
            [
             0.6666666666666666,
             "#ed7953"
            ],
            [
             0.7777777777777778,
             "#fb9f3a"
            ],
            [
             0.8888888888888888,
             "#fdca26"
            ],
            [
             1,
             "#f0f921"
            ]
           ],
           "sequentialminus": [
            [
             0,
             "#0d0887"
            ],
            [
             0.1111111111111111,
             "#46039f"
            ],
            [
             0.2222222222222222,
             "#7201a8"
            ],
            [
             0.3333333333333333,
             "#9c179e"
            ],
            [
             0.4444444444444444,
             "#bd3786"
            ],
            [
             0.5555555555555556,
             "#d8576b"
            ],
            [
             0.6666666666666666,
             "#ed7953"
            ],
            [
             0.7777777777777778,
             "#fb9f3a"
            ],
            [
             0.8888888888888888,
             "#fdca26"
            ],
            [
             1,
             "#f0f921"
            ]
           ]
          },
          "colorway": [
           "#636efa",
           "#EF553B",
           "#00cc96",
           "#ab63fa",
           "#FFA15A",
           "#19d3f3",
           "#FF6692",
           "#B6E880",
           "#FF97FF",
           "#FECB52"
          ],
          "font": {
           "color": "#2a3f5f"
          },
          "geo": {
           "bgcolor": "white",
           "lakecolor": "white",
           "landcolor": "#E5ECF6",
           "showlakes": true,
           "showland": true,
           "subunitcolor": "white"
          },
          "hoverlabel": {
           "align": "left"
          },
          "hovermode": "closest",
          "mapbox": {
           "style": "light"
          },
          "paper_bgcolor": "white",
          "plot_bgcolor": "#E5ECF6",
          "polar": {
           "angularaxis": {
            "gridcolor": "white",
            "linecolor": "white",
            "ticks": ""
           },
           "bgcolor": "#E5ECF6",
           "radialaxis": {
            "gridcolor": "white",
            "linecolor": "white",
            "ticks": ""
           }
          },
          "scene": {
           "xaxis": {
            "backgroundcolor": "#E5ECF6",
            "gridcolor": "white",
            "gridwidth": 2,
            "linecolor": "white",
            "showbackground": true,
            "ticks": "",
            "zerolinecolor": "white"
           },
           "yaxis": {
            "backgroundcolor": "#E5ECF6",
            "gridcolor": "white",
            "gridwidth": 2,
            "linecolor": "white",
            "showbackground": true,
            "ticks": "",
            "zerolinecolor": "white"
           },
           "zaxis": {
            "backgroundcolor": "#E5ECF6",
            "gridcolor": "white",
            "gridwidth": 2,
            "linecolor": "white",
            "showbackground": true,
            "ticks": "",
            "zerolinecolor": "white"
           }
          },
          "shapedefaults": {
           "line": {
            "color": "#2a3f5f"
           }
          },
          "ternary": {
           "aaxis": {
            "gridcolor": "white",
            "linecolor": "white",
            "ticks": ""
           },
           "baxis": {
            "gridcolor": "white",
            "linecolor": "white",
            "ticks": ""
           },
           "bgcolor": "#E5ECF6",
           "caxis": {
            "gridcolor": "white",
            "linecolor": "white",
            "ticks": ""
           }
          },
          "title": {
           "x": 0.05
          },
          "xaxis": {
           "automargin": true,
           "gridcolor": "white",
           "linecolor": "white",
           "ticks": "",
           "title": {
            "standoff": 15
           },
           "zerolinecolor": "white",
           "zerolinewidth": 2
          },
          "yaxis": {
           "automargin": true,
           "gridcolor": "white",
           "linecolor": "white",
           "ticks": "",
           "title": {
            "standoff": 15
           },
           "zerolinecolor": "white",
           "zerolinewidth": 2
          }
         }
        }
       }
      },
      "text/html": [
       "<div>                            <div id=\"57b5b4f3-395f-4fef-8a64-84de7911e602\" class=\"plotly-graph-div\" style=\"height:525px; width:100%;\"></div>            <script type=\"text/javascript\">                require([\"plotly\"], function(Plotly) {                    window.PLOTLYENV=window.PLOTLYENV || {};                                    if (document.getElementById(\"57b5b4f3-395f-4fef-8a64-84de7911e602\")) {                    Plotly.newPlot(                        \"57b5b4f3-395f-4fef-8a64-84de7911e602\",                        [{\"branchvalues\":\"total\",\"domain\":{\"x\":[0.0,1.0],\"y\":[0.0,1.0]},\"hovertemplate\":\"labels=%{label}<br>n=%{value}<br>parent=%{parent}<br>id=%{id}<extra></extra>\",\"ids\":[\"18-24 years old/C\",\"25-34 years old/C\",\"35-44 years old/C\",\"45-54 years old/C\",\"55-64 years old/C\",\"65 years or older/C\",\"Under 18 years old/C\",\"18-24 years old/C#\",\"25-34 years old/C#\",\"35-44 years old/C#\",\"45-54 years old/C#\",\"55-64 years old/C#\",\"65 years or older/C#\",\"Under 18 years old/C#\",\"18-24 years old/C+\",\"25-34 years old/C+\",\"35-44 years old/C+\",\"45-54 years old/C+\",\"55-64 years old/C+\",\"65 years or older/C+\",\"Under 18 years old/C+\",\"18-24 years old/HTML/CSS\",\"25-34 years old/HTML/CSS\",\"35-44 years old/HTML/CSS\",\"45-54 years old/HTML/CSS\",\"55-64 years old/HTML/CSS\",\"65 years or older/HTML/CSS\",\"Under 18 years old/HTML/CSS\",\"18-24 years old/Java\",\"25-34 years old/Java\",\"35-44 years old/Java\",\"45-54 years old/Java\",\"55-64 years old/Java\",\"65 years or older/Java\",\"Under 18 years old/Java\",\"18-24 years old/JavaScript\",\"25-34 years old/JavaScript\",\"35-44 years old/JavaScript\",\"45-54 years old/JavaScript\",\"55-64 years old/JavaScript\",\"65 years or older/JavaScript\",\"Under 18 years old/JavaScript\",\"18-24 years old/Node.js\",\"25-34 years old/Node.js\",\"35-44 years old/Node.js\",\"45-54 years old/Node.js\",\"55-64 years old/Node.js\",\"65 years or older/Node.js\",\"Under 18 years old/Node.js\",\"18-24 years old/Python\",\"25-34 years old/Python\",\"35-44 years old/Python\",\"45-54 years old/Python\",\"55-64 years old/Python\",\"65 years or older/Python\",\"Under 18 years old/Python\",\"18-24 years old/SQL\",\"25-34 years old/SQL\",\"35-44 years old/SQL\",\"45-54 years old/SQL\",\"55-64 years old/SQL\",\"65 years or older/SQL\",\"Under 18 years old/SQL\",\"18-24 years old/TypeScript\",\"25-34 years old/TypeScript\",\"35-44 years old/TypeScript\",\"45-54 years old/TypeScript\",\"55-64 years old/TypeScript\",\"65 years or older/TypeScript\",\"Under 18 years old/TypeScript\",\"18-24 years old\",\"25-34 years old\",\"35-44 years old\",\"45-54 years old\",\"55-64 years old\",\"65 years or older\",\"Under 18 years old\"],\"labels\":[\"C\",\"C\",\"C\",\"C\",\"C\",\"C\",\"C\",\"C#\",\"C#\",\"C#\",\"C#\",\"C#\",\"C#\",\"C#\",\"C+\",\"C+\",\"C+\",\"C+\",\"C+\",\"C+\",\"C+\",\"HTML/CSS\",\"HTML/CSS\",\"HTML/CSS\",\"HTML/CSS\",\"HTML/CSS\",\"HTML/CSS\",\"HTML/CSS\",\"Java\",\"Java\",\"Java\",\"Java\",\"Java\",\"Java\",\"Java\",\"JavaScript\",\"JavaScript\",\"JavaScript\",\"JavaScript\",\"JavaScript\",\"JavaScript\",\"JavaScript\",\"Node.js\",\"Node.js\",\"Node.js\",\"Node.js\",\"Node.js\",\"Node.js\",\"Node.js\",\"Python\",\"Python\",\"Python\",\"Python\",\"Python\",\"Python\",\"Python\",\"SQL\",\"SQL\",\"SQL\",\"SQL\",\"SQL\",\"SQL\",\"SQL\",\"TypeScript\",\"TypeScript\",\"TypeScript\",\"TypeScript\",\"TypeScript\",\"TypeScript\",\"TypeScript\",\"18-24 years old\",\"25-34 years old\",\"35-44 years old\",\"45-54 years old\",\"55-64 years old\",\"65 years or older\",\"Under 18 years old\"],\"name\":\"\",\"parents\":[\"18-24 years old\",\"25-34 years old\",\"35-44 years old\",\"45-54 years old\",\"55-64 years old\",\"65 years or older\",\"Under 18 years old\",\"18-24 years old\",\"25-34 years old\",\"35-44 years old\",\"45-54 years old\",\"55-64 years old\",\"65 years or older\",\"Under 18 years old\",\"18-24 years old\",\"25-34 years old\",\"35-44 years old\",\"45-54 years old\",\"55-64 years old\",\"65 years or older\",\"Under 18 years old\",\"18-24 years old\",\"25-34 years old\",\"35-44 years old\",\"45-54 years old\",\"55-64 years old\",\"65 years or older\",\"Under 18 years old\",\"18-24 years old\",\"25-34 years old\",\"35-44 years old\",\"45-54 years old\",\"55-64 years old\",\"65 years or older\",\"Under 18 years old\",\"18-24 years old\",\"25-34 years old\",\"35-44 years old\",\"45-54 years old\",\"55-64 years old\",\"65 years or older\",\"Under 18 years old\",\"18-24 years old\",\"25-34 years old\",\"35-44 years old\",\"45-54 years old\",\"55-64 years old\",\"65 years or older\",\"Under 18 years old\",\"18-24 years old\",\"25-34 years old\",\"35-44 years old\",\"45-54 years old\",\"55-64 years old\",\"65 years or older\",\"Under 18 years old\",\"18-24 years old\",\"25-34 years old\",\"35-44 years old\",\"45-54 years old\",\"55-64 years old\",\"65 years or older\",\"Under 18 years old\",\"18-24 years old\",\"25-34 years old\",\"35-44 years old\",\"45-54 years old\",\"55-64 years old\",\"65 years or older\",\"Under 18 years old\",\"\",\"\",\"\",\"\",\"\",\"\",\"\"],\"values\":[17371,23928,11390,4116,1332,288,4500,5601,8370,4671,1783,538,91,1569,17371,23928,11390,4116,1332,288,4500,12898,17520,7952,2697,752,149,3532,16528,24635,11250,3747,1054,186,3928,13873,21403,9811,3221,889,156,3370,7867,11211,4810,1393,309,44,1919,12482,14140,5804,2037,649,152,3726,9768,15468,7771,2927,918,152,1301,5803,11253,4848,1361,291,34,1010,119562,171856,79697,27398,8064,1540,29355],\"type\":\"sunburst\"}],                        {\"template\":{\"data\":{\"histogram2dcontour\":[{\"type\":\"histogram2dcontour\",\"colorbar\":{\"outlinewidth\":0,\"ticks\":\"\"},\"colorscale\":[[0.0,\"#0d0887\"],[0.1111111111111111,\"#46039f\"],[0.2222222222222222,\"#7201a8\"],[0.3333333333333333,\"#9c179e\"],[0.4444444444444444,\"#bd3786\"],[0.5555555555555556,\"#d8576b\"],[0.6666666666666666,\"#ed7953\"],[0.7777777777777778,\"#fb9f3a\"],[0.8888888888888888,\"#fdca26\"],[1.0,\"#f0f921\"]]}],\"choropleth\":[{\"type\":\"choropleth\",\"colorbar\":{\"outlinewidth\":0,\"ticks\":\"\"}}],\"histogram2d\":[{\"type\":\"histogram2d\",\"colorbar\":{\"outlinewidth\":0,\"ticks\":\"\"},\"colorscale\":[[0.0,\"#0d0887\"],[0.1111111111111111,\"#46039f\"],[0.2222222222222222,\"#7201a8\"],[0.3333333333333333,\"#9c179e\"],[0.4444444444444444,\"#bd3786\"],[0.5555555555555556,\"#d8576b\"],[0.6666666666666666,\"#ed7953\"],[0.7777777777777778,\"#fb9f3a\"],[0.8888888888888888,\"#fdca26\"],[1.0,\"#f0f921\"]]}],\"heatmap\":[{\"type\":\"heatmap\",\"colorbar\":{\"outlinewidth\":0,\"ticks\":\"\"},\"colorscale\":[[0.0,\"#0d0887\"],[0.1111111111111111,\"#46039f\"],[0.2222222222222222,\"#7201a8\"],[0.3333333333333333,\"#9c179e\"],[0.4444444444444444,\"#bd3786\"],[0.5555555555555556,\"#d8576b\"],[0.6666666666666666,\"#ed7953\"],[0.7777777777777778,\"#fb9f3a\"],[0.8888888888888888,\"#fdca26\"],[1.0,\"#f0f921\"]]}],\"heatmapgl\":[{\"type\":\"heatmapgl\",\"colorbar\":{\"outlinewidth\":0,\"ticks\":\"\"},\"colorscale\":[[0.0,\"#0d0887\"],[0.1111111111111111,\"#46039f\"],[0.2222222222222222,\"#7201a8\"],[0.3333333333333333,\"#9c179e\"],[0.4444444444444444,\"#bd3786\"],[0.5555555555555556,\"#d8576b\"],[0.6666666666666666,\"#ed7953\"],[0.7777777777777778,\"#fb9f3a\"],[0.8888888888888888,\"#fdca26\"],[1.0,\"#f0f921\"]]}],\"contourcarpet\":[{\"type\":\"contourcarpet\",\"colorbar\":{\"outlinewidth\":0,\"ticks\":\"\"}}],\"contour\":[{\"type\":\"contour\",\"colorbar\":{\"outlinewidth\":0,\"ticks\":\"\"},\"colorscale\":[[0.0,\"#0d0887\"],[0.1111111111111111,\"#46039f\"],[0.2222222222222222,\"#7201a8\"],[0.3333333333333333,\"#9c179e\"],[0.4444444444444444,\"#bd3786\"],[0.5555555555555556,\"#d8576b\"],[0.6666666666666666,\"#ed7953\"],[0.7777777777777778,\"#fb9f3a\"],[0.8888888888888888,\"#fdca26\"],[1.0,\"#f0f921\"]]}],\"surface\":[{\"type\":\"surface\",\"colorbar\":{\"outlinewidth\":0,\"ticks\":\"\"},\"colorscale\":[[0.0,\"#0d0887\"],[0.1111111111111111,\"#46039f\"],[0.2222222222222222,\"#7201a8\"],[0.3333333333333333,\"#9c179e\"],[0.4444444444444444,\"#bd3786\"],[0.5555555555555556,\"#d8576b\"],[0.6666666666666666,\"#ed7953\"],[0.7777777777777778,\"#fb9f3a\"],[0.8888888888888888,\"#fdca26\"],[1.0,\"#f0f921\"]]}],\"mesh3d\":[{\"type\":\"mesh3d\",\"colorbar\":{\"outlinewidth\":0,\"ticks\":\"\"}}],\"scatter\":[{\"fillpattern\":{\"fillmode\":\"overlay\",\"size\":10,\"solidity\":0.2},\"type\":\"scatter\"}],\"parcoords\":[{\"type\":\"parcoords\",\"line\":{\"colorbar\":{\"outlinewidth\":0,\"ticks\":\"\"}}}],\"scatterpolargl\":[{\"type\":\"scatterpolargl\",\"marker\":{\"colorbar\":{\"outlinewidth\":0,\"ticks\":\"\"}}}],\"bar\":[{\"error_x\":{\"color\":\"#2a3f5f\"},\"error_y\":{\"color\":\"#2a3f5f\"},\"marker\":{\"line\":{\"color\":\"#E5ECF6\",\"width\":0.5},\"pattern\":{\"fillmode\":\"overlay\",\"size\":10,\"solidity\":0.2}},\"type\":\"bar\"}],\"scattergeo\":[{\"type\":\"scattergeo\",\"marker\":{\"colorbar\":{\"outlinewidth\":0,\"ticks\":\"\"}}}],\"scatterpolar\":[{\"type\":\"scatterpolar\",\"marker\":{\"colorbar\":{\"outlinewidth\":0,\"ticks\":\"\"}}}],\"histogram\":[{\"marker\":{\"pattern\":{\"fillmode\":\"overlay\",\"size\":10,\"solidity\":0.2}},\"type\":\"histogram\"}],\"scattergl\":[{\"type\":\"scattergl\",\"marker\":{\"colorbar\":{\"outlinewidth\":0,\"ticks\":\"\"}}}],\"scatter3d\":[{\"type\":\"scatter3d\",\"line\":{\"colorbar\":{\"outlinewidth\":0,\"ticks\":\"\"}},\"marker\":{\"colorbar\":{\"outlinewidth\":0,\"ticks\":\"\"}}}],\"scattermapbox\":[{\"type\":\"scattermapbox\",\"marker\":{\"colorbar\":{\"outlinewidth\":0,\"ticks\":\"\"}}}],\"scatterternary\":[{\"type\":\"scatterternary\",\"marker\":{\"colorbar\":{\"outlinewidth\":0,\"ticks\":\"\"}}}],\"scattercarpet\":[{\"type\":\"scattercarpet\",\"marker\":{\"colorbar\":{\"outlinewidth\":0,\"ticks\":\"\"}}}],\"carpet\":[{\"aaxis\":{\"endlinecolor\":\"#2a3f5f\",\"gridcolor\":\"white\",\"linecolor\":\"white\",\"minorgridcolor\":\"white\",\"startlinecolor\":\"#2a3f5f\"},\"baxis\":{\"endlinecolor\":\"#2a3f5f\",\"gridcolor\":\"white\",\"linecolor\":\"white\",\"minorgridcolor\":\"white\",\"startlinecolor\":\"#2a3f5f\"},\"type\":\"carpet\"}],\"table\":[{\"cells\":{\"fill\":{\"color\":\"#EBF0F8\"},\"line\":{\"color\":\"white\"}},\"header\":{\"fill\":{\"color\":\"#C8D4E3\"},\"line\":{\"color\":\"white\"}},\"type\":\"table\"}],\"barpolar\":[{\"marker\":{\"line\":{\"color\":\"#E5ECF6\",\"width\":0.5},\"pattern\":{\"fillmode\":\"overlay\",\"size\":10,\"solidity\":0.2}},\"type\":\"barpolar\"}],\"pie\":[{\"automargin\":true,\"type\":\"pie\"}]},\"layout\":{\"autotypenumbers\":\"strict\",\"colorway\":[\"#636efa\",\"#EF553B\",\"#00cc96\",\"#ab63fa\",\"#FFA15A\",\"#19d3f3\",\"#FF6692\",\"#B6E880\",\"#FF97FF\",\"#FECB52\"],\"font\":{\"color\":\"#2a3f5f\"},\"hovermode\":\"closest\",\"hoverlabel\":{\"align\":\"left\"},\"paper_bgcolor\":\"white\",\"plot_bgcolor\":\"#E5ECF6\",\"polar\":{\"bgcolor\":\"#E5ECF6\",\"angularaxis\":{\"gridcolor\":\"white\",\"linecolor\":\"white\",\"ticks\":\"\"},\"radialaxis\":{\"gridcolor\":\"white\",\"linecolor\":\"white\",\"ticks\":\"\"}},\"ternary\":{\"bgcolor\":\"#E5ECF6\",\"aaxis\":{\"gridcolor\":\"white\",\"linecolor\":\"white\",\"ticks\":\"\"},\"baxis\":{\"gridcolor\":\"white\",\"linecolor\":\"white\",\"ticks\":\"\"},\"caxis\":{\"gridcolor\":\"white\",\"linecolor\":\"white\",\"ticks\":\"\"}},\"coloraxis\":{\"colorbar\":{\"outlinewidth\":0,\"ticks\":\"\"}},\"colorscale\":{\"sequential\":[[0.0,\"#0d0887\"],[0.1111111111111111,\"#46039f\"],[0.2222222222222222,\"#7201a8\"],[0.3333333333333333,\"#9c179e\"],[0.4444444444444444,\"#bd3786\"],[0.5555555555555556,\"#d8576b\"],[0.6666666666666666,\"#ed7953\"],[0.7777777777777778,\"#fb9f3a\"],[0.8888888888888888,\"#fdca26\"],[1.0,\"#f0f921\"]],\"sequentialminus\":[[0.0,\"#0d0887\"],[0.1111111111111111,\"#46039f\"],[0.2222222222222222,\"#7201a8\"],[0.3333333333333333,\"#9c179e\"],[0.4444444444444444,\"#bd3786\"],[0.5555555555555556,\"#d8576b\"],[0.6666666666666666,\"#ed7953\"],[0.7777777777777778,\"#fb9f3a\"],[0.8888888888888888,\"#fdca26\"],[1.0,\"#f0f921\"]],\"diverging\":[[0,\"#8e0152\"],[0.1,\"#c51b7d\"],[0.2,\"#de77ae\"],[0.3,\"#f1b6da\"],[0.4,\"#fde0ef\"],[0.5,\"#f7f7f7\"],[0.6,\"#e6f5d0\"],[0.7,\"#b8e186\"],[0.8,\"#7fbc41\"],[0.9,\"#4d9221\"],[1,\"#276419\"]]},\"xaxis\":{\"gridcolor\":\"white\",\"linecolor\":\"white\",\"ticks\":\"\",\"title\":{\"standoff\":15},\"zerolinecolor\":\"white\",\"automargin\":true,\"zerolinewidth\":2},\"yaxis\":{\"gridcolor\":\"white\",\"linecolor\":\"white\",\"ticks\":\"\",\"title\":{\"standoff\":15},\"zerolinecolor\":\"white\",\"automargin\":true,\"zerolinewidth\":2},\"scene\":{\"xaxis\":{\"backgroundcolor\":\"#E5ECF6\",\"gridcolor\":\"white\",\"linecolor\":\"white\",\"showbackground\":true,\"ticks\":\"\",\"zerolinecolor\":\"white\",\"gridwidth\":2},\"yaxis\":{\"backgroundcolor\":\"#E5ECF6\",\"gridcolor\":\"white\",\"linecolor\":\"white\",\"showbackground\":true,\"ticks\":\"\",\"zerolinecolor\":\"white\",\"gridwidth\":2},\"zaxis\":{\"backgroundcolor\":\"#E5ECF6\",\"gridcolor\":\"white\",\"linecolor\":\"white\",\"showbackground\":true,\"ticks\":\"\",\"zerolinecolor\":\"white\",\"gridwidth\":2}},\"shapedefaults\":{\"line\":{\"color\":\"#2a3f5f\"}},\"annotationdefaults\":{\"arrowcolor\":\"#2a3f5f\",\"arrowhead\":0,\"arrowwidth\":1},\"geo\":{\"bgcolor\":\"white\",\"landcolor\":\"#E5ECF6\",\"subunitcolor\":\"white\",\"showland\":true,\"showlakes\":true,\"lakecolor\":\"white\"},\"title\":{\"x\":0.05},\"mapbox\":{\"style\":\"light\"}}},\"legend\":{\"tracegroupgap\":0},\"margin\":{\"t\":60}},                        {\"responsive\": true}                    ).then(function(){\n",
       "                            \n",
       "var gd = document.getElementById('57b5b4f3-395f-4fef-8a64-84de7911e602');\n",
       "var x = new MutationObserver(function (mutations, observer) {{\n",
       "        var display = window.getComputedStyle(gd).display;\n",
       "        if (!display || display === 'none') {{\n",
       "            console.log([gd, 'removed!']);\n",
       "            Plotly.purge(gd);\n",
       "            observer.disconnect();\n",
       "        }}\n",
       "}});\n",
       "\n",
       "// Listen for the removal of the full notebook cells\n",
       "var notebookContainer = gd.closest('#notebook-container');\n",
       "if (notebookContainer) {{\n",
       "    x.observe(notebookContainer, {childList: true});\n",
       "}}\n",
       "\n",
       "// Listen for the clearing of the current output cell\n",
       "var outputEl = gd.closest('.output');\n",
       "if (outputEl) {{\n",
       "    x.observe(outputEl, {childList: true});\n",
       "}}\n",
       "\n",
       "                        })                };                });            </script>        </div>"
      ]
     },
     "metadata": {},
     "output_type": "display_data"
    }
   ],
   "source": [
    "# copiamos elementos que no sean NaN\n",
    "df2=df21[['Age','LanguageHaveWorkedWith']].dropna().copy() \n",
    "\n",
    "# Lista de lenguajes\n",
    "leng=[]\n",
    "for l in df2['LanguageHaveWorkedWith'].apply(lambda x: x.split(';')):\n",
    "    leng=np.unique(np.append(leng, l))\n",
    "\n",
    "# Lista de edades\n",
    "edades=list(df2['Age'].unique())\n",
    "edades.remove('Prefer not to say') # Eliminamos esta categoría son información relevante\n",
    "\n",
    "\n",
    "# Enlaces edades-lenguajes\n",
    "enlaces=list()\n",
    "for e in edades:\n",
    "    i1=df2[df2['Age'].str.contains(e)].index\n",
    "    for l in leng:\n",
    "        if l=='C++': l='C+' # el string 'C++' genera problemas con el método str.contains(), así que lo renombramos para la búsqueda\n",
    "        i2=df2[df2['LanguageHaveWorkedWith'].str.contains(l)].index\n",
    "        enlaces.append((e,l,np.intersect1d(i1,i2).shape[0]))\n",
    "\n",
    "enlaces=pd.DataFrame(enlaces,columns=['a1','a2','n'])\n",
    "\n",
    "\n",
    "import plotly.graph_objects as go\n",
    "\n",
    "# Seleccionar un top-N de lenguajes más trabajados\n",
    "top=enlaces[['a2','n']].groupby('a2').sum().sort_values(by='n',ascending=False).index[:10]\n",
    "e2=enlaces[enlaces['a2'].isin(top.tolist())]\n",
    "\n",
    "# Etiquetas\n",
    "labels=e2['a1'].unique().tolist()+ e2['a2'].unique().tolist()\n",
    "# Origen de los enlaces (índices a la lista de etiquetas)\n",
    "source=e2['a1'].apply(lambda x: labels.index(x)).tolist()\n",
    "# Destino de los enlaces (índices a la lista de etiquetas)\n",
    "target=e2['a2'].apply(lambda x: labels.index(x)).tolist()\n",
    "# Valores de cada enlace\n",
    "values=e2['n'].tolist()\n",
    "\n",
    "\n",
    "fig = px.sunburst(e2, path=['a1', 'a2'], values='n', )\n",
    "fig.show()"
   ]
  },
  {
   "cell_type": "code",
   "execution_count": null,
   "id": "7e8bb5a3",
   "metadata": {},
   "outputs": [],
   "source": []
  },
  {
   "cell_type": "code",
   "execution_count": null,
   "id": "0056dada",
   "metadata": {},
   "outputs": [],
   "source": []
  },
  {
   "cell_type": "code",
   "execution_count": null,
   "id": "3bce83e6",
   "metadata": {},
   "outputs": [],
   "source": []
  },
  {
   "cell_type": "code",
   "execution_count": null,
   "id": "898caecf",
   "metadata": {},
   "outputs": [],
   "source": []
  },
  {
   "cell_type": "code",
   "execution_count": null,
   "id": "386438d0",
   "metadata": {},
   "outputs": [],
   "source": []
  },
  {
   "cell_type": "code",
   "execution_count": 14,
   "id": "3ea9c3e0",
   "metadata": {},
   "outputs": [],
   "source": [
    "app = Dash(__name__)\n",
    "server = app.server #heroku\n",
    "app.layout = html.Div([\n",
    "\n",
    "    html.H1(\"Tipo de desarrollador\", style={'text-align': 'center'}), #cabecero h1. Header\n",
    "    \n",
    "    #primera mini prueba con un menu desplegable.\n",
    "    dcc.Dropdown(id=\"select_opt\",  \n",
    "                 options=[ #el usuario va a ver las label.\n",
    "                     {\"label\": \"2021\", \"value\": \"2021\"},\n",
    "                     {\"label\": \"2020\", \"value\": \"2020\"}],\n",
    "                 multi=False,\n",
    "                 value=\"2021\",\n",
    "                 style={'width': \"40%\"}\n",
    "                 ),\n",
    "\n",
    "    dcc.Graph(id='my_survey', figure={}) # graph container\n",
    "\n",
    "])"
   ]
  },
  {
   "cell_type": "code",
   "execution_count": 15,
   "id": "92f584ed",
   "metadata": {},
   "outputs": [],
   "source": [
    "@app.callback(\n",
    "    Output(component_id='my_survey', component_property='figure'),\n",
    "    Input(component_id='select_opt', component_property='value'))\n",
    "def update_graph(option_slctd):\n",
    "    #filtered_df = df[df.year == selected_year]\n",
    "    fig=make_subplots(specs=[[{\"secondary_y\":True}]])\n",
    "\n",
    "    fig.add_trace(go.Bar(x= df2020[\"s1st\"], y= df2020[\"Counts1st\"], name = \"first\"), secondary_y=True,)\n",
    "    fig.add_trace(go.Bar(x= df2020[\"s1st\"], y= df2020[\"CountPro\"], name = \"pro\"), secondary_y=True,)\n",
    "    \n",
    "    fig.update_xaxes(title_text=\"2020\")\n",
    "\n",
    "    \n",
    "    \n",
    "    \n",
    "    return fig"
   ]
  },
  {
   "cell_type": "code",
   "execution_count": 16,
   "id": "55040324",
   "metadata": {
    "scrolled": true
   },
   "outputs": [
    {
     "name": "stdout",
     "output_type": "stream",
     "text": [
      "Dash is running on http://127.0.0.1:8050/\n",
      "\n",
      "Dash is running on http://127.0.0.1:8050/\n",
      "\n",
      " * Serving Flask app \"__main__\" (lazy loading)\n",
      " * Environment: production\n",
      "\u001b[31m   WARNING: This is a development server. Do not use it in a production deployment.\u001b[0m\n",
      "\u001b[2m   Use a production WSGI server instead.\u001b[0m\n",
      " * Debug mode: on\n"
     ]
    }
   ],
   "source": [
    "app.run_server(debug=True, use_reloader=False)"
   ]
  },
  {
   "cell_type": "code",
   "execution_count": null,
   "id": "fc4ff91a",
   "metadata": {},
   "outputs": [],
   "source": [
    "learn=[]\n",
    "for l in df['LearnCode'].apply(lambda x: x.split(';')):\n",
    "    learn=np.unique(np.append(learn, l))\n",
    "learn"
   ]
  },
  {
   "cell_type": "raw",
   "id": "6595ae74",
   "metadata": {},
   "source": [
    "#filtered_df = df[df.year == selected_year]\n",
    "    cfg = [(\"x\", \"RangoEdad\"), (\"y\", \"count\")]\n",
    "    \n",
    "        fig = px.histogram(df3, **{ax: col for ax, col in cfg}, \n",
    "                           category_orders={'RangoEdad':[\"Younger than 5 years\", \n",
    "                            \"05 - 10 years\", \"11 - 17 years\", \"18 - 24 years\", \"25 - 34 years\", \"35 - 44 years\",\n",
    "                            \"45 - 54 years\", \"55 - 64 years\", \"Older than 64 years\"]},\n",
    "                          labels={\"count\":\"# Responses\", \"RangoEdad\":\"Age range\"})            \n",
    "        # 'ggplot2', 'seaborn', 'simple_white', 'plotly',\n",
    "                                  # 'plotly_white', 'plotly_dark', 'presentation',\n",
    "                                  # 'xgridoff', 'ygridoff', 'gridon', 'none')\n",
    "\n",
    "        # category_orders={'year':    \n",
    "                           # force a specific ordering of values per column\n",
    "    # [2013,2012,2011,2010,2009,2008,2007,2006,2005,2004,2003,2002,2001]},)\n",
    "    else: fig = px.histogram(df4, **{ax: col for ax, col in cfg})\n",
    "    \n",
    "    \n",
    "    \n",
    "    \n",
    "learn=[]\n",
    "for l in df['LearnCode'].apply(lambda x: x.split(';')):\n",
    "    learn=np.unique(np.append(learn, l))\n",
    "learn\n",
    "\n",
    "dfextra[\"Learn\"]=learn\n",
    "\n",
    "df2"
   ]
  }
 ],
 "metadata": {
  "kernelspec": {
   "display_name": "Python 3 (ipykernel)",
   "language": "python",
   "name": "python3"
  },
  "language_info": {
   "codemirror_mode": {
    "name": "ipython",
    "version": 3
   },
   "file_extension": ".py",
   "mimetype": "text/x-python",
   "name": "python",
   "nbconvert_exporter": "python",
   "pygments_lexer": "ipython3",
   "version": "3.9.7"
  }
 },
 "nbformat": 4,
 "nbformat_minor": 5
}

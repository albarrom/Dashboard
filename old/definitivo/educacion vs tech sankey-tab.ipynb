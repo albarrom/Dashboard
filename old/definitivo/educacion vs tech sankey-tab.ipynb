{
 "cells": [
  {
   "cell_type": "markdown",
   "id": "521584a5",
   "metadata": {
    "pycharm": {
     "name": "#%% md\n"
    }
   },
   "source": [
    "# Educacion vs TECHx5\n",
    "[sankey (go)](https://plotly.com/python/sankey-diagram/)\n",
    "\n",
    "## 1. importar las librerías + csv con los datos de la encuesta. "
   ]
  },
  {
   "cell_type": "code",
   "execution_count": 1,
   "id": "2f791c2a",
   "metadata": {
    "pycharm": {
     "name": "#%%\n"
    }
   },
   "outputs": [],
   "source": [
    "# importar librerias\n",
    "\n",
    "import pandas as pd\n",
    "import plotly.express as px  \n",
    "import plotly.graph_objects as go\n",
    "\n",
    "import webbrowser\n",
    "from threading import Timer\n",
    "import numpy as np\n",
    "import dash\n",
    "from dash import Dash, dcc, html, Input, Output, State\n",
    "import dash_bootstrap_components as dbc #bootstrap\n",
    "\n",
    "\n",
    "#crear un dataframe con toda la informacion de la encuesta\n",
    "#anyadido: path relativo\n",
    "df21 = pd.read_csv ('../../data/survey_results_public2021.csv', index_col = [0]) # El indice sera la columna con el ID de la respuesta\n",
    "#df21"
   ]
  },
  {
   "cell_type": "markdown",
   "id": "cbeb6be9",
   "metadata": {
    "pycharm": {
     "name": "#%% md\n"
    }
   },
   "source": [
    "## 2. Preprocesar datos.\n",
    "\n",
    "Tratar las columnas/conjunto de datos para comenzar a crear los gráficos."
   ]
  },
  {
   "cell_type": "code",
   "execution_count": 2,
   "id": "b0fff3a9",
   "metadata": {
    "pycharm": {
     "name": "#%%\n"
    }
   },
   "outputs": [],
   "source": [
    "def edTech (df3,col):\n",
    "\n",
    "    # copiamos elementos que no sean NaN\n",
    "    df=df3[['EdLevel', col]].dropna().copy() \n",
    "    \n",
    "    #eliminar info irrelevante\n",
    "    df.drop(df[df.EdLevel == 'Something else'].index, inplace = True) \n",
    "\n",
    "    df2 = (df.explode(df.columns.tolist())\n",
    "      .apply(lambda col: col.str.split(';')) \n",
    "      .explode('EdLevel')\n",
    "      .explode(col))\n",
    "\n",
    "\n",
    "    df4= (pd.crosstab(df2['EdLevel'], df2[col])\n",
    "       .melt(value_name='count', ignore_index=False)\n",
    "       .reset_index())\n",
    "    \n",
    "    #eliminar parentesis en educacion\n",
    "    df4['EdLevel'] = df4['EdLevel'].str.replace(r\"\\(.*?\\)\", \"\", regex=True) \n",
    "    \n",
    "    # Seleccionar solo un top 5 de tecnologias (lenguajes, bases de datos...)\n",
    "    top=df4[[col,'count']].groupby(col).sum().sort_values(by='count',ascending=False).index[:5]\n",
    "    return df4[df4[col].isin(top.tolist())]\n",
    "\n"
   ]
  },
  {
   "cell_type": "code",
   "execution_count": 3,
   "id": "b59eb8f0",
   "metadata": {
    "pycharm": {
     "name": "#%%\n"
    }
   },
   "outputs": [],
   "source": [
    "def etiquetas (df, col):\n",
    "\n",
    "    edLabels = list(df.EdLevel.unique())\n",
    "    colLabels = list(df[col].unique())\n",
    "\n",
    "    labels = edLabels + colLabels\n",
    "\n",
    "    return labels"
   ]
  },
  {
   "cell_type": "markdown",
   "id": "972c8dd3",
   "metadata": {
    "pycharm": {
     "name": "#%% md\n"
    }
   },
   "source": [
    "## Layout + callback"
   ]
  },
  {
   "cell_type": "code",
   "execution_count": 4,
   "id": "bc0ade91",
   "metadata": {
    "pycharm": {
     "name": "#%%\n"
    }
   },
   "outputs": [],
   "source": [
    "app = dash.Dash(__name__, external_stylesheets=[dbc.themes.BOOTSTRAP],\n",
    "                meta_tags=[{'name': 'viewport', #permite ser responsive en movil\n",
    "                            'content': 'width=device-width, initial-scale=1.0, maximum-scale=1.2, minimum-scale=0.5,'}]\n",
    "                )\n",
    "app.layout = html.Div([\n",
    "    \n",
    "    dbc.Row([\n",
    "            dbc.Tabs([\n",
    "                dbc.Tab(label='Databases', tab_id='db2',labelClassName=\"text-primary font-weight-bold\", activeLabelClassName=\"text-info\"),\n",
    "                dbc.Tab(label='Languages', tab_id='lang2', labelClassName=\"text-primary font-weight-bold\", activeLabelClassName=\"text-info\"), \n",
    "                dbc.Tab(label='Platform', tab_id='plat2', labelClassName=\"text-primary font-weight-bold\", activeLabelClassName=\"text-info\"), \n",
    "                dbc.Tab(label='webframe', tab_id='web2', labelClassName=\"text-primary font-weight-bold\", activeLabelClassName=\"text-info\"), \n",
    "                dbc.Tab(label='Miscelaneous', tab_id='misc2', labelClassName=\"text-primary font-weight-bold\", activeLabelClassName=\"text-info\"), \n",
    "                dbc.Tab(label='Tools', tab_id='tools2', labelClassName=\"text-primary font-weight-bold\", activeLabelClassName=\"text-info\"), \n",
    "                dbc.Tab(label='Collab', tab_id='colab2', labelClassName=\"text-primary font-weight-bold\", activeLabelClassName=\"text-info\"),\n",
    "                ],\n",
    "                id=\"sankey\",\n",
    "                active_tab=\"db2\",\n",
    "            ),\n",
    "        dbc.CardBody(html.P(id=\"tabu-content\", className=\"card-text\")),\n",
    "    ]\n",
    ")\n",
    "])\n",
    "\n",
    "\n",
    "\n",
    "#tabs\n",
    "\n",
    "@app.callback(\n",
    "    Output(\"tabu-content\", \"children\"), \n",
    "    Input(\"sankey\", \"active_tab\"))\n",
    "    \n",
    "def tab_content(active_tab):\n",
    "    \n",
    "    nameColumns= ['DatabaseHaveWorkedWith','LanguageHaveWorkedWith', 'PlatformHaveWorkedWith',  \n",
    "                  'WebframeHaveWorkedWith', 'MiscTechHaveWorkedWith', 'ToolsTechHaveWorkedWith', \n",
    "                  'NEWCollabToolsHaveWorkedWith']\n",
    "\n",
    "    name = [\"Databases\", \"Languages\", \"Platforms\", \"Webframes\", \"Miscelaneous Tech\", \"Tools\", \"Collab tools\"]\n",
    "    orden = 0 \n",
    "\n",
    "    if active_tab is not None: #para evitar un error hay que añadir un caso donde active_tab sste vacio\n",
    "        if active_tab ==\"db2\":\n",
    "            orden = 0 # posicion en nameClumns y name\n",
    "           \n",
    "        elif active_tab == \"lang2\":\n",
    "            orden = 1\n",
    "            \n",
    "        elif active_tab == \"plat2\":\n",
    "            orden = 2\n",
    "            \n",
    "        elif active_tab == \"web2\":\n",
    "            orden = 3\n",
    "            \n",
    "        elif active_tab == \"misc2\":\n",
    "            orden = 4\n",
    "            \n",
    "        elif active_tab == \"tools2\":\n",
    "            orden = 5\n",
    "            \n",
    "        elif active_tab == \"colab2\":\n",
    "            orden = 6\n",
    "        \n",
    "        #fin elif\n",
    "        \n",
    "        df = edTech(df21,nameColumns[orden])\n",
    "\n",
    "        #etiquetas\n",
    "        labels = etiquetas (df, nameColumns[orden])\n",
    "        # Origen de los enlaces (índices a la lista de etiquetas)\n",
    "        source=df['EdLevel'].apply(lambda x: labels.index(x)).tolist()\n",
    "        # Destino de los enlaces (índices a la lista de etiquetas)\n",
    "        target=df[nameColumns[orden]].apply(lambda x: labels.index(x)).tolist()\n",
    "\n",
    "        fig = go.Figure(data=[go.Sankey(node = dict(pad = 15, thickness = 20,\n",
    "                                                    line = dict(color = \"black\", width = 0.5),\n",
    "                                                    label = labels,\n",
    "                                                   ),\n",
    "                                        link = dict(\n",
    "                                            source = source, \n",
    "                                            target = target,\n",
    "                                            value = df['count'] \n",
    "                                              ))])\n",
    "        fig.update_layout(title_text=\"Education level and top 5 of most used \"+name[orden], font_size=12)\n",
    "        return dcc.Graph(figure=fig, style={'height': '90vh'}) \n",
    "        \n",
    "        \n",
    "    return html.P(\"This shouldn't ever be displayed...\")"
   ]
  },
  {
   "cell_type": "markdown",
   "id": "8d8d58dd",
   "metadata": {
    "pycharm": {
     "name": "#%% md\n"
    }
   },
   "source": [
    "## 4. run"
   ]
  },
  {
   "cell_type": "code",
   "execution_count": null,
   "id": "85e4bc8e",
   "metadata": {
    "pycharm": {
     "name": "#%%\n"
    }
   },
   "outputs": [
    {
     "name": "stdout",
     "output_type": "stream",
     "text": [
      "Dash is running on http://127.0.0.1:8050/\n",
      "\n",
      " * Serving Flask app \"__main__\" (lazy loading)\n",
      " * Environment: production\n",
      "\u001b[31m   WARNING: This is a development server. Do not use it in a production deployment.\u001b[0m\n",
      "\u001b[2m   Use a production WSGI server instead.\u001b[0m\n",
      " * Debug mode: on\n"
     ]
    }
   ],
   "source": [
    "app.run_server(debug=True, use_reloader=False)"
   ]
  },
  {
   "cell_type": "code",
   "execution_count": null,
   "id": "f0673f9d",
   "metadata": {
    "pycharm": {
     "name": "#%%\n"
    }
   },
   "outputs": [],
   "source": []
  },
  {
   "cell_type": "code",
   "execution_count": null,
   "id": "1894aa6c",
   "metadata": {
    "pycharm": {
     "name": "#%%\n"
    }
   },
   "outputs": [],
   "source": []
  },
  {
   "cell_type": "code",
   "execution_count": null,
   "id": "85fb40dc",
   "metadata": {
    "pycharm": {
     "name": "#%%\n"
    }
   },
   "outputs": [],
   "source": []
  }
 ],
 "metadata": {
  "kernelspec": {
   "display_name": "Python 3 (ipykernel)",
   "language": "python",
   "name": "python3"
  },
  "language_info": {
   "codemirror_mode": {
    "name": "ipython",
    "version": 3
   },
   "file_extension": ".py",
   "mimetype": "text/x-python",
   "name": "python",
   "nbconvert_exporter": "python",
   "pygments_lexer": "ipython3",
   "version": "3.9.7"
  }
 },
 "nbformat": 4,
 "nbformat_minor": 5
}

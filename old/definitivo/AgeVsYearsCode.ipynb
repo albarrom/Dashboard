{
 "cells": [
  {
   "cell_type": "markdown",
   "id": "a8f102ce",
   "metadata": {
    "pycharm": {
     "name": "#%% md\n"
    }
   },
   "source": [
    "# Age Vs Years of Code / pro. \n",
    "\n",
    "[Double stacked diagram](https://plotly.com/python/bar-charts/)"
   ]
  },
  {
   "cell_type": "markdown",
   "id": "20625c7d",
   "metadata": {
    "pycharm": {
     "name": "#%% md\n"
    }
   },
   "source": [
    "# Importar librerias"
   ]
  },
  {
   "cell_type": "code",
   "execution_count": 1,
   "id": "464c5352",
   "metadata": {
    "pycharm": {
     "name": "#%%\n"
    }
   },
   "outputs": [],
   "source": [
    "import pandas as pd\n",
    "import plotly.express as px\n",
    "\n",
    "import dash\n",
    "from dash import Dash, dcc, html, Input, Output, State\n",
    "import dash_bootstrap_components as dbc #bootstrap\n",
    "\n",
    "\n",
    "#crear un dataframe con toda la informacion de la encuesta\n",
    "df21 = pd.read_csv('../../data/survey_results_public2021.csv', index_col = [0]) # El indice sera la columna con el ID de la respuesta\n",
    "\n",
    "#crear un dataframe con toda la informacion de la encuesta\n",
    "df20 = pd.read_csv ('../../data/survey_results_public2020.csv', index_col = [0]) # El indice sera la columna con el ID de la respuesta\n",
    "\n",
    "#pd.set_option(\"display.max_rows\", None) #permite ver el output completo de la celda\n"
   ]
  },
  {
   "cell_type": "markdown",
   "id": "8b6abc52",
   "metadata": {
    "pycharm": {
     "name": "#%% md\n"
    }
   },
   "source": [
    "# procesar datos. "
   ]
  },
  {
   "cell_type": "code",
   "execution_count": 2,
   "id": "7cc3145e",
   "metadata": {
    "pycharm": {
     "name": "#%%\n"
    }
   },
   "outputs": [],
   "source": [
    "def ageCodePro (df):\n",
    "    \n",
    "    df1=df[['Age','YearsCode','YearsCodePro']].dropna().copy()\n",
    "\n",
    "    #eliminar valores que no aportan informacion\n",
    "    df1.drop(df1[df1['YearsCode'].isin([\"Less than 1 year\", \"More than 50 years\"])].index, inplace=True) \n",
    "    df1.drop(df1[df1['YearsCodePro'].isin([\"Less than 1 year\", \"More than 50 years\"])].index, inplace=True) \n",
    "    df1.drop(df1[df1['Age'].isin([\"Prefer not to say\"])].index, inplace=True) \n",
    "\n",
    "    #convertir columnas a entero\n",
    "    df1['YearsCode'] = pd.to_numeric(df1['YearsCode'])\n",
    "    df1['YearsCodePro'] = pd.to_numeric(df1['YearsCodePro'])\n",
    "    \n",
    "    if df1.dtypes['Age'] == 'float64': #si es el dataframe del anyo 2020, se lidiara con rangos:\n",
    "        # etiquetas para la nueva columna\n",
    "        labels = [\"Under 18 years old\", \"18 - 24 years\", \"25 - 34 years\",\n",
    "                   \"35 - 44 years\", \"45 - 54 years\", \"55 - 64 years\", \"65 - 74 years\", \n",
    "                  \"75 - 84 years\", \"Older than 84 years\"]\n",
    "        # divisiones de rango\n",
    "        bins = [10, 17, 24, 34, 44, 54, 64, 74, 84, 100] \n",
    "        \n",
    "        #eliminar valores de edad extremos.\n",
    "        df1.drop(df1[(df1.Age < 10.0) | (df1.Age > 100.0)].index, inplace=True)\n",
    "        \n",
    "        # sobreescribir valores de columna usando las etiquetas\n",
    "        df1['Age'] = pd.cut(df1['Age'], bins= bins, labels=labels)\n",
    "\n",
    "        #agrupar por edad\n",
    "    df2 = df1.groupby('Age', as_index = False).agg(median_code=('YearsCode', 'median'), \n",
    "                     median_pro=('YearsCodePro','median'), #nueva columna que calculara la medina de yearscodepro\n",
    "                     # contar el numero de respuestas por edad                                                                                 \n",
    "                     respuestas=('Age','count')) \n",
    "\n",
    "    return df2"
   ]
  },
  {
   "cell_type": "code",
   "execution_count": 3,
   "id": "d179d075",
   "metadata": {
    "pycharm": {
     "name": "#%%\n"
    }
   },
   "outputs": [],
   "source": [
    "# ageCodePro (df20) #ver el estado del df tras la funcion"
   ]
  },
  {
   "cell_type": "markdown",
   "id": "96d86bbb",
   "metadata": {
    "pycharm": {
     "name": "#%% md\n"
    }
   },
   "source": [
    "# Layout "
   ]
  },
  {
   "cell_type": "code",
   "execution_count": 4,
   "id": "3ea9c3e0",
   "metadata": {
    "pycharm": {
     "name": "#%%\n"
    }
   },
   "outputs": [],
   "source": [
    "app = dash.Dash(__name__, external_stylesheets=[dbc.themes.BOOTSTRAP],\n",
    "                meta_tags=[{'name': 'viewport', #permite ser responsive en movil\n",
    "                            'content': 'width=device-width, initial-scale=1.0, maximum-scale=1.2, minimum-scale=0.5,'}]\n",
    "                )\n",
    "\n",
    "app.layout = html.Div([\n",
    "\n",
    "    dbc.Row([\n",
    "            dbc.Col([\n",
    "\n",
    "                html.H2('Double bar diagram'), \n",
    "                html.P('Comparison of different periods of development.'),\n",
    "                dbc.Row([ # \n",
    "                    dbc.Col([\n",
    "                        dbc.RadioItems( # dos botones con el anyo\n",
    "                                id=\"opt1\",\n",
    "                                className=\"btn-group ml-auto\",\n",
    "                                inputClassName=\"btn-check\",\n",
    "                                labelClassName=\"btn btn-outline-primary\",\n",
    "                                labelCheckedClassName=\"active\",\n",
    "                                options=[\n",
    "                                    {\"label\": \"2021\", \"value\": 2021},\n",
    "                                    {\"label\": \"2020\", \"value\": 2020}\n",
    "                                ],\n",
    "                                value=2021,\n",
    "                            ),\n",
    "                    ]#, xs=5, sm=6, md=7, lg=8, xl=10\n",
    "                    ) \n",
    "                ]),\n",
    "                \n",
    "                dcc.Graph(id='primero', figure={}, style={'height': '80vh'}),\n",
    "            ]#, xs=5, sm=6, md=7, lg=8, xl=10\n",
    "            )\n",
    "\n",
    "\n",
    "        ], justify=\"center\" \n",
    "        ), \n",
    "\n",
    "])\n"
   ]
  },
  {
   "cell_type": "markdown",
   "id": "254c5b20",
   "metadata": {
    "pycharm": {
     "name": "#%% md\n"
    }
   },
   "source": [
    "# Callback. "
   ]
  },
  {
   "cell_type": "code",
   "execution_count": 5,
   "id": "92f584ed",
   "metadata": {
    "pycharm": {
     "name": "#%%\n"
    }
   },
   "outputs": [],
   "source": [
    "@app.callback(\n",
    "    Output(component_id='primero', component_property='figure'),\n",
    "    Input(component_id='opt1', component_property='value'))\n",
    "def update_graph(opt1):\n",
    "\n",
    "    df = pd.DataFrame()\n",
    "    \n",
    "    if (opt1 == 2020):\n",
    "        df = ageCodePro(df20)\n",
    "    else:\n",
    "        df = ageCodePro(df21)\n",
    "        \n",
    "    fig = px.bar(df, y=\"Age\", x= [\"median_pro\", \"median_code\"],\n",
    "             orientation = \"h\", barmode = 'group',\n",
    "              text_auto= True)\n",
    "        \n",
    "    #poner el numero de la barra fuera de la barra y en posicion horizontal.\n",
    "    fig.update_traces(textfont_size=12, textangle=0, textposition=\"outside\", cliponaxis=False)\n",
    "    fig['layout']['yaxis']['autorange'] = \"reversed\" #valores en orden descendente\n",
    "    \n",
    "    #renombrar ejes\n",
    "    fig.update_xaxes(title_text=\"# Years\")\n",
    "    fig.update_yaxes(title_text=\"Age\")\n",
    "    fig.update_layout(title_text=\"Age Vs total of years development\")\n",
    "    \n",
    "    #quitar color y grid del grafico\n",
    "    fig.update_layout({'plot_bgcolor': 'rgba(0, 0, 0, 0)','paper_bgcolor': 'rgba(0, 0, 0, 0)',}) #fondo transparente\n",
    "    fig.update_layout(xaxis=dict(showgrid=False), yaxis=dict(showgrid=False)) #eliminar grid\n",
    "   \n",
    "\n",
    "    return fig\n",
    "#fin callback diagrama de barras dobles. "
   ]
  },
  {
   "cell_type": "markdown",
   "id": "d7a2e36d",
   "metadata": {
    "pycharm": {
     "name": "#%% md\n"
    }
   },
   "source": [
    "# run"
   ]
  },
  {
   "cell_type": "code",
   "execution_count": null,
   "id": "55040324",
   "metadata": {
    "pycharm": {
     "name": "#%%\n"
    },
    "scrolled": true
   },
   "outputs": [
    {
     "name": "stdout",
     "output_type": "stream",
     "text": [
      "Dash is running on http://127.0.0.1:8050/\n",
      "\n",
      " * Serving Flask app \"__main__\" (lazy loading)\n",
      " * Environment: production\n",
      "\u001b[31m   WARNING: This is a development server. Do not use it in a production deployment.\u001b[0m\n",
      "\u001b[2m   Use a production WSGI server instead.\u001b[0m\n",
      " * Debug mode: on\n"
     ]
    }
   ],
   "source": [
    "app.run_server(debug=True, use_reloader=False)"
   ]
  },
  {
   "cell_type": "code",
   "execution_count": null,
   "id": "12b0c397",
   "metadata": {
    "pycharm": {
     "name": "#%%\n"
    }
   },
   "outputs": [],
   "source": []
  },
  {
   "cell_type": "code",
   "execution_count": null,
   "id": "1579e33d",
   "metadata": {
    "pycharm": {
     "name": "#%%\n"
    }
   },
   "outputs": [],
   "source": []
  }
 ],
 "metadata": {
  "kernelspec": {
   "display_name": "Python 3 (ipykernel)",
   "language": "python",
   "name": "python3"
  },
  "language_info": {
   "codemirror_mode": {
    "name": "ipython",
    "version": 3
   },
   "file_extension": ".py",
   "mimetype": "text/x-python",
   "name": "python",
   "nbconvert_exporter": "python",
   "pygments_lexer": "ipython3",
   "version": "3.9.7"
  }
 },
 "nbformat": 4,
 "nbformat_minor": 5
}

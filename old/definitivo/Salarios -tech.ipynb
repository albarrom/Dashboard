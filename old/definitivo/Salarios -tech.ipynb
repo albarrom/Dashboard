{
 "cells": [
  {
   "cell_type": "markdown",
   "id": "521584a5",
   "metadata": {},
   "source": [
    "# Salarios - leng\n",
    "[statter](https://plotly.com/python/line-and-scatter/)"
   ]
  },
  {
   "cell_type": "code",
   "execution_count": 1,
   "id": "7589c667",
   "metadata": {},
   "outputs": [],
   "source": [
    "import pandas as pd\n",
    "import plotly.express as px  \n",
    "from dash import Dash, dcc, html, Input, Output\n",
    "import numpy as np\n",
    "import PyCurrency_Converter\n",
    "\n",
    "#crear un dataframe con toda la informacion de la encuesta\n",
    "df21 = pd.read_csv ('../data/survey_results_public2021.csv', index_col = [0]) \n",
    "df20 = pd.read_csv ('../data/survey_results_public2020.csv', index_col = [0]) \n",
    "\n",
    "\n",
    "# El indice sera la columna con el ID de la respuesta\n"
   ]
  },
  {
   "cell_type": "markdown",
   "id": "cbeb6be9",
   "metadata": {},
   "source": [
    "## 1. Preprocesar datos.\n",
    "Se van a juntar los dos graficos de salarios en la misma funcion que preprocesa datos. Se reescribira la funcion del notebook salarios. "
   ]
  },
  {
   "cell_type": "code",
   "execution_count": 2,
   "id": "95c48d6a",
   "metadata": {},
   "outputs": [],
   "source": [
    "def salario (df,anyo, opt):\n",
    "    \n",
    "    col = \"\"\n",
    "    \n",
    "    if opt == 0: col = \"DevType\"\n",
    "    elif (opt == 1 and anyo==20): col = \"LanguageWorkedWith\"\n",
    "    elif (opt == 1 and anyo==21): col = \"LanguageHaveWorkedWith\"\n",
    "    \n",
    "    \n",
    "    if (anyo == 20): \n",
    "        #copia de df y se eliminan todas las columnas que tengan nan: Solo se seleccionan filas completas y se descartan las demas\n",
    "        df4=df[[col,'ConvertedComp', 'YearsCodePro','Age1stCode']].dropna().copy()\n",
    "         #para ponder usar el mismo callback en ambas opciones, hay que renombrar las columnas\n",
    "        df4.rename(columns = {'ConvertedComp':'ConvertedCompYearly'}, inplace = True)\n",
    "        df4.rename(columns = {'LanguageWorkedWith':'LanguageHaveWorkedWith'}, inplace = True)\n",
    "        if (opt == 1): col = \"LanguageHaveWorkedWith\" #renombrar la variable col tambien.\n",
    "        \n",
    "    \n",
    "    elif (anyo == 21): #Age1stCode en el df del 2021 son string en lugar de enteros.\n",
    "         #copia de df y se eliminan todas las columnas que tengan nan: Solo se seleccionan filas completas y se descartan las demas\n",
    "        df4=df[[col,'ConvertedCompYearly', 'YearsCodePro','Age1stCode']].dropna().copy()\n",
    "        \n",
    "        #crear diccionario con los cambios de valores\n",
    "        edadesTransformadas = {\"Younger than 5 years\" : 4, \"5 - 10 years\" : 7, \"11 - 17 years\": 18, \"18 - 24 years\" : 21,\n",
    "        \"25 - 34 years\" : 30, \"35 - 44 years\" : 40, \"45 - 54 years\": 50, \"55 - 64 years\" : 60, \n",
    "        \"Older than 64 years\": 70}\n",
    "        \n",
    "        #cambiar los valores.\n",
    "        df4=df4.replace({\"Age1stCode\": edadesTransformadas})\n",
    "        \n",
    "    \n",
    "    #resto es igual para ambos df y opciones\n",
    "    \n",
    "    # eliminar filas en anyos que tengan texto. \n",
    "    df4.drop(df4[df4['YearsCodePro'] == \"Less than 1 year\"].index, inplace = True) \n",
    "    df4.drop(df4[df4['YearsCodePro'] == \"More than 50 years\"].index, inplace = True)\n",
    "    \n",
    "    df4.drop(df4[df4['Age1stCode'] == \"Younger than 5 years\"].index, inplace = True) \n",
    "    df4.drop(df4[df4['Age1stCode'] == \"Older than 85\"].index, inplace = True)\n",
    "    \n",
    "    #convertir columnas a entero\n",
    "    df4[\"Age1stCode\"] = pd.to_numeric(df4[\"Age1stCode\"])\n",
    "    df4[\"YearsCodePro\"] = pd.to_numeric(df4[\"YearsCodePro\"])\n",
    "    \n",
    "    #separar filas con mas de un devtype y despues agruparlas\n",
    "    # df.assign(**kargs) -> https://pandas.pydata.org/docs/reference/api/pandas.DataFrame.assign.html\n",
    "    df4=df4.assign(**{col:df4[col].str.split(';')}).explode(col).groupby(col).agg(avg_pro=('YearsCodePro', 'mean'), #nueva columna que calculara la media de yearscodepro\n",
    "             avg_age=('Age1stCode','mean'), \n",
    "             median_money=('ConvertedCompYearly','median'), #nueva columna con mediana del salario\n",
    "             # contar los diferentes tipos de devtype                                                                                    \n",
    "             respuestas=(col,'count')).reset_index() #reiniciar el indice\n",
    "    \n",
    "    return df4"
   ]
  },
  {
   "cell_type": "code",
   "execution_count": 3,
   "id": "d6a62a70",
   "metadata": {},
   "outputs": [],
   "source": [
    "# salario (df20,20, 0)"
   ]
  },
  {
   "cell_type": "markdown",
   "id": "972c8dd3",
   "metadata": {},
   "source": [
    "## 2. Layout. \n"
   ]
  },
  {
   "cell_type": "code",
   "execution_count": 4,
   "id": "b1eb80ee",
   "metadata": {},
   "outputs": [],
   "source": [
    "app = Dash(__name__)\n",
    "server = app.server #heroku\n",
    "app.layout = html.Div([\n",
    "\n",
    "    html.H1(\"Tipo de desarrollador\", style={'text-align': 'center'}), #cabecero h1. Header\n",
    "    \n",
    "    #primera mini prueba con un menu desplegable.\n",
    "    dcc.Dropdown(id=\"opt4\",  \n",
    "                 options=[ #el usuario va a ver las label.\n",
    "                     {\"label\": \"2020\", \"value\": 2020},\n",
    "                     {\"label\": \"2021\", \"value\": 2021}],\n",
    "                 multi=False,\n",
    "                 value=2020,\n",
    "                 style={'width': \"40%\"}\n",
    "                 ),\n",
    "    \n",
    "    html.Button('Button 1', id='hide-show', n_clicks=0),\n",
    "\n",
    "    dcc.Graph(id='my_survey', figure={}) # graph container\n",
    "\n",
    "])"
   ]
  },
  {
   "cell_type": "markdown",
   "id": "a0ace73c",
   "metadata": {},
   "source": [
    "# 3. Output que genera el grafico. \n",
    "\n",
    "En este caso, un [scatter](https://plotly.com/python/line-and-scatter/).\n",
    "\n",
    "Cambiar \"LanguageHaveWorkedWith\" por Devtype en otro callback para generar el otro grafico. "
   ]
  },
  {
   "cell_type": "code",
   "execution_count": 5,
   "id": "30d68faa",
   "metadata": {},
   "outputs": [],
   "source": [
    "@app.callback(\n",
    "    [Output(component_id='my_survey', component_property='figure'),\n",
    "    Output('hide-show', 'children')],\n",
    "    [Input(component_id='opt4', component_property='value'),\n",
    "    Input(component_id='hide-show', component_property='n_clicks')])\n",
    "def update_graph(opt4, n_clicks): #se pasan los dos input.\n",
    "    \n",
    "    df = pd.DataFrame()\n",
    "\n",
    "    if (opt4 == 2020): \n",
    "        df= df20 \n",
    "        anyo = 20\n",
    "    else: \n",
    "        df = df21 \n",
    "        anyo = 21\n",
    "\n",
    "    fig =  px.scatter(salario (df,anyo,1), x= \"avg_pro\", y= \"avg_age\", size=\"respuestas\", \n",
    "                      color=\"LanguageHaveWorkedWith\",  hover_name=\"LanguageHaveWorkedWith\", \n",
    "                      text = \"LanguageHaveWorkedWith\", hover_data=[\"median_money\"],\n",
    "                      labels={'avg_pro':'Years Coding Profesionaly (average)',\n",
    "                              'avg_age':'Years since start coding (average)',\n",
    "                              'respuestas':'# responses','median_money':'Median salary ($)', \n",
    "                              'LanguageHaveWorkedWith':'Language'},\n",
    "                     color_discrete_sequence=px.colors.qualitative.Pastel,)\n",
    "    \n",
    "    fig.update_traces(textposition='top center') # texto que va encima de los puntitos\n",
    "\n",
    "    #quitar color y grid del grafico\n",
    "    fig.update_layout({'plot_bgcolor': 'rgba(0, 0, 0, 0)','paper_bgcolor': 'rgba(0, 0, 0, 0)',}) #fondo transparente\n",
    "    \n",
    "    \n",
    "    bool_disabled = n_clicks % 2\n",
    "    if bool_disabled:\n",
    "        return fig, \"Hide Leyend\" # se devuelven los dos output\n",
    "    else:\n",
    "        fig.update_layout(showlegend=False)\n",
    "        return fig, \"Show Leyend\""
   ]
  },
  {
   "cell_type": "markdown",
   "id": "8d8d58dd",
   "metadata": {},
   "source": [
    "## 4. run server"
   ]
  },
  {
   "cell_type": "code",
   "execution_count": null,
   "id": "85e4bc8e",
   "metadata": {},
   "outputs": [
    {
     "name": "stdout",
     "output_type": "stream",
     "text": [
      "Dash is running on http://127.0.0.1:8050/\n",
      "\n",
      " * Serving Flask app \"__main__\" (lazy loading)\n",
      " * Environment: production\n",
      "\u001b[31m   WARNING: This is a development server. Do not use it in a production deployment.\u001b[0m\n",
      "\u001b[2m   Use a production WSGI server instead.\u001b[0m\n",
      " * Debug mode: on\n"
     ]
    }
   ],
   "source": [
    "app.run_server(debug=True, use_reloader=False)"
   ]
  },
  {
   "cell_type": "code",
   "execution_count": null,
   "id": "4f06ff61",
   "metadata": {},
   "outputs": [],
   "source": []
  }
 ],
 "metadata": {
  "kernelspec": {
   "display_name": "Python 3 (ipykernel)",
   "language": "python",
   "name": "python3"
  },
  "language_info": {
   "codemirror_mode": {
    "name": "ipython",
    "version": 3
   },
   "file_extension": ".py",
   "mimetype": "text/x-python",
   "name": "python",
   "nbconvert_exporter": "python",
   "pygments_lexer": "ipython3",
   "version": "3.9.7"
  }
 },
 "nbformat": 4,
 "nbformat_minor": 5
}

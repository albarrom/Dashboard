{
 "cells": [
  {
   "cell_type": "markdown",
   "id": "a8f102ce",
   "metadata": {
    "pycharm": {
     "name": "#%% md\n"
    }
   },
   "source": [
    "# 4 mini graficos. Age1stCode, LearnCode, Stuck y Ed Learn"
   ]
  },
  {
   "cell_type": "code",
   "execution_count": 1,
   "id": "464c5352",
   "metadata": {
    "pycharm": {
     "name": "#%%\n"
    }
   },
   "outputs": [],
   "source": [
    "import pandas as pd\n",
    "\n",
    "import plotly.express as px\n",
    "\n",
    "import dash\n",
    "from dash import Dash, dcc, html, Input, Output, State\n",
    "import dash_bootstrap_components as dbc #bootstrap\n",
    "\n",
    "\n",
    "#crear un dataframe con toda la informacion de la encuesta\n",
    "df21 = pd.read_csv('../../data/survey_results_public2021.csv', engine=\"c\",\n",
    "                  usecols= [\"MainBranch\",\"Country\",\"US_State\",\"EdLevel\", \"Age\", \"Employment\",\n",
    "                   \"Age1stCode\",\"LearnCode\",\"YearsCode\",\"YearsCodePro\",\"DevType\",\"OpSys\",\"NEWStuck\",\n",
    "               \"ConvertedCompYearly\", \"LanguageHaveWorkedWith\", \"LanguageWantToWorkWith\",\"DatabaseHaveWorkedWith\",\n",
    "               \"DatabaseWantToWorkWith\", \"PlatformHaveWorkedWith\",\"PlatformWantToWorkWith\",\n",
    "               \"WebframeHaveWorkedWith\", \"WebframeWantToWorkWith\",\"MiscTechHaveWorkedWith\",\n",
    "               \"MiscTechWantToWorkWith\", \"ToolsTechHaveWorkedWith\",\"ToolsTechWantToWorkWith\",\n",
    "               'NEWCollabToolsHaveWorkedWith', 'NEWCollabToolsWantToWorkWith', \"ConvertedCompYearly\"]) # El indice sera la columna con el ID de la respuesta\n",
    "\n",
    "#pd.set_option(\"display.max_rows\", None) #permite ver el output completo de la celda\n"
   ]
  },
  {
   "cell_type": "code",
   "execution_count": 2,
   "id": "1ee6e1e2",
   "metadata": {
    "pycharm": {
     "name": "#%%\n"
    }
   },
   "outputs": [],
   "source": [
    "def graficosRespuesta(df, col):\n",
    "\n",
    "    df=df21[[col]].dropna().copy() #copia df\n",
    "\n",
    "    df2 = (df.explode(df.columns.tolist())\n",
    "           .apply(lambda col: col.str.split(';')) \n",
    "           .explode(col).groupby(col)\n",
    "           .agg(responses=(col,'count')) \n",
    "           .reset_index())\n",
    "    \n",
    "    #eliminar todos los valores que contengan el string \"please\"\n",
    "    # ej: Other (please specify)\n",
    "    df2 = df2[~df2[col].str.contains(\"please\")] \n",
    "    df2 = df2[~df2[col].str.contains(\"not to say\")] \n",
    "    df2 = df2[~df2[col].str.contains(\"else\")] \n",
    "    \n",
    "    #eliminar la info dentro de parentesis \n",
    "    df2[col] = df2[col].str.replace(r\"\\(.*?\\)\", \"\", regex=True) \n",
    "    \n",
    "    #ordenar de mas a menos respuestas\n",
    "    df2.sort_values([\"responses\"], ascending=True, inplace = True)\n",
    "\n",
    "    \n",
    "\n",
    "    return df2"
   ]
  },
  {
   "cell_type": "markdown",
   "id": "679628d4",
   "metadata": {
    "pycharm": {
     "name": "#%% md\n"
    }
   },
   "source": [
    "# 2. Layout\n",
    "\n",
    "Si no se va a añadir ningun elemento interactivo (ej dropdown o botones) se puede anyadir el gráfico directamente en el layout sin usar callbacks"
   ]
  },
  {
   "cell_type": "code",
   "execution_count": 3,
   "id": "3ea9c3e0",
   "metadata": {
    "pycharm": {
     "name": "#%%\n"
    }
   },
   "outputs": [],
   "source": [
    "app = dash.Dash(__name__, external_stylesheets=[dbc.themes.BOOTSTRAP],\n",
    "                meta_tags=[{'name': 'viewport', #permite ser responsive en movil\n",
    "                            'content': 'width=device-width, initial-scale=1.0, maximum-scale=1.2, minimum-scale=0.5,'}]\n",
    "                )\n",
    "\n",
    "app.layout = html.Div([\n",
    "    \n",
    "    dbc.Row([ #dropdown para el primer grafico\n",
    "            dbc.Col([dcc.Loading([ \n",
    "                dcc.Graph(id = 'stuck', figure = px.pie(graficosRespuesta(df21, \"NEWStuck\"), \n",
    "                                                        values='responses', names=\"NEWStuck\",\n",
    "                                                       title = \"What do you do when you get stuck?\",\n",
    "                                                       color_discrete_sequence = px.colors.qualitative.Safe,\n",
    "                                                       labels={\"NEWStuck\": \"Resource\", \"responses\": \"# Responses\"})\n",
    "                         ), #stuck\n",
    "                ]), #spinner\n",
    "            ]),#col\n",
    "            dbc.Col([ dcc.Loading([ #spinner\n",
    "                dcc.Graph(id = 'LearnCode', figure =  px.pie(graficosRespuesta(df21, \"LearnCode\"), \n",
    "                                                              values='responses', names=\"LearnCode\",\n",
    "                                                             title = \"Learning how to code\",\n",
    "                                                             color_discrete_sequence = px.colors.qualitative.Safe,\n",
    "                                                             labels={\"LearnCode\": \"Resource\", \"responses\": \"# Responses\"}\n",
    "                                                            )\n",
    "                         ), #learn code\n",
    "                ]), #spinner\n",
    "            ])# col\n",
    "        ]), #row\n",
    "        \n",
    "        dbc.Row([ #dropdown para el primer grafico\n",
    "                    dbc.Col([dcc.Loading([\n",
    "                        dcc.Graph(id = 'Age1stCode', figure  =\n",
    "                            (px.bar(graficosRespuesta(df21, \"Age1stCode\"), y=\"Age1stCode\", x= 'responses',\n",
    "                                    orientation = \"h\",text_auto= True, title = \"Writing the first line of code\", \n",
    "                                    color_discrete_sequence = px.colors.qualitative.Safe,\n",
    "                                   labels={\"Age1stCode\": \"Age start coding\", \"responses\": \"# Responses\"}))\n",
    "                                  .update_layout({'plot_bgcolor': 'rgba(0, 0, 0, 0)','paper_bgcolor': 'rgba(0, 0, 0, 0)',})\n",
    "                                  .update_layout(yaxis_title=None)\n",
    "                                  .update_xaxes(tickformat=\"000\")\n",
    "                                 \n",
    "                                 ), #Age1stCode \n",
    "                        ]), #spinner\n",
    "                    ]),#col\n",
    "                    dbc.Col([dcc.Loading([\n",
    "                        dcc.Graph(id = 'EdLearn', figure  =\n",
    "                        (px.bar(graficosRespuesta(df21, \"EdLevel\"), y=\"EdLevel\", x= 'responses',\n",
    "                                orientation = \"h\",text_auto= True, title = \"Educational level\", \n",
    "                                color_discrete_sequence = px.colors.qualitative.Safe, \n",
    "                               labels={\"EdLevel\": \"Ed Level\", \"responses\": \"# Responses\"}))\n",
    "                                  .update_layout({'plot_bgcolor': 'rgba(0, 0, 0, 0)','paper_bgcolor': 'rgba(0, 0, 0, 0)',})\n",
    "                                  .update_layout(yaxis_title=None) \n",
    "\n",
    "                            ), #edLearn\n",
    "                        ]), #spinner\n",
    "                    ]), #col\n",
    "                     \n",
    "                ]), #row \n",
    "                    \n",
    "\n",
    "            ]) #div\n"
   ]
  },
  {
   "cell_type": "code",
   "execution_count": 4,
   "id": "55040324",
   "metadata": {
    "pycharm": {
     "name": "#%%\n"
    },
    "scrolled": true
   },
   "outputs": [
    {
     "name": "stdout",
     "output_type": "stream",
     "text": [
      "Dash is running on http://127.0.0.1:8050/\n",
      "\n",
      "Dash is running on http://127.0.0.1:8050/\n",
      "\n",
      " * Serving Flask app \"__main__\" (lazy loading)\n",
      " * Serving Flask app \"__main__\" (lazy loading)\n",
      " * Environment: production\n",
      " * Environment: production\n",
      "\u001b[31m   WARNING: This is a development server. Do not use it in a production deployment.\u001b[0m\n",
      "\u001b[31m   WARNING: This is a development server. Do not use it in a production deployment.\u001b[0m\n",
      "\u001b[2m   Use a production WSGI server instead.\u001b[0m\n",
      "\u001b[2m   Use a production WSGI server instead.\u001b[0m\n",
      " * Debug mode: on\n",
      " * Debug mode: on\n"
     ]
    }
   ],
   "source": [
    "app.run_server(debug=True, use_reloader=False)"
   ]
  }
 ],
 "metadata": {
  "kernelspec": {
   "display_name": "Python 3 (ipykernel)",
   "language": "python",
   "name": "python3"
  },
  "language_info": {
   "codemirror_mode": {
    "name": "ipython",
    "version": 3
   },
   "file_extension": ".py",
   "mimetype": "text/x-python",
   "name": "python",
   "nbconvert_exporter": "python",
   "pygments_lexer": "ipython3",
   "version": "3.9.7"
  }
 },
 "nbformat": 4,
 "nbformat_minor": 5
}

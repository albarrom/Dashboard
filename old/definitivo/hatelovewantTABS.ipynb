{
 "cells": [
  {
   "cell_type": "markdown",
   "id": "521584a5",
   "metadata": {
    "pycharm": {
     "name": "#%% md\n"
    }
   },
   "source": [
    "# have vs love vs want\n",
    "\n",
    "[stacked bar(px)](https://plotly.com/python/bar-charts/)\n",
    "\n",
    "## 1. importar las librerías + csv con los datos de la encuesta. "
   ]
  },
  {
   "cell_type": "code",
   "execution_count": 1,
   "id": "2f791c2a",
   "metadata": {
    "pycharm": {
     "name": "#%%\n"
    }
   },
   "outputs": [],
   "source": [
    "# importar librerias\n",
    "\n",
    "import pandas as pd\n",
    "import plotly.express as px  \n",
    "import plotly.graph_objects as go\n",
    "\n",
    "import webbrowser\n",
    "from threading import Timer\n",
    "import numpy as np\n",
    "import dash\n",
    "from dash import Dash, dcc, html, Input, Output, State\n",
    "import dash_bootstrap_components as dbc #bootstrap\n",
    "\n",
    "\n",
    "from collections import Counter\n",
    "from itertools import chain\n",
    "import time\n",
    "df21 = pd.read_csv ('../../data/survey_results_public2021.csv', index_col = [0]) # El indice sera la columna con el ID de la respuesta\n"
   ]
  },
  {
   "cell_type": "markdown",
   "id": "cbeb6be9",
   "metadata": {
    "pycharm": {
     "name": "#%% md\n"
    }
   },
   "source": [
    "## 2. Preprocesar datos.\n",
    "\n",
    "Tratar las columnas/conjunto de datos para comenzar a crear los gráficos. "
   ]
  },
  {
   "cell_type": "code",
   "execution_count": null,
   "id": "67f42a40",
   "metadata": {
    "pycharm": {
     "name": "#%%\n"
    }
   },
   "outputs": [],
   "source": []
  },
  {
   "cell_type": "code",
   "execution_count": 2,
   "id": "b0fff3a9",
   "metadata": {
    "pycharm": {
     "name": "#%%\n"
    }
   },
   "outputs": [],
   "source": [
    "# copiamos elementos que no sean NaN\n",
    "\n",
    "\n",
    "def loveHateWant (df, columna1, columna2):\n",
    "    #df2=df[['DatabaseHaveWorkedWith','DatabaseWantToWorkWith']].dropna().copy()\n",
    "    df2=df[[columna1, columna2]].dropna().copy()\n",
    "    \n",
    "    df3=pd.DataFrame()\n",
    "\n",
    "\n",
    "    df3['love'] = [set(x[0].split(';')) & set(x[1].split(';')) for x in df2.values]\n",
    "    df3['hate'] = [set(x[0].split(';')) - set(x[1].split(';')) for x in df2.values]\n",
    "    df3['want'] = [set(x[1].split(';')) - set(x[0].split(';')) for x in df2.values] \n",
    "\n",
    "\n",
    "    df_counts = (pd.DataFrame([Counter(chain.from_iterable(df3[column]))\n",
    "                    for column in df3.columns],\n",
    "                    index=['love', 'hate', 'want'])\n",
    "                    .fillna(0)\n",
    "                    .T\n",
    "                    .sort_index()\n",
    ")\n",
    "\n",
    "    \n",
    "    return df_counts\n"
   ]
  },
  {
   "cell_type": "markdown",
   "id": "972c8dd3",
   "metadata": {
    "pycharm": {
     "name": "#%% md\n"
    }
   },
   "source": [
    "## 3. Grafico. \n",
    "\n",
    "En este caso, un diagrama de barras."
   ]
  },
  {
   "cell_type": "code",
   "execution_count": 3,
   "id": "0c8fa867",
   "metadata": {
    "pycharm": {
     "name": "#%%\n"
    }
   },
   "outputs": [],
   "source": [
    "app = dash.Dash(__name__, external_stylesheets=[dbc.themes.BOOTSTRAP],\n",
    "                meta_tags=[{'name': 'viewport', #permite ser responsive en movil\n",
    "                            'content': 'width=device-width, initial-scale=1.0, maximum-scale=1.2, minimum-scale=0.5,'}],\n",
    "                #long_callback_manager=long_callback_manager\n",
    "               )\n",
    "\n",
    "app.layout = html.Div([\n",
    "    \n",
    "#     html.Div( id = \"div-loading\",\n",
    "             \n",
    "#              children=[\n",
    "    \n",
    "#     #spiner\n",
    "#        #color = \"#FFFF\" se puede añadir un hex color sise quiere\n",
    "#             dbc.Spinner( size=\"lg\", color=\"primary\", type=\"border\", \n",
    "#                         fullscreen=True, id=\"initial-spinner\"),\n",
    "#             # spinner_style={\"width\": \"10rem\", \"height\": \"10rem\"}), esto lo hace mas grande, pero hay que quitar el \n",
    "#           #parametro size para que no se contradigan\n",
    "#             # spinnerClassName=\"spinner\"), #añadir css desde assets. No en mi caso.\n",
    "#             # dcc.Loading(children=[dcc.Graph(id=\"loading-output\")], color=\"#119DFF\", type=\"dot\", fullscreen=True,),\n",
    "\n",
    "#             #width={'size': 12, 'offset': 0}),\n",
    "#         ]\n",
    "#             ),\n",
    "    \n",
    "    #spiner\n",
    "             \n",
    "    \n",
    "    html.Div(\n",
    "                 className=\"div-app\",\n",
    "                 id=\"div-app\",\n",
    "                 children = [ #whole app layout here.\n",
    "                     \n",
    "    \n",
    "    \n",
    "                dbc.Row([\n",
    "                        dbc.Tabs([\n",
    "                            dbc.Tab(label='Databases', tab_id='db',labelClassName=\"text-primary font-weight-bold\", activeLabelClassName=\"text-info\"),\n",
    "                            dbc.Tab(label='Languages', tab_id='lang', labelClassName=\"text-primary font-weight-bold\", activeLabelClassName=\"text-info\"), \n",
    "                            dbc.Tab(label='Platform', tab_id='plat', labelClassName=\"text-primary font-weight-bold\", activeLabelClassName=\"text-info\"), \n",
    "                            dbc.Tab(label='webframe', tab_id='web', labelClassName=\"text-primary font-weight-bold\", activeLabelClassName=\"text-info\"), \n",
    "                            dbc.Tab(label='Miscelaneous', tab_id='misc', labelClassName=\"text-primary font-weight-bold\", activeLabelClassName=\"text-info\"), \n",
    "                            dbc.Tab(label='Tools', tab_id='tools', labelClassName=\"text-primary font-weight-bold\", activeLabelClassName=\"text-info\"), \n",
    "                            dbc.Tab(label='Collab', tab_id='colab', labelClassName=\"text-primary font-weight-bold\", activeLabelClassName=\"text-info\"),\n",
    "                            ],\n",
    "                            id=\"tabs\",\n",
    "                            active_tab=\"db\",\n",
    "                        ),\n",
    "                    #dcc.Loading([\n",
    "                    dbc.CardBody(html.P(id=\"tab-content\", className=\"card-text\")),\n",
    "                    #]),\n",
    "            ])\n",
    "                     \n",
    "                 ])\n",
    "])\n",
    "\n",
    "\n"
   ]
  },
  {
   "cell_type": "code",
   "execution_count": 4,
   "id": "0a7378d8",
   "metadata": {
    "pycharm": {
     "name": "#%%\n"
    }
   },
   "outputs": [],
   "source": [
    "\n",
    "#tabs\n",
    "\n",
    "@app.callback(\n",
    "    output=Output(\"tab-content\", \"children\"),\n",
    "    inputs=Input(\"tabs\", \"active_tab\"),\n",
    "#     manager=long_callback_manager,\n",
    "#     prevent_initial_call=True,\n",
    ")\n",
    "    \n",
    "def tab_content(active_tab):\n",
    "    \n",
    "    df = pd.DataFrame()\n",
    "    \n",
    "    nameColumns= ['DatabaseHaveWorkedWith', 'DatabaseWantToWorkWith', 'LanguageHaveWorkedWith', 'LanguageWantToWorkWith',\n",
    "   'PlatformHaveWorkedWith', 'PlatformWantToWorkWith', 'WebframeHaveWorkedWith', 'WebframeWantToWorkWith',\n",
    "   'MiscTechHaveWorkedWith', 'MiscTechWantToWorkWith', 'ToolsTechHaveWorkedWith', 'ToolsTechWantToWorkWith',\n",
    "   'NEWCollabToolsHaveWorkedWith', 'NEWCollabToolsWantToWorkWith']\n",
    "    #valores para iterar en las posiciones del array namColumns\n",
    "    col1 = 0\n",
    "    col2 = 0\n",
    "\n",
    "    \n",
    "    name = [\"Databases\", \"Languages\", \"Platforms\", \"Webframes\", \"Miscelaneous Tech\", \"Tools\", \"Collab tools\"]\n",
    "    orden = 0 \n",
    "    \n",
    "    if active_tab is not None: #para evitar un error hay que añadir un caso donde active_tab sste vacio\n",
    "        if active_tab ==\"db\":\n",
    "            col1 = 0 # posicion de columna en namecolumns : DatabaseHaveWorkedWith\n",
    "            col2 = 1\n",
    "            orden = 0 #posicion de name : Databases\n",
    "            \n",
    "        elif active_tab == \"lang\":\n",
    "            col1 = 2\n",
    "            col2 = 3\n",
    "            orden = 1\n",
    "            \n",
    "        elif active_tab == \"plat\":\n",
    "            col1 = 4\n",
    "            col2 = 5\n",
    "            orden = 2\n",
    "            \n",
    "        elif active_tab == \"web\":\n",
    "            col1 = 6\n",
    "            col2 = 7\n",
    "            orden = 3\n",
    "            \n",
    "        elif active_tab == \"misc\":\n",
    "            col1 = 8\n",
    "            col2 = 9\n",
    "            orden = 4\n",
    "            \n",
    "        elif active_tab == \"tools\":\n",
    "            col1 = 10\n",
    "            col2 = 11\n",
    "            orden = 5\n",
    "            \n",
    "        elif active_tab == \"colab\":\n",
    "            col1 = 12\n",
    "            col2 = 13\n",
    "            orden = 6\n",
    "        \n",
    "        df = loveHateWant (df21, nameColumns[col1], nameColumns[col2])\n",
    "        \n",
    "        fig = px.bar(df, x = ['love', 'hate', 'want'], y = df.index,               \n",
    "                 #template = 'plotly_dark',\n",
    "                 color_discrete_sequence = px.colors.qualitative.T10, \n",
    "                 title = 'Love Vs Hate Vs Want:'+ name[orden],\n",
    "                 #title = 'Love Vs Hate Vs Want: Collab tools',\n",
    "                 orientation = 'h',\n",
    "            )\n",
    "        \n",
    "        #nombre de ejes\n",
    "        fig.update_yaxes(title_text=name[orden])\n",
    "        fig.update_xaxes(title_text=\"# Responses\")\n",
    "            \n",
    "        #quitar color y grid del grafico\n",
    "        fig.update_layout({'plot_bgcolor': 'rgba(0, 0, 0, 0)','paper_bgcolor': 'rgba(0, 0, 0, 0)',}) #fondo transparente\n",
    "        fig.update_layout(xaxis=dict(showgrid=False), yaxis=dict(showgrid=False)) #eliminar grid\n",
    "            \n",
    "        return dcc.Graph(figure=fig, style={'height': '90vh'}) \n",
    "        \n",
    "        \n",
    "    return html.P(\"This shouldn't ever be displayed...\")\n",
    "    \n",
    "    "
   ]
  },
  {
   "cell_type": "markdown",
   "id": "8d8d58dd",
   "metadata": {
    "pycharm": {
     "name": "#%% md\n"
    }
   },
   "source": [
    "## 4. run server"
   ]
  },
  {
   "cell_type": "code",
   "execution_count": null,
   "id": "85e4bc8e",
   "metadata": {
    "pycharm": {
     "name": "#%%\n"
    }
   },
   "outputs": [
    {
     "name": "stdout",
     "output_type": "stream",
     "text": [
      "Dash is running on http://127.0.0.1:8050/\n",
      "\n",
      " * Serving Flask app \"__main__\" (lazy loading)\n",
      " * Environment: production\n",
      "\u001b[31m   WARNING: This is a development server. Do not use it in a production deployment.\u001b[0m\n",
      "\u001b[2m   Use a production WSGI server instead.\u001b[0m\n",
      " * Debug mode: on\n"
     ]
    }
   ],
   "source": [
    "app.run_server(debug=True, use_reloader=False)"
   ]
  },
  {
   "cell_type": "code",
   "execution_count": null,
   "id": "f0673f9d",
   "metadata": {
    "pycharm": {
     "name": "#%%\n"
    }
   },
   "outputs": [],
   "source": []
  },
  {
   "cell_type": "code",
   "execution_count": null,
   "id": "1894aa6c",
   "metadata": {
    "pycharm": {
     "name": "#%%\n"
    }
   },
   "outputs": [],
   "source": []
  },
  {
   "cell_type": "code",
   "execution_count": null,
   "id": "85fb40dc",
   "metadata": {
    "pycharm": {
     "name": "#%%\n"
    }
   },
   "outputs": [],
   "source": []
  }
 ],
 "metadata": {
  "kernelspec": {
   "display_name": "Python 3 (ipykernel)",
   "language": "python",
   "name": "python3"
  },
  "language_info": {
   "codemirror_mode": {
    "name": "ipython",
    "version": 3
   },
   "file_extension": ".py",
   "mimetype": "text/x-python",
   "name": "python",
   "nbconvert_exporter": "python",
   "pygments_lexer": "ipython3",
   "version": "3.9.7"
  }
 },
 "nbformat": 4,
 "nbformat_minor": 5
}

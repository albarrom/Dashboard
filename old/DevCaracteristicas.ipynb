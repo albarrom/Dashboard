{
 "cells": [
  {
   "cell_type": "markdown",
   "id": "a8f102ce",
   "metadata": {},
   "source": [
    "# Caracteristicas por tipo de Dev. \n",
    "\n",
    "[Sunburst(px)](https://plotly.com/python/sunburst-charts/)"
   ]
  },
  {
   "cell_type": "code",
   "execution_count": 1,
   "id": "464c5352",
   "metadata": {},
   "outputs": [],
   "source": [
    "# importar librerias\n",
    "import numpy as np\n",
    "import pandas as pd\n",
    "import plotly.express as px  \n",
    "import plotly.graph_objects as go\n",
    "from plotly.subplots import make_subplots\n",
    "from dash import Dash, dcc, html, Input, Output\n",
    "import us\n",
    "from scipy import stats\n",
    "import textwrap\n",
    "\n",
    "df = pd.read_csv('../data/survey_results_public2021.csv', engine=\"c\",\n",
    "                  usecols= [\"MainBranch\",\"Country\",\"US_State\",\"EdLevel\", \"Age\", \"Employment\",\n",
    "                   \"Age1stCode\",\"LearnCode\",\"YearsCode\",\"YearsCodePro\",\"DevType\",\"OpSys\",\"NEWStuck\",\n",
    "               \"ConvertedCompYearly\", \"LanguageHaveWorkedWith\", \"LanguageWantToWorkWith\",\"DatabaseHaveWorkedWith\",\n",
    "               \"DatabaseWantToWorkWith\", \"PlatformHaveWorkedWith\",\"PlatformWantToWorkWith\",\n",
    "               \"WebframeHaveWorkedWith\", \"WebframeWantToWorkWith\",\"MiscTechHaveWorkedWith\",\n",
    "               \"MiscTechWantToWorkWith\", \"ToolsTechHaveWorkedWith\",\"ToolsTechWantToWorkWith\",\n",
    "               'NEWCollabToolsHaveWorkedWith', 'NEWCollabToolsWantToWorkWith', \"ConvertedCompYearly\"])# El indice sera la columna con el ID de la respuesta\n"
   ]
  },
  {
   "cell_type": "markdown",
   "id": "3ca19d5d",
   "metadata": {},
   "source": [
    "# procesar datos."
   ]
  },
  {
   "cell_type": "code",
   "execution_count": 2,
   "id": "1020627c",
   "metadata": {
    "scrolled": false
   },
   "outputs": [],
   "source": [
    "def caracteristicasDev (df):\n",
    "    \n",
    "    df4=df[['DevType','YearsCode','YearsCodePro', 'Age','LearnCode','Employment','ConvertedCompYearly']].dropna().copy()\n",
    "\n",
    "    #eliminar info no relevante\n",
    "    df4.drop(df4[df4['YearsCodePro'] == \"Less than 1 year\"].index, inplace = True) \n",
    "    df4.drop(df4[df4['YearsCodePro'] == \"More than 50 years\"].index, inplace = True)\n",
    "\n",
    "    df4.drop(df4[df4['YearsCode'] == \"Less than 1 year\"].index, inplace = True) \n",
    "    df4.drop(df4[df4['YearsCode'] == \"More than 50 years\"].index, inplace = True)\n",
    "\n",
    "    #spit cada fila de la columna DevType por cada ; y agrupar el nuevo df por esa columna. \n",
    "    df5 = df4.assign(DevType=df4['DevType'].str.split(';')).explode('DevType').groupby('DevType').agg(median_pro=('YearsCodePro', 'median'), #nueva columna que calculara la media de yearscodepro\n",
    "                     median_code=('YearsCode','median'), \n",
    "                     avg_money=('ConvertedCompYearly','mean'),                                                                                   \n",
    "                     respuestas=('DevType','count')).reset_index().round(2) #reiniciar el indice\n",
    "    #eliminar datos irrelevantes\n",
    "    df5.drop(df5[df5['DevType'] == \"Other (please specify):\"].index, inplace = True) \n",
    "\n",
    "    #nuevo df\n",
    "    df6=df4[['DevType','LearnCode']].dropna().copy()\n",
    "\n",
    "    #separar todos los valores de las columnas devtype y LearnCode\n",
    "    df6 = (df6.explode(df6.columns.tolist())\n",
    "          .apply(lambda col: col.str.split(';'))\n",
    "          .explode('DevType')\n",
    "          .explode('LearnCode'))\n",
    "\n",
    "\n",
    "    #calcular la moda de learn code por tipo de dev \n",
    "    #La moda estadística es aquel valor que, dentro de un conjunto de datos, se repite el mayor número de veces.\n",
    "    mode =df6.groupby('DevType')['LearnCode'].apply(lambda x: x.mode()).reset_index()\n",
    "\n",
    "    df5['LearnCode'] = mode[\"LearnCode\"]\n",
    "    \n",
    "    \n",
    "    return df5\n"
   ]
  },
  {
   "cell_type": "code",
   "execution_count": 3,
   "id": "f65b54ed",
   "metadata": {},
   "outputs": [],
   "source": [
    "# caracteristicasDev(df)  # ver df\n"
   ]
  },
  {
   "cell_type": "markdown",
   "id": "7dd6fc4e",
   "metadata": {},
   "source": [
    "# layout"
   ]
  },
  {
   "cell_type": "code",
   "execution_count": 4,
   "id": "3ea9c3e0",
   "metadata": {},
   "outputs": [],
   "source": [
    "app = Dash(__name__)\n",
    "app.layout = html.Div([\n",
    "\n",
    "    html.H1(\"Tipo de desarrollador\", style={'text-align': 'center'}), #cabecero h1. Header\n",
    "    \n",
    "    #primera mini prueba con un menu desplegable.\n",
    "    dcc.Dropdown(id=\"select_opt\",  \n",
    "                 options=[ #el usuario va a ver las label.\n",
    "                     {\"label\": \"2021\", \"value\": \"2021\"},\n",
    "                     {\"label\": \"2020\", \"value\": \"2020\"}],\n",
    "                 multi=False,\n",
    "                 value=\"2021\",\n",
    "                 style={'width': \"40%\"}\n",
    "                 ),\n",
    "\n",
    "    dcc.Graph(id='my_survey', figure={}, style = {'height':'90vh'}) # graph container\n",
    "\n",
    "])"
   ]
  },
  {
   "cell_type": "markdown",
   "id": "98794272",
   "metadata": {},
   "source": [
    "# callback"
   ]
  },
  {
   "cell_type": "code",
   "execution_count": 5,
   "id": "92f584ed",
   "metadata": {},
   "outputs": [],
   "source": [
    "@app.callback(\n",
    "    Output(component_id='my_survey', component_property='figure'),\n",
    "    Input(component_id='select_opt', component_property='value'))\n",
    "def update_graph(option_slctd):\n",
    "    \n",
    "\n",
    "#DevType\tmedian_pro\tmedian_code\tavg_money\trespuestas\tLearnCode\n",
    "\n",
    "#barras\n",
    "#     fig = px.bar(caracteristicasDev(df), y=\"DevType\", x= [\"median_pro\", \"median_code\"],\n",
    "#              orientation = \"h\", barmode = 'group',\n",
    "#               text_auto= True)\n",
    "    \n",
    "    fig = px.sunburst(caracteristicasDev(df), path=['DevType'], values=\"avg_money\",\n",
    "                                hover_data=['median_pro', \"median_code\", \"avg_money\", \"LearnCode\", \"respuestas\"],\n",
    "                                labels={'median_pro': 'Years Coding Profesionaly (median)',\n",
    "                                        'median_code': 'Years Coding (median)',\n",
    "                                        'avg_money': 'Average salary ($)', 'DevType': 'Dev type'},\n",
    "                                color_discrete_sequence=px.colors.qualitative.Pastel, hover_name=\"DevType\")\n",
    "    return fig"
   ]
  },
  {
   "cell_type": "markdown",
   "id": "2a1b2426",
   "metadata": {},
   "source": [
    "# run"
   ]
  },
  {
   "cell_type": "code",
   "execution_count": 6,
   "id": "55040324",
   "metadata": {
    "scrolled": true
   },
   "outputs": [
    {
     "name": "stdout",
     "output_type": "stream",
     "text": [
      "Dash is running on http://127.0.0.1:8050/\n",
      "\n",
      " * Serving Flask app \"__main__\" (lazy loading)\n",
      " * Environment: production\n",
      "\u001b[31m   WARNING: This is a development server. Do not use it in a production deployment.\u001b[0m\n",
      "\u001b[2m   Use a production WSGI server instead.\u001b[0m\n",
      " * Debug mode: on\n"
     ]
    }
   ],
   "source": [
    "app.run_server(debug=True, use_reloader=False)"
   ]
  },
  {
   "cell_type": "code",
   "execution_count": null,
   "id": "f00c2fef",
   "metadata": {},
   "outputs": [],
   "source": []
  },
  {
   "cell_type": "code",
   "execution_count": null,
   "id": "5dc15458",
   "metadata": {},
   "outputs": [],
   "source": []
  }
 ],
 "metadata": {
  "kernelspec": {
   "display_name": "Python 3 (ipykernel)",
   "language": "python",
   "name": "python3"
  },
  "language_info": {
   "codemirror_mode": {
    "name": "ipython",
    "version": 3
   },
   "file_extension": ".py",
   "mimetype": "text/x-python",
   "name": "python",
   "nbconvert_exporter": "python",
   "pygments_lexer": "ipython3",
   "version": "3.9.7"
  }
 },
 "nbformat": 4,
 "nbformat_minor": 5
}

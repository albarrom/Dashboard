{
 "cells": [
  {
   "cell_type": "markdown",
   "id": "428b6880",
   "metadata": {},
   "source": [
    "# [Line chart (con porcentaje)](https://plotly.com/python/line-charts/)\n",
    "\n",
    "Eje x = MainBranch.\n",
    "\n",
    "Eje y = total (con numero y porcentaje).\n",
    "\n",
    "## 1. importar las librerías + csv con los datos de la encuesta. "
   ]
  },
  {
   "cell_type": "code",
   "execution_count": 1,
   "id": "575dc80f",
   "metadata": {},
   "outputs": [
    {
     "ename": "ImportError",
     "evalue": "cannot import name 'escape' from 'jinja2' (C:\\Users\\alba\\anaconda3\\lib\\site-packages\\jinja2\\__init__.py)",
     "output_type": "error",
     "traceback": [
      "\u001b[1;31m---------------------------------------------------------------------------\u001b[0m",
      "\u001b[1;31mImportError\u001b[0m                               Traceback (most recent call last)",
      "Input \u001b[1;32mIn [1]\u001b[0m, in \u001b[0;36m<cell line: 5>\u001b[1;34m()\u001b[0m\n\u001b[0;32m      3\u001b[0m \u001b[38;5;28;01mimport\u001b[39;00m \u001b[38;5;21;01mpandas\u001b[39;00m \u001b[38;5;28;01mas\u001b[39;00m \u001b[38;5;21;01mpd\u001b[39;00m\n\u001b[0;32m      4\u001b[0m \u001b[38;5;28;01mimport\u001b[39;00m \u001b[38;5;21;01mplotly\u001b[39;00m\u001b[38;5;21;01m.\u001b[39;00m\u001b[38;5;21;01mexpress\u001b[39;00m \u001b[38;5;28;01mas\u001b[39;00m \u001b[38;5;21;01mpx\u001b[39;00m  \n\u001b[1;32m----> 5\u001b[0m \u001b[38;5;28;01mfrom\u001b[39;00m \u001b[38;5;21;01mdash\u001b[39;00m \u001b[38;5;28;01mimport\u001b[39;00m Dash, dcc, html, Input, Output\n\u001b[0;32m      7\u001b[0m \u001b[38;5;66;03m#crear un dataframe con toda la informacion de la encuesta\u001b[39;00m\n\u001b[0;32m      8\u001b[0m df_csv \u001b[38;5;241m=\u001b[39m pd\u001b[38;5;241m.\u001b[39mread_csv (\u001b[38;5;124m'\u001b[39m\u001b[38;5;124msurvey/survey_results_public2021.csv\u001b[39m\u001b[38;5;124m'\u001b[39m, index_col \u001b[38;5;241m=\u001b[39m [\u001b[38;5;241m0\u001b[39m]) \u001b[38;5;66;03m# El indice sera la columna con el ID de la respuesta\u001b[39;00m\n",
      "File \u001b[1;32m~\\anaconda3\\lib\\site-packages\\dash\\__init__.py:5\u001b[0m, in \u001b[0;36m<module>\u001b[1;34m\u001b[0m\n\u001b[0;32m      1\u001b[0m \u001b[38;5;66;03m# pylint: disable=C0413\u001b[39;00m\n\u001b[0;32m      2\u001b[0m \u001b[38;5;66;03m# __plotly_dash is for the \"make sure you don't have a dash.py\" check\u001b[39;00m\n\u001b[0;32m      3\u001b[0m \u001b[38;5;66;03m# must come before any other imports.\u001b[39;00m\n\u001b[0;32m      4\u001b[0m __plotly_dash \u001b[38;5;241m=\u001b[39m \u001b[38;5;28;01mTrue\u001b[39;00m\n\u001b[1;32m----> 5\u001b[0m \u001b[38;5;28;01mfrom\u001b[39;00m \u001b[38;5;21;01m.\u001b[39;00m\u001b[38;5;21;01mdash\u001b[39;00m \u001b[38;5;28;01mimport\u001b[39;00m Dash, no_update  \u001b[38;5;66;03m# noqa: F401,E402\u001b[39;00m\n\u001b[0;32m      6\u001b[0m \u001b[38;5;28;01mfrom\u001b[39;00m \u001b[38;5;21;01m.\u001b[39;00m\u001b[38;5;21;01mdependencies\u001b[39;00m \u001b[38;5;28;01mimport\u001b[39;00m (  \u001b[38;5;66;03m# noqa: F401,E402\u001b[39;00m\n\u001b[0;32m      7\u001b[0m     Input,  \u001b[38;5;66;03m# noqa: F401,E402\u001b[39;00m\n\u001b[0;32m      8\u001b[0m     Output,  \u001b[38;5;66;03m# noqa: F401,E402\u001b[39;00m\n\u001b[1;32m   (...)\u001b[0m\n\u001b[0;32m     13\u001b[0m     ALLSMALLER,  \u001b[38;5;66;03m# noqa: F401,E402\u001b[39;00m\n\u001b[0;32m     14\u001b[0m )  \u001b[38;5;66;03m# noqa: F401,E402\u001b[39;00m\n\u001b[0;32m     15\u001b[0m \u001b[38;5;28;01mfrom\u001b[39;00m \u001b[38;5;21;01m.\u001b[39;00m \u001b[38;5;28;01mimport\u001b[39;00m development  \u001b[38;5;66;03m# noqa: F401,E402\u001b[39;00m\n",
      "File \u001b[1;32m~\\anaconda3\\lib\\site-packages\\dash\\dash.py:16\u001b[0m, in \u001b[0;36m<module>\u001b[1;34m\u001b[0m\n\u001b[0;32m     13\u001b[0m \u001b[38;5;28;01mimport\u001b[39;00m \u001b[38;5;21;01mbase64\u001b[39;00m\n\u001b[0;32m     14\u001b[0m \u001b[38;5;28;01mfrom\u001b[39;00m \u001b[38;5;21;01murllib\u001b[39;00m\u001b[38;5;21;01m.\u001b[39;00m\u001b[38;5;21;01mparse\u001b[39;00m \u001b[38;5;28;01mimport\u001b[39;00m urlparse\n\u001b[1;32m---> 16\u001b[0m \u001b[38;5;28;01mimport\u001b[39;00m \u001b[38;5;21;01mflask\u001b[39;00m\n\u001b[0;32m     17\u001b[0m \u001b[38;5;28;01mfrom\u001b[39;00m \u001b[38;5;21;01mflask_compress\u001b[39;00m \u001b[38;5;28;01mimport\u001b[39;00m Compress\n\u001b[0;32m     18\u001b[0m \u001b[38;5;28;01mfrom\u001b[39;00m \u001b[38;5;21;01mwerkzeug\u001b[39;00m\u001b[38;5;21;01m.\u001b[39;00m\u001b[38;5;21;01mdebug\u001b[39;00m\u001b[38;5;21;01m.\u001b[39;00m\u001b[38;5;21;01mtbtools\u001b[39;00m \u001b[38;5;28;01mimport\u001b[39;00m get_current_traceback\n",
      "File \u001b[1;32m~\\anaconda3\\lib\\site-packages\\flask\\__init__.py:14\u001b[0m, in \u001b[0;36m<module>\u001b[1;34m\u001b[0m\n\u001b[0;32m      2\u001b[0m \u001b[38;5;124;03m\"\"\"\u001b[39;00m\n\u001b[0;32m      3\u001b[0m \u001b[38;5;124;03m    flask\u001b[39;00m\n\u001b[0;32m      4\u001b[0m \u001b[38;5;124;03m    ~~~~~\u001b[39;00m\n\u001b[1;32m   (...)\u001b[0m\n\u001b[0;32m     10\u001b[0m \u001b[38;5;124;03m    :license: BSD-3-Clause\u001b[39;00m\n\u001b[0;32m     11\u001b[0m \u001b[38;5;124;03m\"\"\"\u001b[39;00m\n\u001b[0;32m     12\u001b[0m \u001b[38;5;66;03m# utilities we import from Werkzeug and Jinja2 that are unused\u001b[39;00m\n\u001b[0;32m     13\u001b[0m \u001b[38;5;66;03m# in the module but are exported as public interface.\u001b[39;00m\n\u001b[1;32m---> 14\u001b[0m \u001b[38;5;28;01mfrom\u001b[39;00m \u001b[38;5;21;01mjinja2\u001b[39;00m \u001b[38;5;28;01mimport\u001b[39;00m escape\n\u001b[0;32m     15\u001b[0m \u001b[38;5;28;01mfrom\u001b[39;00m \u001b[38;5;21;01mjinja2\u001b[39;00m \u001b[38;5;28;01mimport\u001b[39;00m Markup\n\u001b[0;32m     16\u001b[0m \u001b[38;5;28;01mfrom\u001b[39;00m \u001b[38;5;21;01mwerkzeug\u001b[39;00m\u001b[38;5;21;01m.\u001b[39;00m\u001b[38;5;21;01mexceptions\u001b[39;00m \u001b[38;5;28;01mimport\u001b[39;00m abort\n",
      "\u001b[1;31mImportError\u001b[0m: cannot import name 'escape' from 'jinja2' (C:\\Users\\alba\\anaconda3\\lib\\site-packages\\jinja2\\__init__.py)"
     ]
    }
   ],
   "source": [
    "# importar librerias\n",
    "\n",
    "import pandas as pd\n",
    "import plotly.express as px  \n",
    "from dash import Dash, dcc, html, Input, Output\n",
    "\n",
    "#crear un dataframe con toda la informacion de la encuesta\n",
    "df_csv = pd.read_csv ('survey/survey_results_public2021.csv', index_col = [0]) # El indice sera la columna con el ID de la respuesta\n",
    "df_csv #mostrar df ()"
   ]
  },
  {
   "cell_type": "code",
   "execution_count": 2,
   "id": "aa0380e7",
   "metadata": {},
   "outputs": [],
   "source": [
    "# ver todos los tipos de datos diferentes que hay en una columna \n",
    "\n",
    "#df_csv.Employment.value_counts()"
   ]
  },
  {
   "cell_type": "markdown",
   "id": "3bd78771",
   "metadata": {},
   "source": [
    "## 2. Preprocesar datos.\n",
    "\n",
    "Tratar las columnas/conjunto de datos para comenzar a crear los gráficos."
   ]
  },
  {
   "cell_type": "code",
   "execution_count": 3,
   "id": "83bc9b76",
   "metadata": {},
   "outputs": [
    {
     "data": {
      "text/html": [
       "<div>\n",
       "<style scoped>\n",
       "    .dataframe tbody tr th:only-of-type {\n",
       "        vertical-align: middle;\n",
       "    }\n",
       "\n",
       "    .dataframe tbody tr th {\n",
       "        vertical-align: top;\n",
       "    }\n",
       "\n",
       "    .dataframe thead th {\n",
       "        text-align: right;\n",
       "    }\n",
       "</style>\n",
       "<table border=\"1\" class=\"dataframe\">\n",
       "  <thead>\n",
       "    <tr style=\"text-align: right;\">\n",
       "      <th></th>\n",
       "      <th>MainBranch</th>\n",
       "      <th>size</th>\n",
       "      <th>porcentaje</th>\n",
       "    </tr>\n",
       "  </thead>\n",
       "  <tbody>\n",
       "    <tr>\n",
       "      <th>0</th>\n",
       "      <td>I am a developer by profession</td>\n",
       "      <td>58153</td>\n",
       "      <td>69.695226</td>\n",
       "    </tr>\n",
       "    <tr>\n",
       "      <th>1</th>\n",
       "      <td>I am a student who is learning to code</td>\n",
       "      <td>12029</td>\n",
       "      <td>14.416520</td>\n",
       "    </tr>\n",
       "    <tr>\n",
       "      <th>2</th>\n",
       "      <td>I am not primarily a developer, but I write co...</td>\n",
       "      <td>6578</td>\n",
       "      <td>7.883604</td>\n",
       "    </tr>\n",
       "    <tr>\n",
       "      <th>3</th>\n",
       "      <td>I code primarily as a hobby</td>\n",
       "      <td>4929</td>\n",
       "      <td>5.907310</td>\n",
       "    </tr>\n",
       "    <tr>\n",
       "      <th>4</th>\n",
       "      <td>I used to be a developer by profession, but no...</td>\n",
       "      <td>1237</td>\n",
       "      <td>1.482520</td>\n",
       "    </tr>\n",
       "    <tr>\n",
       "      <th>5</th>\n",
       "      <td>Other</td>\n",
       "      <td>513</td>\n",
       "      <td>0.614820</td>\n",
       "    </tr>\n",
       "  </tbody>\n",
       "</table>\n",
       "</div>"
      ],
      "text/plain": [
       "                                          MainBranch   size  porcentaje\n",
       "0                     I am a developer by profession  58153   69.695226\n",
       "1             I am a student who is learning to code  12029   14.416520\n",
       "2  I am not primarily a developer, but I write co...   6578    7.883604\n",
       "3                        I code primarily as a hobby   4929    5.907310\n",
       "4  I used to be a developer by profession, but no...   1237    1.482520\n",
       "5                                              Other    513    0.614820"
      ]
     },
     "execution_count": 3,
     "metadata": {},
     "output_type": "execute_result"
    }
   ],
   "source": [
    "#se hace una copia del df.\n",
    "df= df_csv.copy()\n",
    "\n",
    "#normalizar todos los datos.\n",
    "df.loc[df[\"MainBranch\"] == \"None of these\", \"MainBranch\"] = \"Other\"\n",
    "\n",
    "#metodo antiguo. Se creaba una nueva columna y se contaban las ocurrencias\n",
    "#df['total']=1\n",
    "#df['Counts'] = df.groupby(['MainBranch'])['total'].transform('count')\n",
    "\n",
    "#nuevo metodo: usando groupby y size. \n",
    "#No tiene sentido tratar con todo el DF si tan solo se quiere tratar con los datos de una unica columna.\n",
    "df= df.groupby(['MainBranch',],as_index=False).size()\n",
    "\n",
    "#el % = valor*100 / total\n",
    "df['porcentaje'] = 100 *df['size']/ df['size'].sum()\n",
    "\n",
    "\n",
    "df #mostrar el nuevo df"
   ]
  },
  {
   "cell_type": "markdown",
   "id": "8982ce8e",
   "metadata": {},
   "source": [
    "## 3. Grafico. "
   ]
  },
  {
   "cell_type": "code",
   "execution_count": 4,
   "id": "bc4a7051",
   "metadata": {},
   "outputs": [],
   "source": [
    "app = Dash(__name__)\n",
    "app.layout = html.Div([\n",
    "\n",
    "    html.H1(\"Tipo de desarrollador\", style={'text-align': 'center'}), #cabecero h1. Header\n",
    "    \n",
    "    #primera mini prueba con un menu desplegable.\n",
    "    dcc.Dropdown(id=\"select_opt\",  \n",
    "                 options=[ #el usuario va a ver las label.\n",
    "                     {\"label\": \"#\", \"value\": \"numero\"},\n",
    "                     {\"label\": \"%\", \"value\": \"porcentaje\"}],\n",
    "                 multi=False,\n",
    "                 value=\"numero\",\n",
    "                 style={'width': \"40%\"}\n",
    "                 ),\n",
    "\n",
    "    dcc.Graph(id='my_survey', figure={}) # graph container\n",
    "\n",
    "])"
   ]
  },
  {
   "cell_type": "code",
   "execution_count": 5,
   "id": "cdc98256",
   "metadata": {},
   "outputs": [],
   "source": [
    "@app.callback(\n",
    "    Output(component_id='my_survey', component_property='figure'),\n",
    "    Input(component_id='select_opt', component_property='value'))\n",
    "def update_graph(option_slctd):\n",
    "    #filtered_df = df[df.year == selected_year]\n",
    "    if (option_slctd == \"numero\"):\n",
    "        fig = px.line(df, x= df['MainBranch'], \n",
    "                  y=df['size'])\n",
    "    else:\n",
    "        fig = px.line(df, x= df['MainBranch'], \n",
    "                  y=df['porcentaje'])\n",
    "\n",
    "        \n",
    "    \n",
    "    return fig"
   ]
  },
  {
   "cell_type": "code",
   "execution_count": null,
   "id": "13e90991",
   "metadata": {},
   "outputs": [],
   "source": []
  },
  {
   "cell_type": "code",
   "execution_count": 6,
   "id": "203c0201",
   "metadata": {},
   "outputs": [
    {
     "name": "stdout",
     "output_type": "stream",
     "text": [
      "Dash is running on http://127.0.0.1:8050/\n",
      "\n",
      " * Serving Flask app \"__main__\" (lazy loading)\n",
      " * Environment: production\n",
      "\u001b[31m   WARNING: This is a development server. Do not use it in a production deployment.\u001b[0m\n",
      "\u001b[2m   Use a production WSGI server instead.\u001b[0m\n",
      " * Debug mode: on\n"
     ]
    }
   ],
   "source": [
    "# si se pone el reloader en false, se pueden ver los debug \n",
    "\n",
    "app.run_server(debug=True, use_reloader=False)"
   ]
  },
  {
   "cell_type": "code",
   "execution_count": null,
   "id": "1eb2a934",
   "metadata": {},
   "outputs": [],
   "source": []
  }
 ],
 "metadata": {
  "kernelspec": {
   "display_name": "Python 3 (ipykernel)",
   "language": "python",
   "name": "python3"
  },
  "language_info": {
   "codemirror_mode": {
    "name": "ipython",
    "version": 3
   },
   "file_extension": ".py",
   "mimetype": "text/x-python",
   "name": "python",
   "nbconvert_exporter": "python",
   "pygments_lexer": "ipython3",
   "version": "3.9.12"
  }
 },
 "nbformat": 4,
 "nbformat_minor": 5
}
